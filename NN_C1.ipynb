{
  "cells": [
    {
      "cell_type": "code",
      "execution_count": null,
      "metadata": {
        "id": "7YmMub1Wl1os"
      },
      "outputs": [],
      "source": [
        "import numpy as np\n",
        "import pandas as pd\n",
        "import matplotlib.pyplot as plt\n",
        "import statistics as st\n",
        "import keras\n",
        "import glob\n",
        "from imblearn.under_sampling import RandomUnderSampler\n",
        "from keras.utils import to_categorical\n",
        "from sklearn.metrics import classification_report\n",
        "from sklearn.ensemble import RandomForestClassifier\n",
        "from sklearn.model_selection import train_test_split\n",
        "from sklearn import metrics\n",
        "from IPython import embed\n",
        "from imblearn.over_sampling import SMOTE \n",
        "from sklearn.tree import plot_tree\n",
        "from collections import Counter\n",
        "import pickle\n",
        "import os"
      ]
    },
    {
      "cell_type": "code",
      "execution_count": null,
      "metadata": {
        "id": "roPa7qoEl4Ru"
      },
      "outputs": [],
      "source": [
        "from google.colab import drive\n",
        "drive.mount('/content/drive',force_remount=True)"
      ]
    },
    {
      "cell_type": "code",
      "execution_count": null,
      "metadata": {
        "id": "klr-BV11l5BI"
      },
      "outputs": [],
      "source": [
        "train_path = '/content/drive/MyDrive/ECE542_sp2022_Project_TerrainRecognition/TrainingData/'\n",
        "test_path = '/content/drive/MyDrive/ECE542_sp2022_Project_TerrainRecognition/TestData/'"
      ]
    },
    {
      "cell_type": "code",
      "execution_count": null,
      "metadata": {
        "id": "dS3ylCPapWIG"
      },
      "outputs": [],
      "source": [
        "all_x_files = glob.glob(train_path + \"/subject_00*_*__x.csv\")\n",
        "all_x_time_files = glob.glob(train_path + \"/subject_00*_*__x_time.csv\")\n",
        "all_y_files = glob.glob(train_path + \"/subject_00*_*__y.csv\")\n",
        "all_y_time_files = glob.glob(train_path + \"/subject_00*_*__y_time.csv\")"
      ]
    },
    {
      "cell_type": "code",
      "execution_count": null,
      "metadata": {
        "id": "ID8xQtboYXCn"
      },
      "outputs": [],
      "source": [
        "subj1 = train_path + \"/subject_001_01__x.csv\"\n",
        "subj1_time = train_path + \"/subject_001_01__x_time.csv\""
      ]
    },
    {
      "cell_type": "code",
      "execution_count": null,
      "metadata": {
        "id": "_F_eQATppkut"
      },
      "outputs": [],
      "source": [
        "df1 = pd.read_csv(subj1, sep = ',', names = ['X_acc', 'Y_acc', 'Z_acc', 'X_gyr', 'Y_gyr', 'Z_gyr'])"
      ]
    },
    {
      "cell_type": "code",
      "execution_count": null,
      "metadata": {
        "id": "WWey_NJ4Yla5",
        "colab": {
          "base_uri": "https://localhost:8080/",
          "height": 206
        },
        "outputId": "3d75ab1b-b224-4df4-bd6d-3a38ed036613"
      },
      "outputs": [
        {
          "output_type": "execute_result",
          "data": {
            "text/plain": [
              "      X_acc     Y_acc     Z_acc     X_gyr     Y_gyr     Z_gyr\n",
              "0  4.435275  8.196063  2.974488  0.014215 -0.039157 -0.016744\n",
              "1  4.186920  8.344455  2.908057  0.005771 -0.004480 -0.003345\n",
              "2  4.544637  8.408659  2.890000  0.007967  0.022412  0.001159\n",
              "3  4.849308  8.411614  2.900692  0.027778 -0.010670 -0.014223\n",
              "4  4.509190  8.118649  2.847298  0.021577 -0.045498 -0.021111"
            ],
            "text/html": [
              "\n",
              "  <div id=\"df-682c1149-d125-4d49-8e3b-a361607c746c\">\n",
              "    <div class=\"colab-df-container\">\n",
              "      <div>\n",
              "<style scoped>\n",
              "    .dataframe tbody tr th:only-of-type {\n",
              "        vertical-align: middle;\n",
              "    }\n",
              "\n",
              "    .dataframe tbody tr th {\n",
              "        vertical-align: top;\n",
              "    }\n",
              "\n",
              "    .dataframe thead th {\n",
              "        text-align: right;\n",
              "    }\n",
              "</style>\n",
              "<table border=\"1\" class=\"dataframe\">\n",
              "  <thead>\n",
              "    <tr style=\"text-align: right;\">\n",
              "      <th></th>\n",
              "      <th>X_acc</th>\n",
              "      <th>Y_acc</th>\n",
              "      <th>Z_acc</th>\n",
              "      <th>X_gyr</th>\n",
              "      <th>Y_gyr</th>\n",
              "      <th>Z_gyr</th>\n",
              "    </tr>\n",
              "  </thead>\n",
              "  <tbody>\n",
              "    <tr>\n",
              "      <th>0</th>\n",
              "      <td>4.435275</td>\n",
              "      <td>8.196063</td>\n",
              "      <td>2.974488</td>\n",
              "      <td>0.014215</td>\n",
              "      <td>-0.039157</td>\n",
              "      <td>-0.016744</td>\n",
              "    </tr>\n",
              "    <tr>\n",
              "      <th>1</th>\n",
              "      <td>4.186920</td>\n",
              "      <td>8.344455</td>\n",
              "      <td>2.908057</td>\n",
              "      <td>0.005771</td>\n",
              "      <td>-0.004480</td>\n",
              "      <td>-0.003345</td>\n",
              "    </tr>\n",
              "    <tr>\n",
              "      <th>2</th>\n",
              "      <td>4.544637</td>\n",
              "      <td>8.408659</td>\n",
              "      <td>2.890000</td>\n",
              "      <td>0.007967</td>\n",
              "      <td>0.022412</td>\n",
              "      <td>0.001159</td>\n",
              "    </tr>\n",
              "    <tr>\n",
              "      <th>3</th>\n",
              "      <td>4.849308</td>\n",
              "      <td>8.411614</td>\n",
              "      <td>2.900692</td>\n",
              "      <td>0.027778</td>\n",
              "      <td>-0.010670</td>\n",
              "      <td>-0.014223</td>\n",
              "    </tr>\n",
              "    <tr>\n",
              "      <th>4</th>\n",
              "      <td>4.509190</td>\n",
              "      <td>8.118649</td>\n",
              "      <td>2.847298</td>\n",
              "      <td>0.021577</td>\n",
              "      <td>-0.045498</td>\n",
              "      <td>-0.021111</td>\n",
              "    </tr>\n",
              "  </tbody>\n",
              "</table>\n",
              "</div>\n",
              "      <button class=\"colab-df-convert\" onclick=\"convertToInteractive('df-682c1149-d125-4d49-8e3b-a361607c746c')\"\n",
              "              title=\"Convert this dataframe to an interactive table.\"\n",
              "              style=\"display:none;\">\n",
              "        \n",
              "  <svg xmlns=\"http://www.w3.org/2000/svg\" height=\"24px\"viewBox=\"0 0 24 24\"\n",
              "       width=\"24px\">\n",
              "    <path d=\"M0 0h24v24H0V0z\" fill=\"none\"/>\n",
              "    <path d=\"M18.56 5.44l.94 2.06.94-2.06 2.06-.94-2.06-.94-.94-2.06-.94 2.06-2.06.94zm-11 1L8.5 8.5l.94-2.06 2.06-.94-2.06-.94L8.5 2.5l-.94 2.06-2.06.94zm10 10l.94 2.06.94-2.06 2.06-.94-2.06-.94-.94-2.06-.94 2.06-2.06.94z\"/><path d=\"M17.41 7.96l-1.37-1.37c-.4-.4-.92-.59-1.43-.59-.52 0-1.04.2-1.43.59L10.3 9.45l-7.72 7.72c-.78.78-.78 2.05 0 2.83L4 21.41c.39.39.9.59 1.41.59.51 0 1.02-.2 1.41-.59l7.78-7.78 2.81-2.81c.8-.78.8-2.07 0-2.86zM5.41 20L4 18.59l7.72-7.72 1.47 1.35L5.41 20z\"/>\n",
              "  </svg>\n",
              "      </button>\n",
              "      \n",
              "  <style>\n",
              "    .colab-df-container {\n",
              "      display:flex;\n",
              "      flex-wrap:wrap;\n",
              "      gap: 12px;\n",
              "    }\n",
              "\n",
              "    .colab-df-convert {\n",
              "      background-color: #E8F0FE;\n",
              "      border: none;\n",
              "      border-radius: 50%;\n",
              "      cursor: pointer;\n",
              "      display: none;\n",
              "      fill: #1967D2;\n",
              "      height: 32px;\n",
              "      padding: 0 0 0 0;\n",
              "      width: 32px;\n",
              "    }\n",
              "\n",
              "    .colab-df-convert:hover {\n",
              "      background-color: #E2EBFA;\n",
              "      box-shadow: 0px 1px 2px rgba(60, 64, 67, 0.3), 0px 1px 3px 1px rgba(60, 64, 67, 0.15);\n",
              "      fill: #174EA6;\n",
              "    }\n",
              "\n",
              "    [theme=dark] .colab-df-convert {\n",
              "      background-color: #3B4455;\n",
              "      fill: #D2E3FC;\n",
              "    }\n",
              "\n",
              "    [theme=dark] .colab-df-convert:hover {\n",
              "      background-color: #434B5C;\n",
              "      box-shadow: 0px 1px 3px 1px rgba(0, 0, 0, 0.15);\n",
              "      filter: drop-shadow(0px 1px 2px rgba(0, 0, 0, 0.3));\n",
              "      fill: #FFFFFF;\n",
              "    }\n",
              "  </style>\n",
              "\n",
              "      <script>\n",
              "        const buttonEl =\n",
              "          document.querySelector('#df-682c1149-d125-4d49-8e3b-a361607c746c button.colab-df-convert');\n",
              "        buttonEl.style.display =\n",
              "          google.colab.kernel.accessAllowed ? 'block' : 'none';\n",
              "\n",
              "        async function convertToInteractive(key) {\n",
              "          const element = document.querySelector('#df-682c1149-d125-4d49-8e3b-a361607c746c');\n",
              "          const dataTable =\n",
              "            await google.colab.kernel.invokeFunction('convertToInteractive',\n",
              "                                                     [key], {});\n",
              "          if (!dataTable) return;\n",
              "\n",
              "          const docLinkHtml = 'Like what you see? Visit the ' +\n",
              "            '<a target=\"_blank\" href=https://colab.research.google.com/notebooks/data_table.ipynb>data table notebook</a>'\n",
              "            + ' to learn more about interactive tables.';\n",
              "          element.innerHTML = '';\n",
              "          dataTable['output_type'] = 'display_data';\n",
              "          await google.colab.output.renderOutput(dataTable, element);\n",
              "          const docLink = document.createElement('div');\n",
              "          docLink.innerHTML = docLinkHtml;\n",
              "          element.appendChild(docLink);\n",
              "        }\n",
              "      </script>\n",
              "    </div>\n",
              "  </div>\n",
              "  "
            ]
          },
          "metadata": {},
          "execution_count": 7
        }
      ],
      "source": [
        "df1.head()"
      ]
    },
    {
      "cell_type": "code",
      "execution_count": null,
      "metadata": {
        "id": "9Uz9wH43Ym9O",
        "colab": {
          "base_uri": "https://localhost:8080/"
        },
        "outputId": "5770a727-16ba-4b5a-ab6a-127e395a17c4"
      },
      "outputs": [
        {
          "output_type": "execute_result",
          "data": {
            "text/plain": [
              "37890"
            ]
          },
          "metadata": {},
          "execution_count": 8
        }
      ],
      "source": [
        "len(df1)"
      ]
    },
    {
      "cell_type": "code",
      "execution_count": null,
      "metadata": {
        "id": "_o6WLSpZYovE"
      },
      "outputs": [],
      "source": [
        "df2 = pd.read_csv(subj1_time, names = ['Time stamp'])"
      ]
    },
    {
      "cell_type": "code",
      "execution_count": null,
      "metadata": {
        "id": "SR6SqaRxZCjJ",
        "colab": {
          "base_uri": "https://localhost:8080/",
          "height": 206
        },
        "outputId": "5d8798ce-0a06-4588-c7dc-60a87985ce08"
      },
      "outputs": [
        {
          "output_type": "execute_result",
          "data": {
            "text/plain": [
              "   Time stamp\n",
              "0       0.000\n",
              "1       0.025\n",
              "2       0.050\n",
              "3       0.075\n",
              "4       0.100"
            ],
            "text/html": [
              "\n",
              "  <div id=\"df-9e9f0f5a-693b-4fce-a3a0-f532f404b650\">\n",
              "    <div class=\"colab-df-container\">\n",
              "      <div>\n",
              "<style scoped>\n",
              "    .dataframe tbody tr th:only-of-type {\n",
              "        vertical-align: middle;\n",
              "    }\n",
              "\n",
              "    .dataframe tbody tr th {\n",
              "        vertical-align: top;\n",
              "    }\n",
              "\n",
              "    .dataframe thead th {\n",
              "        text-align: right;\n",
              "    }\n",
              "</style>\n",
              "<table border=\"1\" class=\"dataframe\">\n",
              "  <thead>\n",
              "    <tr style=\"text-align: right;\">\n",
              "      <th></th>\n",
              "      <th>Time stamp</th>\n",
              "    </tr>\n",
              "  </thead>\n",
              "  <tbody>\n",
              "    <tr>\n",
              "      <th>0</th>\n",
              "      <td>0.000</td>\n",
              "    </tr>\n",
              "    <tr>\n",
              "      <th>1</th>\n",
              "      <td>0.025</td>\n",
              "    </tr>\n",
              "    <tr>\n",
              "      <th>2</th>\n",
              "      <td>0.050</td>\n",
              "    </tr>\n",
              "    <tr>\n",
              "      <th>3</th>\n",
              "      <td>0.075</td>\n",
              "    </tr>\n",
              "    <tr>\n",
              "      <th>4</th>\n",
              "      <td>0.100</td>\n",
              "    </tr>\n",
              "  </tbody>\n",
              "</table>\n",
              "</div>\n",
              "      <button class=\"colab-df-convert\" onclick=\"convertToInteractive('df-9e9f0f5a-693b-4fce-a3a0-f532f404b650')\"\n",
              "              title=\"Convert this dataframe to an interactive table.\"\n",
              "              style=\"display:none;\">\n",
              "        \n",
              "  <svg xmlns=\"http://www.w3.org/2000/svg\" height=\"24px\"viewBox=\"0 0 24 24\"\n",
              "       width=\"24px\">\n",
              "    <path d=\"M0 0h24v24H0V0z\" fill=\"none\"/>\n",
              "    <path d=\"M18.56 5.44l.94 2.06.94-2.06 2.06-.94-2.06-.94-.94-2.06-.94 2.06-2.06.94zm-11 1L8.5 8.5l.94-2.06 2.06-.94-2.06-.94L8.5 2.5l-.94 2.06-2.06.94zm10 10l.94 2.06.94-2.06 2.06-.94-2.06-.94-.94-2.06-.94 2.06-2.06.94z\"/><path d=\"M17.41 7.96l-1.37-1.37c-.4-.4-.92-.59-1.43-.59-.52 0-1.04.2-1.43.59L10.3 9.45l-7.72 7.72c-.78.78-.78 2.05 0 2.83L4 21.41c.39.39.9.59 1.41.59.51 0 1.02-.2 1.41-.59l7.78-7.78 2.81-2.81c.8-.78.8-2.07 0-2.86zM5.41 20L4 18.59l7.72-7.72 1.47 1.35L5.41 20z\"/>\n",
              "  </svg>\n",
              "      </button>\n",
              "      \n",
              "  <style>\n",
              "    .colab-df-container {\n",
              "      display:flex;\n",
              "      flex-wrap:wrap;\n",
              "      gap: 12px;\n",
              "    }\n",
              "\n",
              "    .colab-df-convert {\n",
              "      background-color: #E8F0FE;\n",
              "      border: none;\n",
              "      border-radius: 50%;\n",
              "      cursor: pointer;\n",
              "      display: none;\n",
              "      fill: #1967D2;\n",
              "      height: 32px;\n",
              "      padding: 0 0 0 0;\n",
              "      width: 32px;\n",
              "    }\n",
              "\n",
              "    .colab-df-convert:hover {\n",
              "      background-color: #E2EBFA;\n",
              "      box-shadow: 0px 1px 2px rgba(60, 64, 67, 0.3), 0px 1px 3px 1px rgba(60, 64, 67, 0.15);\n",
              "      fill: #174EA6;\n",
              "    }\n",
              "\n",
              "    [theme=dark] .colab-df-convert {\n",
              "      background-color: #3B4455;\n",
              "      fill: #D2E3FC;\n",
              "    }\n",
              "\n",
              "    [theme=dark] .colab-df-convert:hover {\n",
              "      background-color: #434B5C;\n",
              "      box-shadow: 0px 1px 3px 1px rgba(0, 0, 0, 0.15);\n",
              "      filter: drop-shadow(0px 1px 2px rgba(0, 0, 0, 0.3));\n",
              "      fill: #FFFFFF;\n",
              "    }\n",
              "  </style>\n",
              "\n",
              "      <script>\n",
              "        const buttonEl =\n",
              "          document.querySelector('#df-9e9f0f5a-693b-4fce-a3a0-f532f404b650 button.colab-df-convert');\n",
              "        buttonEl.style.display =\n",
              "          google.colab.kernel.accessAllowed ? 'block' : 'none';\n",
              "\n",
              "        async function convertToInteractive(key) {\n",
              "          const element = document.querySelector('#df-9e9f0f5a-693b-4fce-a3a0-f532f404b650');\n",
              "          const dataTable =\n",
              "            await google.colab.kernel.invokeFunction('convertToInteractive',\n",
              "                                                     [key], {});\n",
              "          if (!dataTable) return;\n",
              "\n",
              "          const docLinkHtml = 'Like what you see? Visit the ' +\n",
              "            '<a target=\"_blank\" href=https://colab.research.google.com/notebooks/data_table.ipynb>data table notebook</a>'\n",
              "            + ' to learn more about interactive tables.';\n",
              "          element.innerHTML = '';\n",
              "          dataTable['output_type'] = 'display_data';\n",
              "          await google.colab.output.renderOutput(dataTable, element);\n",
              "          const docLink = document.createElement('div');\n",
              "          docLink.innerHTML = docLinkHtml;\n",
              "          element.appendChild(docLink);\n",
              "        }\n",
              "      </script>\n",
              "    </div>\n",
              "  </div>\n",
              "  "
            ]
          },
          "metadata": {},
          "execution_count": 10
        }
      ],
      "source": [
        "df2.head()"
      ]
    },
    {
      "cell_type": "code",
      "execution_count": null,
      "metadata": {
        "id": "5Z3PiKM-ZECz"
      },
      "outputs": [],
      "source": [
        "df1_2 =pd.concat([df1,df2], axis = 1)"
      ]
    },
    {
      "cell_type": "code",
      "execution_count": null,
      "metadata": {
        "colab": {
          "base_uri": "https://localhost:8080/",
          "height": 206
        },
        "id": "ABCxGF3GaWyA",
        "outputId": "a6d3c15a-11a2-4aa2-c06e-23f0da0ce38b"
      },
      "outputs": [
        {
          "output_type": "execute_result",
          "data": {
            "text/plain": [
              "      X_acc     Y_acc     Z_acc     X_gyr     Y_gyr     Z_gyr  Time stamp\n",
              "0  4.435275  8.196063  2.974488  0.014215 -0.039157 -0.016744       0.000\n",
              "1  4.186920  8.344455  2.908057  0.005771 -0.004480 -0.003345       0.025\n",
              "2  4.544637  8.408659  2.890000  0.007967  0.022412  0.001159       0.050\n",
              "3  4.849308  8.411614  2.900692  0.027778 -0.010670 -0.014223       0.075\n",
              "4  4.509190  8.118649  2.847298  0.021577 -0.045498 -0.021111       0.100"
            ],
            "text/html": [
              "\n",
              "  <div id=\"df-a6c6c12b-fb59-47a3-b8c4-1a6ce2f7e91e\">\n",
              "    <div class=\"colab-df-container\">\n",
              "      <div>\n",
              "<style scoped>\n",
              "    .dataframe tbody tr th:only-of-type {\n",
              "        vertical-align: middle;\n",
              "    }\n",
              "\n",
              "    .dataframe tbody tr th {\n",
              "        vertical-align: top;\n",
              "    }\n",
              "\n",
              "    .dataframe thead th {\n",
              "        text-align: right;\n",
              "    }\n",
              "</style>\n",
              "<table border=\"1\" class=\"dataframe\">\n",
              "  <thead>\n",
              "    <tr style=\"text-align: right;\">\n",
              "      <th></th>\n",
              "      <th>X_acc</th>\n",
              "      <th>Y_acc</th>\n",
              "      <th>Z_acc</th>\n",
              "      <th>X_gyr</th>\n",
              "      <th>Y_gyr</th>\n",
              "      <th>Z_gyr</th>\n",
              "      <th>Time stamp</th>\n",
              "    </tr>\n",
              "  </thead>\n",
              "  <tbody>\n",
              "    <tr>\n",
              "      <th>0</th>\n",
              "      <td>4.435275</td>\n",
              "      <td>8.196063</td>\n",
              "      <td>2.974488</td>\n",
              "      <td>0.014215</td>\n",
              "      <td>-0.039157</td>\n",
              "      <td>-0.016744</td>\n",
              "      <td>0.000</td>\n",
              "    </tr>\n",
              "    <tr>\n",
              "      <th>1</th>\n",
              "      <td>4.186920</td>\n",
              "      <td>8.344455</td>\n",
              "      <td>2.908057</td>\n",
              "      <td>0.005771</td>\n",
              "      <td>-0.004480</td>\n",
              "      <td>-0.003345</td>\n",
              "      <td>0.025</td>\n",
              "    </tr>\n",
              "    <tr>\n",
              "      <th>2</th>\n",
              "      <td>4.544637</td>\n",
              "      <td>8.408659</td>\n",
              "      <td>2.890000</td>\n",
              "      <td>0.007967</td>\n",
              "      <td>0.022412</td>\n",
              "      <td>0.001159</td>\n",
              "      <td>0.050</td>\n",
              "    </tr>\n",
              "    <tr>\n",
              "      <th>3</th>\n",
              "      <td>4.849308</td>\n",
              "      <td>8.411614</td>\n",
              "      <td>2.900692</td>\n",
              "      <td>0.027778</td>\n",
              "      <td>-0.010670</td>\n",
              "      <td>-0.014223</td>\n",
              "      <td>0.075</td>\n",
              "    </tr>\n",
              "    <tr>\n",
              "      <th>4</th>\n",
              "      <td>4.509190</td>\n",
              "      <td>8.118649</td>\n",
              "      <td>2.847298</td>\n",
              "      <td>0.021577</td>\n",
              "      <td>-0.045498</td>\n",
              "      <td>-0.021111</td>\n",
              "      <td>0.100</td>\n",
              "    </tr>\n",
              "  </tbody>\n",
              "</table>\n",
              "</div>\n",
              "      <button class=\"colab-df-convert\" onclick=\"convertToInteractive('df-a6c6c12b-fb59-47a3-b8c4-1a6ce2f7e91e')\"\n",
              "              title=\"Convert this dataframe to an interactive table.\"\n",
              "              style=\"display:none;\">\n",
              "        \n",
              "  <svg xmlns=\"http://www.w3.org/2000/svg\" height=\"24px\"viewBox=\"0 0 24 24\"\n",
              "       width=\"24px\">\n",
              "    <path d=\"M0 0h24v24H0V0z\" fill=\"none\"/>\n",
              "    <path d=\"M18.56 5.44l.94 2.06.94-2.06 2.06-.94-2.06-.94-.94-2.06-.94 2.06-2.06.94zm-11 1L8.5 8.5l.94-2.06 2.06-.94-2.06-.94L8.5 2.5l-.94 2.06-2.06.94zm10 10l.94 2.06.94-2.06 2.06-.94-2.06-.94-.94-2.06-.94 2.06-2.06.94z\"/><path d=\"M17.41 7.96l-1.37-1.37c-.4-.4-.92-.59-1.43-.59-.52 0-1.04.2-1.43.59L10.3 9.45l-7.72 7.72c-.78.78-.78 2.05 0 2.83L4 21.41c.39.39.9.59 1.41.59.51 0 1.02-.2 1.41-.59l7.78-7.78 2.81-2.81c.8-.78.8-2.07 0-2.86zM5.41 20L4 18.59l7.72-7.72 1.47 1.35L5.41 20z\"/>\n",
              "  </svg>\n",
              "      </button>\n",
              "      \n",
              "  <style>\n",
              "    .colab-df-container {\n",
              "      display:flex;\n",
              "      flex-wrap:wrap;\n",
              "      gap: 12px;\n",
              "    }\n",
              "\n",
              "    .colab-df-convert {\n",
              "      background-color: #E8F0FE;\n",
              "      border: none;\n",
              "      border-radius: 50%;\n",
              "      cursor: pointer;\n",
              "      display: none;\n",
              "      fill: #1967D2;\n",
              "      height: 32px;\n",
              "      padding: 0 0 0 0;\n",
              "      width: 32px;\n",
              "    }\n",
              "\n",
              "    .colab-df-convert:hover {\n",
              "      background-color: #E2EBFA;\n",
              "      box-shadow: 0px 1px 2px rgba(60, 64, 67, 0.3), 0px 1px 3px 1px rgba(60, 64, 67, 0.15);\n",
              "      fill: #174EA6;\n",
              "    }\n",
              "\n",
              "    [theme=dark] .colab-df-convert {\n",
              "      background-color: #3B4455;\n",
              "      fill: #D2E3FC;\n",
              "    }\n",
              "\n",
              "    [theme=dark] .colab-df-convert:hover {\n",
              "      background-color: #434B5C;\n",
              "      box-shadow: 0px 1px 3px 1px rgba(0, 0, 0, 0.15);\n",
              "      filter: drop-shadow(0px 1px 2px rgba(0, 0, 0, 0.3));\n",
              "      fill: #FFFFFF;\n",
              "    }\n",
              "  </style>\n",
              "\n",
              "      <script>\n",
              "        const buttonEl =\n",
              "          document.querySelector('#df-a6c6c12b-fb59-47a3-b8c4-1a6ce2f7e91e button.colab-df-convert');\n",
              "        buttonEl.style.display =\n",
              "          google.colab.kernel.accessAllowed ? 'block' : 'none';\n",
              "\n",
              "        async function convertToInteractive(key) {\n",
              "          const element = document.querySelector('#df-a6c6c12b-fb59-47a3-b8c4-1a6ce2f7e91e');\n",
              "          const dataTable =\n",
              "            await google.colab.kernel.invokeFunction('convertToInteractive',\n",
              "                                                     [key], {});\n",
              "          if (!dataTable) return;\n",
              "\n",
              "          const docLinkHtml = 'Like what you see? Visit the ' +\n",
              "            '<a target=\"_blank\" href=https://colab.research.google.com/notebooks/data_table.ipynb>data table notebook</a>'\n",
              "            + ' to learn more about interactive tables.';\n",
              "          element.innerHTML = '';\n",
              "          dataTable['output_type'] = 'display_data';\n",
              "          await google.colab.output.renderOutput(dataTable, element);\n",
              "          const docLink = document.createElement('div');\n",
              "          docLink.innerHTML = docLinkHtml;\n",
              "          element.appendChild(docLink);\n",
              "        }\n",
              "      </script>\n",
              "    </div>\n",
              "  </div>\n",
              "  "
            ]
          },
          "metadata": {},
          "execution_count": 12
        }
      ],
      "source": [
        "df1_2.head()"
      ]
    },
    {
      "cell_type": "code",
      "execution_count": null,
      "metadata": {
        "id": "vWD56pjScJAE"
      },
      "outputs": [],
      "source": [
        "subj1_y = train_path + \"/subject_001_01__y.csv\"\n",
        "subj1_y_time = train_path + \"/subject_001_01__y_time.csv\""
      ]
    },
    {
      "cell_type": "code",
      "execution_count": null,
      "metadata": {
        "id": "Z2oU8m5Eaoku"
      },
      "outputs": [],
      "source": [
        "df1_y = pd.read_csv(subj1_y, names = ['label'])\n",
        "df1_y_time = pd.read_csv(subj1_y_time, names = ['Time stamp'])"
      ]
    },
    {
      "cell_type": "code",
      "execution_count": null,
      "metadata": {
        "colab": {
          "base_uri": "https://localhost:8080/",
          "height": 206
        },
        "id": "cgJHSYFIcaIY",
        "outputId": "e90dc7c9-cfb6-4c39-dad9-17fdfb41c968"
      },
      "outputs": [
        {
          "output_type": "execute_result",
          "data": {
            "text/plain": [
              "   label\n",
              "0      0\n",
              "1      0\n",
              "2      0\n",
              "3      0\n",
              "4      0"
            ],
            "text/html": [
              "\n",
              "  <div id=\"df-b0524239-140d-4089-893e-933ebc469ea3\">\n",
              "    <div class=\"colab-df-container\">\n",
              "      <div>\n",
              "<style scoped>\n",
              "    .dataframe tbody tr th:only-of-type {\n",
              "        vertical-align: middle;\n",
              "    }\n",
              "\n",
              "    .dataframe tbody tr th {\n",
              "        vertical-align: top;\n",
              "    }\n",
              "\n",
              "    .dataframe thead th {\n",
              "        text-align: right;\n",
              "    }\n",
              "</style>\n",
              "<table border=\"1\" class=\"dataframe\">\n",
              "  <thead>\n",
              "    <tr style=\"text-align: right;\">\n",
              "      <th></th>\n",
              "      <th>label</th>\n",
              "    </tr>\n",
              "  </thead>\n",
              "  <tbody>\n",
              "    <tr>\n",
              "      <th>0</th>\n",
              "      <td>0</td>\n",
              "    </tr>\n",
              "    <tr>\n",
              "      <th>1</th>\n",
              "      <td>0</td>\n",
              "    </tr>\n",
              "    <tr>\n",
              "      <th>2</th>\n",
              "      <td>0</td>\n",
              "    </tr>\n",
              "    <tr>\n",
              "      <th>3</th>\n",
              "      <td>0</td>\n",
              "    </tr>\n",
              "    <tr>\n",
              "      <th>4</th>\n",
              "      <td>0</td>\n",
              "    </tr>\n",
              "  </tbody>\n",
              "</table>\n",
              "</div>\n",
              "      <button class=\"colab-df-convert\" onclick=\"convertToInteractive('df-b0524239-140d-4089-893e-933ebc469ea3')\"\n",
              "              title=\"Convert this dataframe to an interactive table.\"\n",
              "              style=\"display:none;\">\n",
              "        \n",
              "  <svg xmlns=\"http://www.w3.org/2000/svg\" height=\"24px\"viewBox=\"0 0 24 24\"\n",
              "       width=\"24px\">\n",
              "    <path d=\"M0 0h24v24H0V0z\" fill=\"none\"/>\n",
              "    <path d=\"M18.56 5.44l.94 2.06.94-2.06 2.06-.94-2.06-.94-.94-2.06-.94 2.06-2.06.94zm-11 1L8.5 8.5l.94-2.06 2.06-.94-2.06-.94L8.5 2.5l-.94 2.06-2.06.94zm10 10l.94 2.06.94-2.06 2.06-.94-2.06-.94-.94-2.06-.94 2.06-2.06.94z\"/><path d=\"M17.41 7.96l-1.37-1.37c-.4-.4-.92-.59-1.43-.59-.52 0-1.04.2-1.43.59L10.3 9.45l-7.72 7.72c-.78.78-.78 2.05 0 2.83L4 21.41c.39.39.9.59 1.41.59.51 0 1.02-.2 1.41-.59l7.78-7.78 2.81-2.81c.8-.78.8-2.07 0-2.86zM5.41 20L4 18.59l7.72-7.72 1.47 1.35L5.41 20z\"/>\n",
              "  </svg>\n",
              "      </button>\n",
              "      \n",
              "  <style>\n",
              "    .colab-df-container {\n",
              "      display:flex;\n",
              "      flex-wrap:wrap;\n",
              "      gap: 12px;\n",
              "    }\n",
              "\n",
              "    .colab-df-convert {\n",
              "      background-color: #E8F0FE;\n",
              "      border: none;\n",
              "      border-radius: 50%;\n",
              "      cursor: pointer;\n",
              "      display: none;\n",
              "      fill: #1967D2;\n",
              "      height: 32px;\n",
              "      padding: 0 0 0 0;\n",
              "      width: 32px;\n",
              "    }\n",
              "\n",
              "    .colab-df-convert:hover {\n",
              "      background-color: #E2EBFA;\n",
              "      box-shadow: 0px 1px 2px rgba(60, 64, 67, 0.3), 0px 1px 3px 1px rgba(60, 64, 67, 0.15);\n",
              "      fill: #174EA6;\n",
              "    }\n",
              "\n",
              "    [theme=dark] .colab-df-convert {\n",
              "      background-color: #3B4455;\n",
              "      fill: #D2E3FC;\n",
              "    }\n",
              "\n",
              "    [theme=dark] .colab-df-convert:hover {\n",
              "      background-color: #434B5C;\n",
              "      box-shadow: 0px 1px 3px 1px rgba(0, 0, 0, 0.15);\n",
              "      filter: drop-shadow(0px 1px 2px rgba(0, 0, 0, 0.3));\n",
              "      fill: #FFFFFF;\n",
              "    }\n",
              "  </style>\n",
              "\n",
              "      <script>\n",
              "        const buttonEl =\n",
              "          document.querySelector('#df-b0524239-140d-4089-893e-933ebc469ea3 button.colab-df-convert');\n",
              "        buttonEl.style.display =\n",
              "          google.colab.kernel.accessAllowed ? 'block' : 'none';\n",
              "\n",
              "        async function convertToInteractive(key) {\n",
              "          const element = document.querySelector('#df-b0524239-140d-4089-893e-933ebc469ea3');\n",
              "          const dataTable =\n",
              "            await google.colab.kernel.invokeFunction('convertToInteractive',\n",
              "                                                     [key], {});\n",
              "          if (!dataTable) return;\n",
              "\n",
              "          const docLinkHtml = 'Like what you see? Visit the ' +\n",
              "            '<a target=\"_blank\" href=https://colab.research.google.com/notebooks/data_table.ipynb>data table notebook</a>'\n",
              "            + ' to learn more about interactive tables.';\n",
              "          element.innerHTML = '';\n",
              "          dataTable['output_type'] = 'display_data';\n",
              "          await google.colab.output.renderOutput(dataTable, element);\n",
              "          const docLink = document.createElement('div');\n",
              "          docLink.innerHTML = docLinkHtml;\n",
              "          element.appendChild(docLink);\n",
              "        }\n",
              "      </script>\n",
              "    </div>\n",
              "  </div>\n",
              "  "
            ]
          },
          "metadata": {},
          "execution_count": 15
        }
      ],
      "source": [
        "df1_y.head()"
      ]
    },
    {
      "cell_type": "code",
      "execution_count": null,
      "metadata": {
        "colab": {
          "base_uri": "https://localhost:8080/",
          "height": 206
        },
        "id": "9D2qEmuscb8W",
        "outputId": "a7a92946-ed40-48f0-fc62-0a572e8b8363"
      },
      "outputs": [
        {
          "output_type": "execute_result",
          "data": {
            "text/plain": [
              "   Time stamp\n",
              "0        0.02\n",
              "1        0.12\n",
              "2        0.22\n",
              "3        0.32\n",
              "4        0.42"
            ],
            "text/html": [
              "\n",
              "  <div id=\"df-f77dc6f7-a627-4e74-96ff-159c38891bf7\">\n",
              "    <div class=\"colab-df-container\">\n",
              "      <div>\n",
              "<style scoped>\n",
              "    .dataframe tbody tr th:only-of-type {\n",
              "        vertical-align: middle;\n",
              "    }\n",
              "\n",
              "    .dataframe tbody tr th {\n",
              "        vertical-align: top;\n",
              "    }\n",
              "\n",
              "    .dataframe thead th {\n",
              "        text-align: right;\n",
              "    }\n",
              "</style>\n",
              "<table border=\"1\" class=\"dataframe\">\n",
              "  <thead>\n",
              "    <tr style=\"text-align: right;\">\n",
              "      <th></th>\n",
              "      <th>Time stamp</th>\n",
              "    </tr>\n",
              "  </thead>\n",
              "  <tbody>\n",
              "    <tr>\n",
              "      <th>0</th>\n",
              "      <td>0.02</td>\n",
              "    </tr>\n",
              "    <tr>\n",
              "      <th>1</th>\n",
              "      <td>0.12</td>\n",
              "    </tr>\n",
              "    <tr>\n",
              "      <th>2</th>\n",
              "      <td>0.22</td>\n",
              "    </tr>\n",
              "    <tr>\n",
              "      <th>3</th>\n",
              "      <td>0.32</td>\n",
              "    </tr>\n",
              "    <tr>\n",
              "      <th>4</th>\n",
              "      <td>0.42</td>\n",
              "    </tr>\n",
              "  </tbody>\n",
              "</table>\n",
              "</div>\n",
              "      <button class=\"colab-df-convert\" onclick=\"convertToInteractive('df-f77dc6f7-a627-4e74-96ff-159c38891bf7')\"\n",
              "              title=\"Convert this dataframe to an interactive table.\"\n",
              "              style=\"display:none;\">\n",
              "        \n",
              "  <svg xmlns=\"http://www.w3.org/2000/svg\" height=\"24px\"viewBox=\"0 0 24 24\"\n",
              "       width=\"24px\">\n",
              "    <path d=\"M0 0h24v24H0V0z\" fill=\"none\"/>\n",
              "    <path d=\"M18.56 5.44l.94 2.06.94-2.06 2.06-.94-2.06-.94-.94-2.06-.94 2.06-2.06.94zm-11 1L8.5 8.5l.94-2.06 2.06-.94-2.06-.94L8.5 2.5l-.94 2.06-2.06.94zm10 10l.94 2.06.94-2.06 2.06-.94-2.06-.94-.94-2.06-.94 2.06-2.06.94z\"/><path d=\"M17.41 7.96l-1.37-1.37c-.4-.4-.92-.59-1.43-.59-.52 0-1.04.2-1.43.59L10.3 9.45l-7.72 7.72c-.78.78-.78 2.05 0 2.83L4 21.41c.39.39.9.59 1.41.59.51 0 1.02-.2 1.41-.59l7.78-7.78 2.81-2.81c.8-.78.8-2.07 0-2.86zM5.41 20L4 18.59l7.72-7.72 1.47 1.35L5.41 20z\"/>\n",
              "  </svg>\n",
              "      </button>\n",
              "      \n",
              "  <style>\n",
              "    .colab-df-container {\n",
              "      display:flex;\n",
              "      flex-wrap:wrap;\n",
              "      gap: 12px;\n",
              "    }\n",
              "\n",
              "    .colab-df-convert {\n",
              "      background-color: #E8F0FE;\n",
              "      border: none;\n",
              "      border-radius: 50%;\n",
              "      cursor: pointer;\n",
              "      display: none;\n",
              "      fill: #1967D2;\n",
              "      height: 32px;\n",
              "      padding: 0 0 0 0;\n",
              "      width: 32px;\n",
              "    }\n",
              "\n",
              "    .colab-df-convert:hover {\n",
              "      background-color: #E2EBFA;\n",
              "      box-shadow: 0px 1px 2px rgba(60, 64, 67, 0.3), 0px 1px 3px 1px rgba(60, 64, 67, 0.15);\n",
              "      fill: #174EA6;\n",
              "    }\n",
              "\n",
              "    [theme=dark] .colab-df-convert {\n",
              "      background-color: #3B4455;\n",
              "      fill: #D2E3FC;\n",
              "    }\n",
              "\n",
              "    [theme=dark] .colab-df-convert:hover {\n",
              "      background-color: #434B5C;\n",
              "      box-shadow: 0px 1px 3px 1px rgba(0, 0, 0, 0.15);\n",
              "      filter: drop-shadow(0px 1px 2px rgba(0, 0, 0, 0.3));\n",
              "      fill: #FFFFFF;\n",
              "    }\n",
              "  </style>\n",
              "\n",
              "      <script>\n",
              "        const buttonEl =\n",
              "          document.querySelector('#df-f77dc6f7-a627-4e74-96ff-159c38891bf7 button.colab-df-convert');\n",
              "        buttonEl.style.display =\n",
              "          google.colab.kernel.accessAllowed ? 'block' : 'none';\n",
              "\n",
              "        async function convertToInteractive(key) {\n",
              "          const element = document.querySelector('#df-f77dc6f7-a627-4e74-96ff-159c38891bf7');\n",
              "          const dataTable =\n",
              "            await google.colab.kernel.invokeFunction('convertToInteractive',\n",
              "                                                     [key], {});\n",
              "          if (!dataTable) return;\n",
              "\n",
              "          const docLinkHtml = 'Like what you see? Visit the ' +\n",
              "            '<a target=\"_blank\" href=https://colab.research.google.com/notebooks/data_table.ipynb>data table notebook</a>'\n",
              "            + ' to learn more about interactive tables.';\n",
              "          element.innerHTML = '';\n",
              "          dataTable['output_type'] = 'display_data';\n",
              "          await google.colab.output.renderOutput(dataTable, element);\n",
              "          const docLink = document.createElement('div');\n",
              "          docLink.innerHTML = docLinkHtml;\n",
              "          element.appendChild(docLink);\n",
              "        }\n",
              "      </script>\n",
              "    </div>\n",
              "  </div>\n",
              "  "
            ]
          },
          "metadata": {},
          "execution_count": 16
        }
      ],
      "source": [
        "df1_y_time.head()"
      ]
    },
    {
      "cell_type": "code",
      "execution_count": null,
      "metadata": {
        "colab": {
          "base_uri": "https://localhost:8080/",
          "height": 206
        },
        "id": "HGN8SjBDcd0W",
        "outputId": "8d00087d-b52f-4196-ff46-638c55314895"
      },
      "outputs": [
        {
          "output_type": "execute_result",
          "data": {
            "text/plain": [
              "   label  Time stamp\n",
              "0      0        0.02\n",
              "1      0        0.12\n",
              "2      0        0.22\n",
              "3      0        0.32\n",
              "4      0        0.42"
            ],
            "text/html": [
              "\n",
              "  <div id=\"df-28c82cc9-3983-4e4e-af27-4ede73c7dbe3\">\n",
              "    <div class=\"colab-df-container\">\n",
              "      <div>\n",
              "<style scoped>\n",
              "    .dataframe tbody tr th:only-of-type {\n",
              "        vertical-align: middle;\n",
              "    }\n",
              "\n",
              "    .dataframe tbody tr th {\n",
              "        vertical-align: top;\n",
              "    }\n",
              "\n",
              "    .dataframe thead th {\n",
              "        text-align: right;\n",
              "    }\n",
              "</style>\n",
              "<table border=\"1\" class=\"dataframe\">\n",
              "  <thead>\n",
              "    <tr style=\"text-align: right;\">\n",
              "      <th></th>\n",
              "      <th>label</th>\n",
              "      <th>Time stamp</th>\n",
              "    </tr>\n",
              "  </thead>\n",
              "  <tbody>\n",
              "    <tr>\n",
              "      <th>0</th>\n",
              "      <td>0</td>\n",
              "      <td>0.02</td>\n",
              "    </tr>\n",
              "    <tr>\n",
              "      <th>1</th>\n",
              "      <td>0</td>\n",
              "      <td>0.12</td>\n",
              "    </tr>\n",
              "    <tr>\n",
              "      <th>2</th>\n",
              "      <td>0</td>\n",
              "      <td>0.22</td>\n",
              "    </tr>\n",
              "    <tr>\n",
              "      <th>3</th>\n",
              "      <td>0</td>\n",
              "      <td>0.32</td>\n",
              "    </tr>\n",
              "    <tr>\n",
              "      <th>4</th>\n",
              "      <td>0</td>\n",
              "      <td>0.42</td>\n",
              "    </tr>\n",
              "  </tbody>\n",
              "</table>\n",
              "</div>\n",
              "      <button class=\"colab-df-convert\" onclick=\"convertToInteractive('df-28c82cc9-3983-4e4e-af27-4ede73c7dbe3')\"\n",
              "              title=\"Convert this dataframe to an interactive table.\"\n",
              "              style=\"display:none;\">\n",
              "        \n",
              "  <svg xmlns=\"http://www.w3.org/2000/svg\" height=\"24px\"viewBox=\"0 0 24 24\"\n",
              "       width=\"24px\">\n",
              "    <path d=\"M0 0h24v24H0V0z\" fill=\"none\"/>\n",
              "    <path d=\"M18.56 5.44l.94 2.06.94-2.06 2.06-.94-2.06-.94-.94-2.06-.94 2.06-2.06.94zm-11 1L8.5 8.5l.94-2.06 2.06-.94-2.06-.94L8.5 2.5l-.94 2.06-2.06.94zm10 10l.94 2.06.94-2.06 2.06-.94-2.06-.94-.94-2.06-.94 2.06-2.06.94z\"/><path d=\"M17.41 7.96l-1.37-1.37c-.4-.4-.92-.59-1.43-.59-.52 0-1.04.2-1.43.59L10.3 9.45l-7.72 7.72c-.78.78-.78 2.05 0 2.83L4 21.41c.39.39.9.59 1.41.59.51 0 1.02-.2 1.41-.59l7.78-7.78 2.81-2.81c.8-.78.8-2.07 0-2.86zM5.41 20L4 18.59l7.72-7.72 1.47 1.35L5.41 20z\"/>\n",
              "  </svg>\n",
              "      </button>\n",
              "      \n",
              "  <style>\n",
              "    .colab-df-container {\n",
              "      display:flex;\n",
              "      flex-wrap:wrap;\n",
              "      gap: 12px;\n",
              "    }\n",
              "\n",
              "    .colab-df-convert {\n",
              "      background-color: #E8F0FE;\n",
              "      border: none;\n",
              "      border-radius: 50%;\n",
              "      cursor: pointer;\n",
              "      display: none;\n",
              "      fill: #1967D2;\n",
              "      height: 32px;\n",
              "      padding: 0 0 0 0;\n",
              "      width: 32px;\n",
              "    }\n",
              "\n",
              "    .colab-df-convert:hover {\n",
              "      background-color: #E2EBFA;\n",
              "      box-shadow: 0px 1px 2px rgba(60, 64, 67, 0.3), 0px 1px 3px 1px rgba(60, 64, 67, 0.15);\n",
              "      fill: #174EA6;\n",
              "    }\n",
              "\n",
              "    [theme=dark] .colab-df-convert {\n",
              "      background-color: #3B4455;\n",
              "      fill: #D2E3FC;\n",
              "    }\n",
              "\n",
              "    [theme=dark] .colab-df-convert:hover {\n",
              "      background-color: #434B5C;\n",
              "      box-shadow: 0px 1px 3px 1px rgba(0, 0, 0, 0.15);\n",
              "      filter: drop-shadow(0px 1px 2px rgba(0, 0, 0, 0.3));\n",
              "      fill: #FFFFFF;\n",
              "    }\n",
              "  </style>\n",
              "\n",
              "      <script>\n",
              "        const buttonEl =\n",
              "          document.querySelector('#df-28c82cc9-3983-4e4e-af27-4ede73c7dbe3 button.colab-df-convert');\n",
              "        buttonEl.style.display =\n",
              "          google.colab.kernel.accessAllowed ? 'block' : 'none';\n",
              "\n",
              "        async function convertToInteractive(key) {\n",
              "          const element = document.querySelector('#df-28c82cc9-3983-4e4e-af27-4ede73c7dbe3');\n",
              "          const dataTable =\n",
              "            await google.colab.kernel.invokeFunction('convertToInteractive',\n",
              "                                                     [key], {});\n",
              "          if (!dataTable) return;\n",
              "\n",
              "          const docLinkHtml = 'Like what you see? Visit the ' +\n",
              "            '<a target=\"_blank\" href=https://colab.research.google.com/notebooks/data_table.ipynb>data table notebook</a>'\n",
              "            + ' to learn more about interactive tables.';\n",
              "          element.innerHTML = '';\n",
              "          dataTable['output_type'] = 'display_data';\n",
              "          await google.colab.output.renderOutput(dataTable, element);\n",
              "          const docLink = document.createElement('div');\n",
              "          docLink.innerHTML = docLinkHtml;\n",
              "          element.appendChild(docLink);\n",
              "        }\n",
              "      </script>\n",
              "    </div>\n",
              "  </div>\n",
              "  "
            ]
          },
          "metadata": {},
          "execution_count": 17
        }
      ],
      "source": [
        "df1_2y =pd.concat([df1_y,df1_y_time], axis = 1)\n",
        "df1_2y.head()"
      ]
    },
    {
      "cell_type": "code",
      "execution_count": null,
      "metadata": {
        "colab": {
          "base_uri": "https://localhost:8080/"
        },
        "id": "g5iPIyS_clt0",
        "outputId": "a0125428-2da9-4c95-b741-d79ab63b2bac"
      },
      "outputs": [
        {
          "output_type": "stream",
          "name": "stdout",
          "text": [
            "37890 37890 37890\n",
            "9473 9473 9473\n"
          ]
        }
      ],
      "source": [
        "print(len(df1),len(df2),len(df1_2))\n",
        "print(len(df1_y),len(df1_y_time),len(df1_2y))"
      ]
    },
    {
      "cell_type": "code",
      "execution_count": null,
      "metadata": {
        "id": "5N3LKNG8dNr5"
      },
      "outputs": [],
      "source": [
        "def get_subject_list(files):\n",
        "  subject_list = []\n",
        "  for filename in sorted(files):\n",
        "    file=filename.split('/')[-1]\n",
        "    subject_list.append(file)\n",
        "  return subject_list"
      ]
    },
    {
      "cell_type": "code",
      "execution_count": null,
      "metadata": {
        "id": "t18zoJnJdhxR"
      },
      "outputs": [],
      "source": [
        "subject_list_x = get_subject_list(all_x_files)\n",
        "subject_list_x_time = get_subject_list(all_x_time_files)\n",
        "subject_list_y = get_subject_list(all_y_files)\n",
        "subject_list_y_time = get_subject_list(all_y_time_files)"
      ]
    },
    {
      "cell_type": "code",
      "execution_count": null,
      "metadata": {
        "id": "DNGhQ-H5dnV9"
      },
      "outputs": [],
      "source": [
        "def combine_x_x_time(subj1,subj1_time):\n",
        "  df1 = pd.read_csv(subj1, sep = ',', names = ['X_acc', 'Y_acc', 'Z_acc', 'X_gyr', 'Y_gyr', 'Z_gyr'])\n",
        "  df2 = pd.read_csv(subj1_time, names = ['Time stamp'])\n",
        "  df1_2 =pd.concat([df1,df2], axis = 1)\n",
        "  return df1_2"
      ]
    },
    {
      "cell_type": "code",
      "execution_count": null,
      "metadata": {
        "id": "K5JvCJ8oNB9U"
      },
      "outputs": [],
      "source": [
        "def combine_y_y_time(subj1_y,subj1_y_time):\n",
        "  df1_y = pd.read_csv(subj1_y, names = ['label'])\n",
        "  df1_y_time = pd.read_csv(subj1_y_time, names = ['Time stamp'])\n",
        "  df1_2y =pd.concat([df1_y,df1_y_time], axis = 1)\n",
        "  return df1_2y"
      ]
    },
    {
      "cell_type": "code",
      "execution_count": null,
      "metadata": {
        "id": "H2M3Myqd-y4J"
      },
      "outputs": [],
      "source": [
        "def combine_x_y(x_frame, y_frame):\n",
        "    labels = y_frame['label'].tolist()\n",
        "    time_stamp_y = y_frame['Time stamp'].tolist()\n",
        "    print(len(time_stamp_y))\n",
        "    time_stamp_x = x_frame['Time stamp'].tolist()\n",
        "    print(len(time_stamp_x))\n",
        "    \n",
        "    labels_for_x = [] \n",
        "    count = 0\n",
        "    for i in range(0, len(time_stamp_y)):\n",
        "        while (time_stamp_x[count] <= time_stamp_y[i]) and (count <= len(time_stamp_x)):\n",
        "            labels_for_x.append(labels[i])\n",
        "            count += 1\n",
        "        continue\n",
        "    \n",
        "    label_df = pd.DataFrame(labels_for_x, columns = ['label'])\n",
        "    print(len(label_df))\n",
        "    combined_frame = pd.concat([x_frame, label_df], axis = 1)\n",
        "    \n",
        "    combined_frame = combined_frame.dropna()\n",
        "    \n",
        "    combined_frame = combined_frame.drop(columns = ['Time stamp'])\n",
        "    return combined_frame"
      ]
    },
    {
      "cell_type": "code",
      "execution_count": null,
      "metadata": {
        "id": "lkPLGtDANQI9",
        "colab": {
          "base_uri": "https://localhost:8080/"
        },
        "outputId": "b632c5de-6559-4c00-8441-2265988dc1c9"
      },
      "outputs": [
        {
          "output_type": "stream",
          "name": "stdout",
          "text": [
            "subject_001_01__x.csv subject_001_01__x_time.csv\n",
            "37890\n",
            "subject_001_02__x.csv subject_001_02__x_time.csv\n",
            "70172\n",
            "subject_001_03__x.csv subject_001_03__x_time.csv\n",
            "43146\n",
            "subject_001_04__x.csv subject_001_04__x_time.csv\n",
            "54956\n",
            "subject_001_05__x.csv subject_001_05__x_time.csv\n",
            "59121\n",
            "subject_001_06__x.csv subject_001_06__x_time.csv\n",
            "38631\n",
            "subject_001_07__x.csv subject_001_07__x_time.csv\n",
            "31423\n",
            "subject_001_08__x.csv subject_001_08__x_time.csv\n",
            "66762\n",
            "subject_002_01__x.csv subject_002_01__x_time.csv\n",
            "55999\n",
            "subject_002_02__x.csv subject_002_02__x_time.csv\n",
            "55401\n",
            "subject_002_03__x.csv subject_002_03__x_time.csv\n",
            "48797\n",
            "subject_002_04__x.csv subject_002_04__x_time.csv\n",
            "51461\n",
            "subject_002_05__x.csv subject_002_05__x_time.csv\n",
            "42319\n",
            "subject_003_01__x.csv subject_003_01__x_time.csv\n",
            "36313\n",
            "subject_003_02__x.csv subject_003_02__x_time.csv\n",
            "47210\n",
            "subject_003_03__x.csv subject_003_03__x_time.csv\n",
            "19533\n",
            "subject_004_01__x.csv subject_004_01__x_time.csv\n",
            "34309\n",
            "subject_004_02__x.csv subject_004_02__x_time.csv\n",
            "34476\n",
            "subject_005_01__x.csv subject_005_01__x_time.csv\n",
            "56079\n",
            "subject_005_02__x.csv subject_005_02__x_time.csv\n",
            "34519\n",
            "subject_005_03__x.csv subject_005_03__x_time.csv\n",
            "44905\n",
            "subject_006_01__x.csv subject_006_01__x_time.csv\n",
            "48125\n",
            "subject_006_02__x.csv subject_006_02__x_time.csv\n",
            "59562\n",
            "subject_006_03__x.csv subject_006_03__x_time.csv\n",
            "45129\n",
            "subject_007_01__x.csv subject_007_01__x_time.csv\n",
            "46201\n",
            "subject_007_02__x.csv subject_007_02__x_time.csv\n",
            "46989\n",
            "subject_007_03__x.csv subject_007_03__x_time.csv\n",
            "44641\n",
            "subject_007_04__x.csv subject_007_04__x_time.csv\n",
            "39439\n",
            "subject_008_01__x.csv subject_008_01__x_time.csv\n",
            "48138\n"
          ]
        }
      ],
      "source": [
        "frame_list_x = []\n",
        "for subj1,subj1_time in zip(subject_list_x,subject_list_x_time):\n",
        "  print(subj1,subj1_time)\n",
        "  df1_2 = combine_x_x_time(train_path + subj1,train_path + subj1_time)\n",
        "  print(len(df1_2))\n",
        "  frame_list_x.append(df1_2)\n"
      ]
    },
    {
      "cell_type": "code",
      "execution_count": null,
      "metadata": {
        "id": "xQTZehaoOJ1U",
        "colab": {
          "base_uri": "https://localhost:8080/"
        },
        "outputId": "57d70c11-8933-4504-b73a-70b2a9f3685e"
      },
      "outputs": [
        {
          "output_type": "stream",
          "name": "stdout",
          "text": [
            "subject_001_01__y.csv subject_001_01__y_time.csv\n",
            "9473\n",
            "subject_001_02__y.csv subject_001_02__y_time.csv\n",
            "17543\n",
            "subject_001_03__y.csv subject_001_03__y_time.csv\n",
            "10787\n",
            "subject_001_04__y.csv subject_001_04__y_time.csv\n",
            "13739\n",
            "subject_001_05__y.csv subject_001_05__y_time.csv\n",
            "14780\n",
            "subject_001_06__y.csv subject_001_06__y_time.csv\n",
            "9658\n",
            "subject_001_07__y.csv subject_001_07__y_time.csv\n",
            "7856\n",
            "subject_001_08__y.csv subject_001_08__y_time.csv\n",
            "16691\n",
            "subject_002_01__y.csv subject_002_01__y_time.csv\n",
            "14000\n",
            "subject_002_02__y.csv subject_002_02__y_time.csv\n",
            "13850\n",
            "subject_002_03__y.csv subject_002_03__y_time.csv\n",
            "12199\n",
            "subject_002_04__y.csv subject_002_04__y_time.csv\n",
            "12865\n",
            "subject_002_05__y.csv subject_002_05__y_time.csv\n",
            "10580\n",
            "subject_003_01__y.csv subject_003_01__y_time.csv\n",
            "9078\n",
            "subject_003_02__y.csv subject_003_02__y_time.csv\n",
            "11803\n",
            "subject_003_03__y.csv subject_003_03__y_time.csv\n",
            "4883\n",
            "subject_004_01__y.csv subject_004_01__y_time.csv\n",
            "8577\n",
            "subject_004_02__y.csv subject_004_02__y_time.csv\n",
            "8619\n",
            "subject_005_01__y.csv subject_005_01__y_time.csv\n",
            "14020\n",
            "subject_005_02__y.csv subject_005_02__y_time.csv\n",
            "8630\n",
            "subject_005_03__y.csv subject_005_03__y_time.csv\n",
            "11226\n",
            "subject_006_01__y.csv subject_006_01__y_time.csv\n",
            "12031\n",
            "subject_006_02__y.csv subject_006_02__y_time.csv\n",
            "14891\n",
            "subject_006_03__y.csv subject_006_03__y_time.csv\n",
            "11282\n",
            "subject_007_01__y.csv subject_007_01__y_time.csv\n",
            "11550\n",
            "subject_007_02__y.csv subject_007_02__y_time.csv\n",
            "11747\n",
            "subject_007_03__y.csv subject_007_03__y_time.csv\n",
            "11160\n",
            "subject_007_04__y.csv subject_007_04__y_time.csv\n",
            "9860\n",
            "subject_008_01__y.csv subject_008_01__y_time.csv\n",
            "12035\n"
          ]
        }
      ],
      "source": [
        "frame_list_y = []\n",
        "for subj1,subj1_time in zip(subject_list_y,subject_list_y_time):\n",
        "  print(subj1,subj1_time)\n",
        "  df1_2y = combine_y_y_time(train_path +subj1,train_path +subj1_time)\n",
        "  print(len(df1_2y))\n",
        "  frame_list_y.append(df1_2y)  "
      ]
    },
    {
      "cell_type": "code",
      "execution_count": null,
      "metadata": {
        "id": "btwTN5mb8334",
        "colab": {
          "base_uri": "https://localhost:8080/"
        },
        "outputId": "e53908ff-8bd8-4a1d-dfc0-400581a9a288"
      },
      "outputs": [
        {
          "output_type": "stream",
          "name": "stdout",
          "text": [
            "9473\n",
            "37890\n",
            "37889\n",
            "17543\n",
            "70172\n",
            "70169\n",
            "10787\n",
            "43146\n",
            "43145\n",
            "13739\n",
            "54956\n",
            "54953\n",
            "14780\n",
            "59121\n",
            "59117\n",
            "9658\n",
            "38631\n",
            "38629\n",
            "7856\n",
            "31423\n",
            "31421\n",
            "16691\n",
            "66762\n",
            "66761\n",
            "14000\n",
            "55999\n",
            "55997\n",
            "13850\n",
            "55401\n",
            "55397\n",
            "12199\n",
            "48797\n",
            "48793\n",
            "12865\n",
            "51461\n",
            "51457\n",
            "10580\n",
            "42319\n",
            "42317\n",
            "9078\n",
            "36313\n",
            "36309\n",
            "11803\n",
            "47210\n",
            "47209\n",
            "4883\n",
            "19533\n",
            "19529\n",
            "8577\n",
            "34309\n",
            "34305\n",
            "8619\n",
            "34476\n",
            "34473\n",
            "14020\n",
            "56079\n",
            "56077\n",
            "8630\n",
            "34519\n",
            "34517\n",
            "11226\n",
            "44905\n",
            "44901\n",
            "12031\n",
            "48125\n",
            "48121\n",
            "14891\n",
            "59562\n",
            "59561\n",
            "11282\n",
            "45129\n",
            "45125\n",
            "11550\n",
            "46201\n",
            "46197\n",
            "11747\n",
            "46989\n",
            "46985\n",
            "11160\n",
            "44641\n",
            "44637\n",
            "9860\n",
            "39439\n",
            "39437\n",
            "12035\n",
            "48138\n",
            "48137\n"
          ]
        }
      ],
      "source": [
        "combined_frame_list = []\n",
        "for df_x, df_y in zip(frame_list_x, frame_list_y):\n",
        "  combined_frame = combine_x_y(df_x, df_y)\n",
        "  combined_frame_list.append(combined_frame)"
      ]
    },
    {
      "cell_type": "code",
      "execution_count": null,
      "metadata": {
        "id": "HfbXKFNe7JMk"
      },
      "outputs": [],
      "source": [
        "df = pd.concat(combined_frame_list, axis = 0)"
      ]
    },
    {
      "cell_type": "code",
      "source": [
        "len(df)"
      ],
      "metadata": {
        "colab": {
          "base_uri": "https://localhost:8080/"
        },
        "id": "yXBsQkC2d4iA",
        "outputId": "27db6433-ea8b-40bf-d07d-01449fbbca9f"
      },
      "execution_count": null,
      "outputs": [
        {
          "output_type": "execute_result",
          "data": {
            "text/plain": [
              "1341565"
            ]
          },
          "metadata": {},
          "execution_count": 28
        }
      ]
    },
    {
      "cell_type": "code",
      "source": [
        "walking = df[df.label==0].count()[0]\n",
        "downstairs = df[df.label==1].count()[0]\n",
        "upstairs = df[df.label==2].count()[0]\n",
        "grass = df[df.label==3].count()[0]\n",
        "print(walking, downstairs,upstairs, grass)"
      ],
      "metadata": {
        "colab": {
          "base_uri": "https://localhost:8080/"
        },
        "id": "07g8BeN7fDfX",
        "outputId": "7bf4a23e-2a94-487c-ba8e-0d3276d0700c"
      },
      "execution_count": null,
      "outputs": [
        {
          "output_type": "stream",
          "name": "stdout",
          "text": [
            "1006845 55216 73068 206436\n"
          ]
        }
      ]
    },
    {
      "cell_type": "code",
      "source": [
        "walking"
      ],
      "metadata": {
        "colab": {
          "base_uri": "https://localhost:8080/"
        },
        "id": "Rqy8TUx2ljPl",
        "outputId": "ee75bbbc-3c00-4870-fcb9-b6d495e11120"
      },
      "execution_count": null,
      "outputs": [
        {
          "output_type": "execute_result",
          "data": {
            "text/plain": [
              "1006845"
            ]
          },
          "metadata": {},
          "execution_count": 30
        }
      ]
    },
    {
      "cell_type": "code",
      "source": [
        "text = [\"standing/walking\", \"going downstairs\",\"going upstairs\", \"walking on grass\"]\n",
        "label = [walking, downstairs,upstairs, grass]\n",
        "fig = plt.figure()\n",
        "ax = fig.add_axes([0,0,1,1])\n",
        "ax.get_yaxis().get_major_formatter().set_scientific(False)\n",
        "ax.bar(text,label)\n",
        "plt.show()"
      ],
      "metadata": {
        "colab": {
          "base_uri": "https://localhost:8080/",
          "height": 540
        },
        "id": "c0B05MFKgGnS",
        "outputId": "b7751434-2597-4a75-cd58-005819b3942f"
      },
      "execution_count": null,
      "outputs": [
        {
          "output_type": "display_data",
          "data": {
            "text/plain": [
              "<Figure size 640x480 with 1 Axes>"
            ],
            "image/png": "[encoded data removed]"
          },
          "metadata": {}
        }
      ]
    },
    {
      "cell_type": "code",
      "source": [
        "x_train= df.drop('label', axis=1)\n",
        "y_train = df.label"
      ],
      "metadata": {
        "id": "vlwU19Z2gXEt"
      },
      "execution_count": null,
      "outputs": []
    },
    {
      "cell_type": "code",
      "source": [
        "output_path = '/content/drive/MyDrive/ECE542_sp2022_Project_TerrainRecognition/Output_files/'\n",
        "if not os.path.exists(output_path):\n",
        "    os.makedirs(output_path)"
      ],
      "metadata": {
        "id": "iaaOfd4qXro4"
      },
      "execution_count": null,
      "outputs": []
    },
    {
      "cell_type": "code",
      "source": [
        "x_train.to_csv(output_path + 'x_train.csv')\n",
        "y_train.to_csv(output_path + 'y_train.csv')"
      ],
      "metadata": {
        "id": "s7YWnjNwY88x"
      },
      "execution_count": null,
      "outputs": []
    },
    {
      "cell_type": "code",
      "source": [
        "county = Counter(y_train)\n",
        "county"
      ],
      "metadata": {
        "colab": {
          "base_uri": "https://localhost:8080/"
        },
        "id": "EqFq9C6Dg74H",
        "outputId": "5dfc1492-13e4-43cd-faa9-51284093461e"
      },
      "execution_count": null,
      "outputs": [
        {
          "output_type": "execute_result",
          "data": {
            "text/plain": [
              "Counter({0.0: 1006845, 1.0: 55216, 2.0: 73068, 3.0: 206436})"
            ]
          },
          "metadata": {},
          "execution_count": 63
        }
      ]
    },
    {
      "cell_type": "code",
      "source": [
        "sm = SMOTE(random_state=23)\n",
        "x_train_sm, y_train_sm = sm.fit_resample(x_train, y_train)\n",
        "print(len(x_train_sm), len(y_train_sm))\n",
        "\n",
        "county_sm = Counter(y_train_sm)\n",
        "print(county_sm)"
      ],
      "metadata": {
        "colab": {
          "base_uri": "https://localhost:8080/"
        },
        "id": "eRPJtSF4hAbE",
        "outputId": "068856df-690a-4691-8958-b1d6bcb1655c"
      },
      "execution_count": null,
      "outputs": [
        {
          "output_type": "stream",
          "name": "stdout",
          "text": [
            "4027380 4027380\n",
            "Counter({0.0: 1006845, 1.0: 1006845, 2.0: 1006845, 3.0: 1006845})\n"
          ]
        }
      ]
    },
    {
      "cell_type": "code",
      "source": [
        "text = [\"standing/walking\", \"going downstairs\",\"going upstairs\", \"walking on grass\"]\n",
        "fig = plt.figure()\n",
        "ax = fig.add_axes([0,0,1,1])\n",
        "ax.get_yaxis().get_major_formatter().set_scientific(False)\n",
        "plt.bar(text, county_sm.values())\n",
        "plt.show()"
      ],
      "metadata": {
        "colab": {
          "base_uri": "https://localhost:8080/",
          "height": 540
        },
        "id": "Ys_c4TkYtv08",
        "outputId": "abaf1e65-864e-41d3-ae2e-2933b323104a"
      },
      "execution_count": null,
      "outputs": [
        {
          "output_type": "display_data",
          "data": {
            "text/plain": [
              "<Figure size 640x480 with 1 Axes>"
            ],
            "image/png": "[encoded data removed]"
          },
          "metadata": {}
        }
      ]
    },
    {
      "cell_type": "markdown",
      "source": [
        "## Get training and testing set "
      ],
      "metadata": {
        "id": "tpDCxmi6VwzF"
      }
    },
    {
      "cell_type": "code",
      "source": [
        "x_train,x_val,y_train,y_val=train_test_split(x_train_sm, y_train_sm, test_size=0.2)"
      ],
      "metadata": {
        "id": "KVOZsvpShNdM"
      },
      "execution_count": null,
      "outputs": []
    },
    {
      "cell_type": "code",
      "source": [
        "print(len(x_train), len(y_train))\n",
        "print(len(x_val), len(y_val))"
      ],
      "metadata": {
        "colab": {
          "base_uri": "https://localhost:8080/"
        },
        "id": "-3QlVPW-hTX5",
        "outputId": "9dc77908-ea21-4d77-ec9e-73d89a824e59"
      },
      "execution_count": null,
      "outputs": [
        {
          "output_type": "stream",
          "name": "stdout",
          "text": [
            "3221904 3221904\n",
            "805476 805476\n"
          ]
        }
      ]
    },
    {
      "cell_type": "code",
      "source": [
        "x_train.to_csv(output_path + 'x_train_sm.csv')\n",
        "y_train.to_csv(output_path + 'y_train_sm.csv')\n",
        "x_val.to_csv(output_path + 'x_val_sm.csv')\n",
        "y_val.to_csv(output_path + 'y_val_sm.csv')"
      ],
      "metadata": {
        "id": "FTAetEEYcnJs"
      },
      "execution_count": null,
      "outputs": []
    },
    {
      "cell_type": "code",
      "source": [
        "x_train.head()"
      ],
      "metadata": {
        "colab": {
          "base_uri": "https://localhost:8080/",
          "height": 206
        },
        "id": "FWdPTRjkh9px",
        "outputId": "952f39e0-824a-496b-899d-10925d430dd9"
      },
      "execution_count": null,
      "outputs": [
        {
          "output_type": "execute_result",
          "data": {
            "text/plain": [
              "            X_acc      Y_acc      Z_acc     X_gyr     Y_gyr     Z_gyr\n",
              "1561637 -1.399392  17.014197  10.575139 -1.683699 -1.600597 -0.446467\n",
              "1530095  0.664469   1.617622  10.882510 -1.392880 -0.697540 -0.642910\n",
              "3258815 -1.088364  -3.884695  -4.383529 -1.247108 -1.937497 -1.176444\n",
              "1285142  7.814702   7.672287   4.813129 -0.295505  0.640524  0.621087\n",
              "1793611  0.118456   8.013318  13.331275 -3.123799  0.393665  0.853958"
            ],
            "text/html": [
              "\n",
              "  <div id=\"df-ed50594e-9244-4a35-b092-f2b719da9e73\">\n",
              "    <div class=\"colab-df-container\">\n",
              "      <div>\n",
              "<style scoped>\n",
              "    .dataframe tbody tr th:only-of-type {\n",
              "        vertical-align: middle;\n",
              "    }\n",
              "\n",
              "    .dataframe tbody tr th {\n",
              "        vertical-align: top;\n",
              "    }\n",
              "\n",
              "    .dataframe thead th {\n",
              "        text-align: right;\n",
              "    }\n",
              "</style>\n",
              "<table border=\"1\" class=\"dataframe\">\n",
              "  <thead>\n",
              "    <tr style=\"text-align: right;\">\n",
              "      <th></th>\n",
              "      <th>X_acc</th>\n",
              "      <th>Y_acc</th>\n",
              "      <th>Z_acc</th>\n",
              "      <th>X_gyr</th>\n",
              "      <th>Y_gyr</th>\n",
              "      <th>Z_gyr</th>\n",
              "    </tr>\n",
              "  </thead>\n",
              "  <tbody>\n",
              "    <tr>\n",
              "      <th>1561637</th>\n",
              "      <td>-1.399392</td>\n",
              "      <td>17.014197</td>\n",
              "      <td>10.575139</td>\n",
              "      <td>-1.683699</td>\n",
              "      <td>-1.600597</td>\n",
              "      <td>-0.446467</td>\n",
              "    </tr>\n",
              "    <tr>\n",
              "      <th>1530095</th>\n",
              "      <td>0.664469</td>\n",
              "      <td>1.617622</td>\n",
              "      <td>10.882510</td>\n",
              "      <td>-1.392880</td>\n",
              "      <td>-0.697540</td>\n",
              "      <td>-0.642910</td>\n",
              "    </tr>\n",
              "    <tr>\n",
              "      <th>3258815</th>\n",
              "      <td>-1.088364</td>\n",
              "      <td>-3.884695</td>\n",
              "      <td>-4.383529</td>\n",
              "      <td>-1.247108</td>\n",
              "      <td>-1.937497</td>\n",
              "      <td>-1.176444</td>\n",
              "    </tr>\n",
              "    <tr>\n",
              "      <th>1285142</th>\n",
              "      <td>7.814702</td>\n",
              "      <td>7.672287</td>\n",
              "      <td>4.813129</td>\n",
              "      <td>-0.295505</td>\n",
              "      <td>0.640524</td>\n",
              "      <td>0.621087</td>\n",
              "    </tr>\n",
              "    <tr>\n",
              "      <th>1793611</th>\n",
              "      <td>0.118456</td>\n",
              "      <td>8.013318</td>\n",
              "      <td>13.331275</td>\n",
              "      <td>-3.123799</td>\n",
              "      <td>0.393665</td>\n",
              "      <td>0.853958</td>\n",
              "    </tr>\n",
              "  </tbody>\n",
              "</table>\n",
              "</div>\n",
              "      <button class=\"colab-df-convert\" onclick=\"convertToInteractive('df-ed50594e-9244-4a35-b092-f2b719da9e73')\"\n",
              "              title=\"Convert this dataframe to an interactive table.\"\n",
              "              style=\"display:none;\">\n",
              "        \n",
              "  <svg xmlns=\"http://www.w3.org/2000/svg\" height=\"24px\"viewBox=\"0 0 24 24\"\n",
              "       width=\"24px\">\n",
              "    <path d=\"M0 0h24v24H0V0z\" fill=\"none\"/>\n",
              "    <path d=\"M18.56 5.44l.94 2.06.94-2.06 2.06-.94-2.06-.94-.94-2.06-.94 2.06-2.06.94zm-11 1L8.5 8.5l.94-2.06 2.06-.94-2.06-.94L8.5 2.5l-.94 2.06-2.06.94zm10 10l.94 2.06.94-2.06 2.06-.94-2.06-.94-.94-2.06-.94 2.06-2.06.94z\"/><path d=\"M17.41 7.96l-1.37-1.37c-.4-.4-.92-.59-1.43-.59-.52 0-1.04.2-1.43.59L10.3 9.45l-7.72 7.72c-.78.78-.78 2.05 0 2.83L4 21.41c.39.39.9.59 1.41.59.51 0 1.02-.2 1.41-.59l7.78-7.78 2.81-2.81c.8-.78.8-2.07 0-2.86zM5.41 20L4 18.59l7.72-7.72 1.47 1.35L5.41 20z\"/>\n",
              "  </svg>\n",
              "      </button>\n",
              "      \n",
              "  <style>\n",
              "    .colab-df-container {\n",
              "      display:flex;\n",
              "      flex-wrap:wrap;\n",
              "      gap: 12px;\n",
              "    }\n",
              "\n",
              "    .colab-df-convert {\n",
              "      background-color: #E8F0FE;\n",
              "      border: none;\n",
              "      border-radius: 50%;\n",
              "      cursor: pointer;\n",
              "      display: none;\n",
              "      fill: #1967D2;\n",
              "      height: 32px;\n",
              "      padding: 0 0 0 0;\n",
              "      width: 32px;\n",
              "    }\n",
              "\n",
              "    .colab-df-convert:hover {\n",
              "      background-color: #E2EBFA;\n",
              "      box-shadow: 0px 1px 2px rgba(60, 64, 67, 0.3), 0px 1px 3px 1px rgba(60, 64, 67, 0.15);\n",
              "      fill: #174EA6;\n",
              "    }\n",
              "\n",
              "    [theme=dark] .colab-df-convert {\n",
              "      background-color: #3B4455;\n",
              "      fill: #D2E3FC;\n",
              "    }\n",
              "\n",
              "    [theme=dark] .colab-df-convert:hover {\n",
              "      background-color: #434B5C;\n",
              "      box-shadow: 0px 1px 3px 1px rgba(0, 0, 0, 0.15);\n",
              "      filter: drop-shadow(0px 1px 2px rgba(0, 0, 0, 0.3));\n",
              "      fill: #FFFFFF;\n",
              "    }\n",
              "  </style>\n",
              "\n",
              "      <script>\n",
              "        const buttonEl =\n",
              "          document.querySelector('#df-ed50594e-9244-4a35-b092-f2b719da9e73 button.colab-df-convert');\n",
              "        buttonEl.style.display =\n",
              "          google.colab.kernel.accessAllowed ? 'block' : 'none';\n",
              "\n",
              "        async function convertToInteractive(key) {\n",
              "          const element = document.querySelector('#df-ed50594e-9244-4a35-b092-f2b719da9e73');\n",
              "          const dataTable =\n",
              "            await google.colab.kernel.invokeFunction('convertToInteractive',\n",
              "                                                     [key], {});\n",
              "          if (!dataTable) return;\n",
              "\n",
              "          const docLinkHtml = 'Like what you see? Visit the ' +\n",
              "            '<a target=\"_blank\" href=https://colab.research.google.com/notebooks/data_table.ipynb>data table notebook</a>'\n",
              "            + ' to learn more about interactive tables.';\n",
              "          element.innerHTML = '';\n",
              "          dataTable['output_type'] = 'display_data';\n",
              "          await google.colab.output.renderOutput(dataTable, element);\n",
              "          const docLink = document.createElement('div');\n",
              "          docLink.innerHTML = docLinkHtml;\n",
              "          element.appendChild(docLink);\n",
              "        }\n",
              "      </script>\n",
              "    </div>\n",
              "  </div>\n",
              "  "
            ]
          },
          "metadata": {},
          "execution_count": 72
        }
      ]
    },
    {
      "cell_type": "markdown",
      "source": [
        "## Random Forest"
      ],
      "metadata": {
        "id": "94KoVL7fVmLr"
      }
    },
    {
      "cell_type": "code",
      "source": [
        "Random_F_model = RandomForestClassifier(n_estimators=20, random_state=0)\n",
        "Random_F_model.fit(x_train, y_train)"
      ],
      "metadata": {
        "colab": {
          "base_uri": "https://localhost:8080/",
          "height": 75
        },
        "id": "bBd5eRYa2NFy",
        "outputId": "540dd95d-49f6-4113-84c9-fb7ba5738c12"
      },
      "execution_count": null,
      "outputs": [
        {
          "output_type": "execute_result",
          "data": {
            "text/plain": [
              "RandomForestClassifier(n_estimators=20, random_state=0)"
            ],
            "text/html": [
              "<style>#sk-container-id-1 {color: black;background-color: white;}#sk-container-id-1 pre{padding: 0;}#sk-container-id-1 div.sk-toggleable {background-color: white;}#sk-container-id-1 label.sk-toggleable__label {cursor: pointer;display: block;width: 100%;margin-bottom: 0;padding: 0.3em;box-sizing: border-box;text-align: center;}#sk-container-id-1 label.sk-toggleable__label-arrow:before {content: \"▸\";float: left;margin-right: 0.25em;color: #696969;}#sk-container-id-1 label.sk-toggleable__label-arrow:hover:before {color: black;}#sk-container-id-1 div.sk-estimator:hover label.sk-toggleable__label-arrow:before {color: black;}#sk-container-id-1 div.sk-toggleable__content {max-height: 0;max-width: 0;overflow: hidden;text-align: left;background-color: #f0f8ff;}#sk-container-id-1 div.sk-toggleable__content pre {margin: 0.2em;color: black;border-radius: 0.25em;background-color: #f0f8ff;}#sk-container-id-1 input.sk-toggleable__control:checked~div.sk-toggleable__content {max-height: 200px;max-width: 100%;overflow: auto;}#sk-container-id-1 input.sk-toggleable__control:checked~label.sk-toggleable__label-arrow:before {content: \"▾\";}#sk-container-id-1 div.sk-estimator input.sk-toggleable__control:checked~label.sk-toggleable__label {background-color: #d4ebff;}#sk-container-id-1 div.sk-label input.sk-toggleable__control:checked~label.sk-toggleable__label {background-color: #d4ebff;}#sk-container-id-1 input.sk-hidden--visually {border: 0;clip: rect(1px 1px 1px 1px);clip: rect(1px, 1px, 1px, 1px);height: 1px;margin: -1px;overflow: hidden;padding: 0;position: absolute;width: 1px;}#sk-container-id-1 div.sk-estimator {font-family: monospace;background-color: #f0f8ff;border: 1px dotted black;border-radius: 0.25em;box-sizing: border-box;margin-bottom: 0.5em;}#sk-container-id-1 div.sk-estimator:hover {background-color: #d4ebff;}#sk-container-id-1 div.sk-parallel-item::after {content: \"\";width: 100%;border-bottom: 1px solid gray;flex-grow: 1;}#sk-container-id-1 div.sk-label:hover label.sk-toggleable__label {background-color: #d4ebff;}#sk-container-id-1 div.sk-serial::before {content: \"\";position: absolute;border-left: 1px solid gray;box-sizing: border-box;top: 0;bottom: 0;left: 50%;z-index: 0;}#sk-container-id-1 div.sk-serial {display: flex;flex-direction: column;align-items: center;background-color: white;padding-right: 0.2em;padding-left: 0.2em;position: relative;}#sk-container-id-1 div.sk-item {position: relative;z-index: 1;}#sk-container-id-1 div.sk-parallel {display: flex;align-items: stretch;justify-content: center;background-color: white;position: relative;}#sk-container-id-1 div.sk-item::before, #sk-container-id-1 div.sk-parallel-item::before {content: \"\";position: absolute;border-left: 1px solid gray;box-sizing: border-box;top: 0;bottom: 0;left: 50%;z-index: -1;}#sk-container-id-1 div.sk-parallel-item {display: flex;flex-direction: column;z-index: 1;position: relative;background-color: white;}#sk-container-id-1 div.sk-parallel-item:first-child::after {align-self: flex-end;width: 50%;}#sk-container-id-1 div.sk-parallel-item:last-child::after {align-self: flex-start;width: 50%;}#sk-container-id-1 div.sk-parallel-item:only-child::after {width: 0;}#sk-container-id-1 div.sk-dashed-wrapped {border: 1px dashed gray;margin: 0 0.4em 0.5em 0.4em;box-sizing: border-box;padding-bottom: 0.4em;background-color: white;}#sk-container-id-1 div.sk-label label {font-family: monospace;font-weight: bold;display: inline-block;line-height: 1.2em;}#sk-container-id-1 div.sk-label-container {text-align: center;}#sk-container-id-1 div.sk-container {/* jupyter's `normalize.less` sets `[hidden] { display: none; }` but bootstrap.min.css set `[hidden] { display: none !important; }` so we also need the `!important` here to be able to override the default hidden behavior on the sphinx rendered scikit-learn.org. See: https://github.com/scikit-learn/scikit-learn/issues/21755 */display: inline-block !important;position: relative;}#sk-container-id-1 div.sk-text-repr-fallback {display: none;}</style><div id=\"sk-container-id-1\" class=\"sk-top-container\"><div class=\"sk-text-repr-fallback\"><pre>RandomForestClassifier(n_estimators=20, random_state=0)</pre><b>In a Jupyter environment, please rerun this cell to show the HTML representation or trust the notebook. <br />On GitHub, the HTML representation is unable to render, please try loading this page with nbviewer.org.</b></div><div class=\"sk-container\" hidden><div class=\"sk-item\"><div class=\"sk-estimator sk-toggleable\"><input class=\"sk-toggleable__control sk-hidden--visually\" id=\"sk-estimator-id-1\" type=\"checkbox\" checked><label for=\"sk-estimator-id-1\" class=\"sk-toggleable__label sk-toggleable__label-arrow\">RandomForestClassifier</label><div class=\"sk-toggleable__content\"><pre>RandomForestClassifier(n_estimators=20, random_state=0)</pre></div></div></div></div></div>"
            ]
          },
          "metadata": {},
          "execution_count": 41
        }
      ]
    },
    {
      "cell_type": "code",
      "source": [
        "y_pred = Random_F_model.predict(x_val)"
      ],
      "metadata": {
        "id": "Ip-STjgVhjD_"
      },
      "execution_count": null,
      "outputs": []
    },
    {
      "cell_type": "code",
      "source": [
        "target_names = ['class 0', 'class 1', 'class 2','class 3' ]\n",
        "print(classification_report(y_val, y_pred, target_names=target_names))"
      ],
      "metadata": {
        "colab": {
          "base_uri": "https://localhost:8080/"
        },
        "id": "aWuNQbw0zhNl",
        "outputId": "f6eb463f-6fbd-461a-e0a7-072dbdca2620"
      },
      "execution_count": null,
      "outputs": [
        {
          "output_type": "stream",
          "name": "stdout",
          "text": [
            "              precision    recall  f1-score   support\n",
            "\n",
            "     class 0       0.97      0.95      0.96    201410\n",
            "     class 1       0.98      0.99      0.99    200867\n",
            "     class 2       0.99      0.99      0.99    201573\n",
            "     class 3       0.96      0.97      0.97    201626\n",
            "\n",
            "    accuracy                           0.98    805476\n",
            "   macro avg       0.98      0.98      0.98    805476\n",
            "weighted avg       0.98      0.98      0.98    805476\n",
            "\n"
          ]
        }
      ]
    },
    {
      "cell_type": "code",
      "source": [
        "print('F1 Score:', metrics.f1_score(y_val, y_pred, average='macro'))\n",
        "print('Accuracy Score:', metrics.accuracy_score(y_val, y_pred))\n",
        "print('Precision score: ', metrics.precision_score(y_val, y_pred, average='macro'))\n",
        "print('Recall score: ', metrics.recall_score(y_val, y_pred, average='macro'))\n",
        "print('Accuracy Score:', metrics.accuracy_score(y_val, y_pred))\n",
        "print('Mean Absolute Error:', metrics.mean_absolute_error(y_val, y_pred))"
      ],
      "metadata": {
        "colab": {
          "base_uri": "https://localhost:8080/"
        },
        "id": "4nkTJKWMjWJc",
        "outputId": "7f6a37ad-d686-4828-e0dd-8446299dd995"
      },
      "execution_count": null,
      "outputs": [
        {
          "output_type": "stream",
          "name": "stdout",
          "text": [
            "F1 Score: 0.9762188371968618\n",
            "Accuracy Score: 0.9762748983209928\n",
            "Precision score:  0.9762136669419451\n",
            "Recall score:  0.9762848381830143\n",
            "Accuracy Score: 0.9762748983209928\n",
            "Mean Absolute Error: 0.056607521515228264\n"
          ]
        }
      ]
    },
    {
      "cell_type": "code",
      "source": [
        "print('Confusion Matrix:') \n",
        "print(metrics.confusion_matrix(y_val, y_pred))\n"
      ],
      "metadata": {
        "colab": {
          "base_uri": "https://localhost:8080/"
        },
        "id": "wfYJJ_Ho0Jow",
        "outputId": "aefb3bdf-1730-4ed6-e6c0-77a09b64ae1c"
      },
      "execution_count": null,
      "outputs": [
        {
          "output_type": "stream",
          "name": "stdout",
          "text": [
            "Confusion Matrix:\n",
            "[[191281   1989   1576   6564]\n",
            " [   790 199486    272    319]\n",
            " [   565    313 200463    232]\n",
            " [  4963    972    555 195136]]\n"
          ]
        }
      ]
    },
    {
      "cell_type": "code",
      "source": [
        "fn=['X_acc', 'Y_acc', 'Z_acc', 'X_gyr', 'Y_gyr', 'Z_gyr']\n"
      ],
      "metadata": {
        "id": "71e6SoSSpZ2u"
      },
      "execution_count": null,
      "outputs": []
    },
    {
      "cell_type": "code",
      "source": [
        "plt.figure(figsize=(20, 10))\n",
        "tree = Random_F_model.estimators_[0]\n",
        "plot_tree(tree,feature_names = fn, max_depth=3,fontsize=10, filled = True)\n",
        "plt.show()"
      ],
      "metadata": {
        "colab": {
          "base_uri": "https://localhost:8080/",
          "height": 647
        },
        "id": "skUkpXax02QJ",
        "outputId": "9cb6738b-e61a-4406-bc1c-bf5c3379bb62"
      },
      "execution_count": null,
      "outputs": [
        {
          "output_type": "display_data",
          "data": {
            "text/plain": [
              "<Figure size 2000x1000 with 1 Axes>"
            ],
            "image/png": "[encoded data removed]"
          },
          "metadata": {}
        }
      ]
    },
    {
      "cell_type": "markdown",
      "source": [
        "# Getting the test set"
      ],
      "metadata": {
        "id": "Ue19Azq5XI9j"
      }
    },
    {
      "cell_type": "code",
      "source": [
        "# Test_set \n",
        "x_test_files = glob.glob(test_path + \"/subject_0*_*__x.csv\")\n",
        "x_test_time_files = glob.glob(test_path + \"/subject_0*_*__x_time.csv\")\n",
        "y_test_time_files = glob.glob(test_path + \"/subject_0*_*__y_time.csv\")"
      ],
      "metadata": {
        "id": "zjhTv5P3k4uV"
      },
      "execution_count": null,
      "outputs": []
    },
    {
      "cell_type": "code",
      "source": [
        "subject_list_x_test = get_subject_list(x_test_files)\n",
        "subject_list_x_time_test = get_subject_list(x_test_time_files)\n",
        "subject_list_y_time_test = get_subject_list(y_test_time_files)"
      ],
      "metadata": {
        "id": "p5UYUuC4mTeA"
      },
      "execution_count": null,
      "outputs": []
    },
    {
      "cell_type": "code",
      "source": [
        "subject_list_x_test"
      ],
      "metadata": {
        "colab": {
          "base_uri": "https://localhost:8080/"
        },
        "id": "7--g0swXmyEn",
        "outputId": "c7f79075-f52b-47e1-f1ba-365f68b5e036"
      },
      "execution_count": null,
      "outputs": [
        {
          "output_type": "execute_result",
          "data": {
            "text/plain": [
              "['subject_009_01__x.csv',\n",
              " 'subject_010_01__x.csv',\n",
              " 'subject_011_01__x.csv',\n",
              " 'subject_012_01__x.csv']"
            ]
          },
          "metadata": {},
          "execution_count": 75
        }
      ]
    },
    {
      "cell_type": "code",
      "source": [
        "frame_list_x_test = []\n",
        "for subj1,subj1_time in zip(subject_list_x_test,subject_list_x_time_test):\n",
        "  print(subj1,subj1_time)\n",
        "  df1_2 = combine_x_x_time(test_path + subj1,test_path + subj1_time)\n",
        "  print(len(df1_2))\n",
        "  frame_list_x_test.append(df1_2)"
      ],
      "metadata": {
        "colab": {
          "base_uri": "https://localhost:8080/"
        },
        "id": "T6d0bNPFl2y2",
        "outputId": "85fc762f-01ea-41a8-c212-9c1d9b9d03f4"
      },
      "execution_count": null,
      "outputs": [
        {
          "output_type": "stream",
          "name": "stdout",
          "text": [
            "subject_009_01__x.csv subject_009_01__x_time.csv\n",
            "37991\n",
            "subject_010_01__x.csv subject_010_01__x_time.csv\n",
            "49081\n",
            "subject_011_01__x.csv subject_011_01__x_time.csv\n",
            "51761\n",
            "subject_012_01__x.csv subject_012_01__x_time.csv\n",
            "45319\n"
          ]
        }
      ]
    },
    {
      "cell_type": "code",
      "source": [
        "frame_list_y_test = []\n",
        "for subj1_y in subject_list_y_time_test:\n",
        "  df1_y_time = pd.read_csv(test_path + subj1_y, names = ['Time stamp'])\n",
        "  frame_list_y_test.append(df1_y_time)\n"
      ],
      "metadata": {
        "id": "cCZkYrdSpbAv"
      },
      "execution_count": null,
      "outputs": []
    },
    {
      "cell_type": "code",
      "source": [
        "def combine_x_y_test(x_frame, y_frame):\n",
        "\n",
        "    time_stamp_y = y_frame['Time stamp'].tolist()\n",
        "    print(len(time_stamp_y))\n",
        "    time_stamp_x = x_frame['Time stamp'].tolist()\n",
        "    print(len(time_stamp_x))\n",
        "    x_frame_new = x_frame.copy().drop('Time stamp', axis=1)\n",
        "\n",
        "    df_x = [] \n",
        "    count = 0\n",
        "    for i in range(0, len(time_stamp_y)-1):\n",
        "        while (time_stamp_x[count] <= time_stamp_y[i]) and (count <= len(time_stamp_x)):\n",
        "            df_x_row = x_frame_new.iloc[count].tolist()\n",
        "            df_x.append(df_x_row)\n",
        "            count += 4\n",
        "        continue\n",
        "    df_x_last_row = x_frame_new.iloc[count+1].tolist()\n",
        "    df_x.append(df_x_last_row)\n",
        "    new_df_x = pd.DataFrame(df_x)\n",
        "    return new_df_x"
      ],
      "metadata": {
        "id": "filO0u_Pl21X"
      },
      "execution_count": null,
      "outputs": []
    },
    {
      "cell_type": "code",
      "source": [
        "test = []\n",
        "for i in range(len(frame_list_y_test)):\n",
        "  time_x = combine_x_y_test(frame_list_x_test[i], frame_list_y_test[i])\n",
        "  test.append(time_x)\n"
      ],
      "metadata": {
        "colab": {
          "base_uri": "https://localhost:8080/"
        },
        "id": "hJaTXBZVl23u",
        "outputId": "df40d775-c84d-4778-b4e7-3c6136c7803f"
      },
      "execution_count": null,
      "outputs": [
        {
          "output_type": "stream",
          "name": "stdout",
          "text": [
            "9498\n",
            "37991\n",
            "12270\n",
            "49081\n",
            "12940\n",
            "51761\n",
            "11330\n",
            "45319\n"
          ]
        }
      ]
    },
    {
      "cell_type": "code",
      "source": [
        "subject9_X = pd.DataFrame(test[0])\n",
        "subject9_X = pd.DataFrame(subject9_X.values, columns = ['X_acc', 'Y_acc', 'Z_acc', 'X_gyr', 'Y_gyr', 'Z_gyr'])\n",
        "subject10_X = pd.DataFrame(test[1])\n",
        "subject10_X = pd.DataFrame(subject10_X.values, columns = ['X_acc', 'Y_acc', 'Z_acc', 'X_gyr', 'Y_gyr', 'Z_gyr'])\n",
        "subject11_X = pd.DataFrame(test[2])\n",
        "subject11_X = pd.DataFrame(subject11_X.values, columns = ['X_acc', 'Y_acc', 'Z_acc', 'X_gyr', 'Y_gyr', 'Z_gyr'])\n",
        "subject12_X = pd.DataFrame(test[3])\n",
        "subject12_X = pd.DataFrame(subject12_X.values, columns = ['X_acc', 'Y_acc', 'Z_acc', 'X_gyr', 'Y_gyr', 'Z_gyr'])"
      ],
      "metadata": {
        "id": "MDqAQv7D0Nbb"
      },
      "execution_count": null,
      "outputs": []
    },
    {
      "cell_type": "code",
      "source": [
        "subject10_X"
      ],
      "metadata": {
        "colab": {
          "base_uri": "https://localhost:8080/",
          "height": 423
        },
        "id": "5LnkV6JcgFAy",
        "outputId": "545cbf6e-98a1-413d-dace-f4e39d758d78"
      },
      "execution_count": null,
      "outputs": [
        {
          "output_type": "execute_result",
          "data": {
            "text/plain": [
              "          X_acc     Y_acc     Z_acc     X_gyr     Y_gyr     Z_gyr\n",
              "0      1.677089  9.653418  0.216836 -0.003305 -0.001139 -0.010541\n",
              "1      1.643437  9.630000  0.226718 -0.000565 -0.003373 -0.006667\n",
              "2      1.639583  9.632604  0.218698 -0.000996 -0.005147 -0.004151\n",
              "3      1.629891  9.654946  0.204946 -0.002246  0.000409 -0.000725\n",
              "4      1.524729  9.634946  0.255054 -0.000627  0.001111  0.001111\n",
              "...         ...       ...       ...       ...       ...       ...\n",
              "12265  1.029002  9.611286  1.151286  0.015047  0.043049  0.029042\n",
              "12266  1.388496  9.596767  0.974737  0.067452  0.044085  0.022548\n",
              "12267  1.077164  9.619083  0.662665  0.069404 -0.073914 -0.065202\n",
              "12268  1.096480  9.604600  0.724320  0.030629 -0.030956 -0.039363\n",
              "12269  1.067204  9.659606  0.736398  0.025361 -0.028425 -0.054380\n",
              "\n",
              "[12270 rows x 6 columns]"
            ],
            "text/html": [
              "\n",
              "  <div id=\"df-23288fac-d078-43ea-8563-b1025f00faaf\">\n",
              "    <div class=\"colab-df-container\">\n",
              "      <div>\n",
              "<style scoped>\n",
              "    .dataframe tbody tr th:only-of-type {\n",
              "        vertical-align: middle;\n",
              "    }\n",
              "\n",
              "    .dataframe tbody tr th {\n",
              "        vertical-align: top;\n",
              "    }\n",
              "\n",
              "    .dataframe thead th {\n",
              "        text-align: right;\n",
              "    }\n",
              "</style>\n",
              "<table border=\"1\" class=\"dataframe\">\n",
              "  <thead>\n",
              "    <tr style=\"text-align: right;\">\n",
              "      <th></th>\n",
              "      <th>X_acc</th>\n",
              "      <th>Y_acc</th>\n",
              "      <th>Z_acc</th>\n",
              "      <th>X_gyr</th>\n",
              "      <th>Y_gyr</th>\n",
              "      <th>Z_gyr</th>\n",
              "    </tr>\n",
              "  </thead>\n",
              "  <tbody>\n",
              "    <tr>\n",
              "      <th>0</th>\n",
              "      <td>1.677089</td>\n",
              "      <td>9.653418</td>\n",
              "      <td>0.216836</td>\n",
              "      <td>-0.003305</td>\n",
              "      <td>-0.001139</td>\n",
              "      <td>-0.010541</td>\n",
              "    </tr>\n",
              "    <tr>\n",
              "      <th>1</th>\n",
              "      <td>1.643437</td>\n",
              "      <td>9.630000</td>\n",
              "      <td>0.226718</td>\n",
              "      <td>-0.000565</td>\n",
              "      <td>-0.003373</td>\n",
              "      <td>-0.006667</td>\n",
              "    </tr>\n",
              "    <tr>\n",
              "      <th>2</th>\n",
              "      <td>1.639583</td>\n",
              "      <td>9.632604</td>\n",
              "      <td>0.218698</td>\n",
              "      <td>-0.000996</td>\n",
              "      <td>-0.005147</td>\n",
              "      <td>-0.004151</td>\n",
              "    </tr>\n",
              "    <tr>\n",
              "      <th>3</th>\n",
              "      <td>1.629891</td>\n",
              "      <td>9.654946</td>\n",
              "      <td>0.204946</td>\n",
              "      <td>-0.002246</td>\n",
              "      <td>0.000409</td>\n",
              "      <td>-0.000725</td>\n",
              "    </tr>\n",
              "    <tr>\n",
              "      <th>4</th>\n",
              "      <td>1.524729</td>\n",
              "      <td>9.634946</td>\n",
              "      <td>0.255054</td>\n",
              "      <td>-0.000627</td>\n",
              "      <td>0.001111</td>\n",
              "      <td>0.001111</td>\n",
              "    </tr>\n",
              "    <tr>\n",
              "      <th>...</th>\n",
              "      <td>...</td>\n",
              "      <td>...</td>\n",
              "      <td>...</td>\n",
              "      <td>...</td>\n",
              "      <td>...</td>\n",
              "      <td>...</td>\n",
              "    </tr>\n",
              "    <tr>\n",
              "      <th>12265</th>\n",
              "      <td>1.029002</td>\n",
              "      <td>9.611286</td>\n",
              "      <td>1.151286</td>\n",
              "      <td>0.015047</td>\n",
              "      <td>0.043049</td>\n",
              "      <td>0.029042</td>\n",
              "    </tr>\n",
              "    <tr>\n",
              "      <th>12266</th>\n",
              "      <td>1.388496</td>\n",
              "      <td>9.596767</td>\n",
              "      <td>0.974737</td>\n",
              "      <td>0.067452</td>\n",
              "      <td>0.044085</td>\n",
              "      <td>0.022548</td>\n",
              "    </tr>\n",
              "    <tr>\n",
              "      <th>12267</th>\n",
              "      <td>1.077164</td>\n",
              "      <td>9.619083</td>\n",
              "      <td>0.662665</td>\n",
              "      <td>0.069404</td>\n",
              "      <td>-0.073914</td>\n",
              "      <td>-0.065202</td>\n",
              "    </tr>\n",
              "    <tr>\n",
              "      <th>12268</th>\n",
              "      <td>1.096480</td>\n",
              "      <td>9.604600</td>\n",
              "      <td>0.724320</td>\n",
              "      <td>0.030629</td>\n",
              "      <td>-0.030956</td>\n",
              "      <td>-0.039363</td>\n",
              "    </tr>\n",
              "    <tr>\n",
              "      <th>12269</th>\n",
              "      <td>1.067204</td>\n",
              "      <td>9.659606</td>\n",
              "      <td>0.736398</td>\n",
              "      <td>0.025361</td>\n",
              "      <td>-0.028425</td>\n",
              "      <td>-0.054380</td>\n",
              "    </tr>\n",
              "  </tbody>\n",
              "</table>\n",
              "<p>12270 rows × 6 columns</p>\n",
              "</div>\n",
              "      <button class=\"colab-df-convert\" onclick=\"convertToInteractive('df-23288fac-d078-43ea-8563-b1025f00faaf')\"\n",
              "              title=\"Convert this dataframe to an interactive table.\"\n",
              "              style=\"display:none;\">\n",
              "        \n",
              "  <svg xmlns=\"http://www.w3.org/2000/svg\" height=\"24px\"viewBox=\"0 0 24 24\"\n",
              "       width=\"24px\">\n",
              "    <path d=\"M0 0h24v24H0V0z\" fill=\"none\"/>\n",
              "    <path d=\"M18.56 5.44l.94 2.06.94-2.06 2.06-.94-2.06-.94-.94-2.06-.94 2.06-2.06.94zm-11 1L8.5 8.5l.94-2.06 2.06-.94-2.06-.94L8.5 2.5l-.94 2.06-2.06.94zm10 10l.94 2.06.94-2.06 2.06-.94-2.06-.94-.94-2.06-.94 2.06-2.06.94z\"/><path d=\"M17.41 7.96l-1.37-1.37c-.4-.4-.92-.59-1.43-.59-.52 0-1.04.2-1.43.59L10.3 9.45l-7.72 7.72c-.78.78-.78 2.05 0 2.83L4 21.41c.39.39.9.59 1.41.59.51 0 1.02-.2 1.41-.59l7.78-7.78 2.81-2.81c.8-.78.8-2.07 0-2.86zM5.41 20L4 18.59l7.72-7.72 1.47 1.35L5.41 20z\"/>\n",
              "  </svg>\n",
              "      </button>\n",
              "      \n",
              "  <style>\n",
              "    .colab-df-container {\n",
              "      display:flex;\n",
              "      flex-wrap:wrap;\n",
              "      gap: 12px;\n",
              "    }\n",
              "\n",
              "    .colab-df-convert {\n",
              "      background-color: #E8F0FE;\n",
              "      border: none;\n",
              "      border-radius: 50%;\n",
              "      cursor: pointer;\n",
              "      display: none;\n",
              "      fill: #1967D2;\n",
              "      height: 32px;\n",
              "      padding: 0 0 0 0;\n",
              "      width: 32px;\n",
              "    }\n",
              "\n",
              "    .colab-df-convert:hover {\n",
              "      background-color: #E2EBFA;\n",
              "      box-shadow: 0px 1px 2px rgba(60, 64, 67, 0.3), 0px 1px 3px 1px rgba(60, 64, 67, 0.15);\n",
              "      fill: #174EA6;\n",
              "    }\n",
              "\n",
              "    [theme=dark] .colab-df-convert {\n",
              "      background-color: #3B4455;\n",
              "      fill: #D2E3FC;\n",
              "    }\n",
              "\n",
              "    [theme=dark] .colab-df-convert:hover {\n",
              "      background-color: #434B5C;\n",
              "      box-shadow: 0px 1px 3px 1px rgba(0, 0, 0, 0.15);\n",
              "      filter: drop-shadow(0px 1px 2px rgba(0, 0, 0, 0.3));\n",
              "      fill: #FFFFFF;\n",
              "    }\n",
              "  </style>\n",
              "\n",
              "      <script>\n",
              "        const buttonEl =\n",
              "          document.querySelector('#df-23288fac-d078-43ea-8563-b1025f00faaf button.colab-df-convert');\n",
              "        buttonEl.style.display =\n",
              "          google.colab.kernel.accessAllowed ? 'block' : 'none';\n",
              "\n",
              "        async function convertToInteractive(key) {\n",
              "          const element = document.querySelector('#df-23288fac-d078-43ea-8563-b1025f00faaf');\n",
              "          const dataTable =\n",
              "            await google.colab.kernel.invokeFunction('convertToInteractive',\n",
              "                                                     [key], {});\n",
              "          if (!dataTable) return;\n",
              "\n",
              "          const docLinkHtml = 'Like what you see? Visit the ' +\n",
              "            '<a target=\"_blank\" href=https://colab.research.google.com/notebooks/data_table.ipynb>data table notebook</a>'\n",
              "            + ' to learn more about interactive tables.';\n",
              "          element.innerHTML = '';\n",
              "          dataTable['output_type'] = 'display_data';\n",
              "          await google.colab.output.renderOutput(dataTable, element);\n",
              "          const docLink = document.createElement('div');\n",
              "          docLink.innerHTML = docLinkHtml;\n",
              "          element.appendChild(docLink);\n",
              "        }\n",
              "      </script>\n",
              "    </div>\n",
              "  </div>\n",
              "  "
            ]
          },
          "metadata": {},
          "execution_count": 85
        }
      ]
    },
    {
      "cell_type": "code",
      "source": [
        "subject9_X.head()"
      ],
      "metadata": {
        "colab": {
          "base_uri": "https://localhost:8080/",
          "height": 206
        },
        "id": "yb58Hag42EG8",
        "outputId": "b3e05836-a23b-4913-9179-b96351de3e34"
      },
      "execution_count": null,
      "outputs": [
        {
          "output_type": "execute_result",
          "data": {
            "text/plain": [
              "      X_acc     Y_acc     Z_acc     X_gyr     Y_gyr     Z_gyr\n",
              "0  0.396845  8.710000 -4.476044  0.001111 -0.008889  0.004137\n",
              "1  0.485234  8.725234 -4.520000 -0.000020  0.006667  0.007778\n",
              "2  0.460536  8.709464 -4.480000  0.001815  0.004525  0.002981\n",
              "3  0.463828  8.708437 -4.470000 -0.000466  0.005089  0.002867\n",
              "4  0.454513  8.715487 -4.489026  0.002387  0.004444  0.002696"
            ],
            "text/html": [
              "\n",
              "  <div id=\"df-f16722c2-d51b-4ee9-8dec-dca75f0ee5fa\">\n",
              "    <div class=\"colab-df-container\">\n",
              "      <div>\n",
              "<style scoped>\n",
              "    .dataframe tbody tr th:only-of-type {\n",
              "        vertical-align: middle;\n",
              "    }\n",
              "\n",
              "    .dataframe tbody tr th {\n",
              "        vertical-align: top;\n",
              "    }\n",
              "\n",
              "    .dataframe thead th {\n",
              "        text-align: right;\n",
              "    }\n",
              "</style>\n",
              "<table border=\"1\" class=\"dataframe\">\n",
              "  <thead>\n",
              "    <tr style=\"text-align: right;\">\n",
              "      <th></th>\n",
              "      <th>X_acc</th>\n",
              "      <th>Y_acc</th>\n",
              "      <th>Z_acc</th>\n",
              "      <th>X_gyr</th>\n",
              "      <th>Y_gyr</th>\n",
              "      <th>Z_gyr</th>\n",
              "    </tr>\n",
              "  </thead>\n",
              "  <tbody>\n",
              "    <tr>\n",
              "      <th>0</th>\n",
              "      <td>0.396845</td>\n",
              "      <td>8.710000</td>\n",
              "      <td>-4.476044</td>\n",
              "      <td>0.001111</td>\n",
              "      <td>-0.008889</td>\n",
              "      <td>0.004137</td>\n",
              "    </tr>\n",
              "    <tr>\n",
              "      <th>1</th>\n",
              "      <td>0.485234</td>\n",
              "      <td>8.725234</td>\n",
              "      <td>-4.520000</td>\n",
              "      <td>-0.000020</td>\n",
              "      <td>0.006667</td>\n",
              "      <td>0.007778</td>\n",
              "    </tr>\n",
              "    <tr>\n",
              "      <th>2</th>\n",
              "      <td>0.460536</td>\n",
              "      <td>8.709464</td>\n",
              "      <td>-4.480000</td>\n",
              "      <td>0.001815</td>\n",
              "      <td>0.004525</td>\n",
              "      <td>0.002981</td>\n",
              "    </tr>\n",
              "    <tr>\n",
              "      <th>3</th>\n",
              "      <td>0.463828</td>\n",
              "      <td>8.708437</td>\n",
              "      <td>-4.470000</td>\n",
              "      <td>-0.000466</td>\n",
              "      <td>0.005089</td>\n",
              "      <td>0.002867</td>\n",
              "    </tr>\n",
              "    <tr>\n",
              "      <th>4</th>\n",
              "      <td>0.454513</td>\n",
              "      <td>8.715487</td>\n",
              "      <td>-4.489026</td>\n",
              "      <td>0.002387</td>\n",
              "      <td>0.004444</td>\n",
              "      <td>0.002696</td>\n",
              "    </tr>\n",
              "  </tbody>\n",
              "</table>\n",
              "</div>\n",
              "      <button class=\"colab-df-convert\" onclick=\"convertToInteractive('df-f16722c2-d51b-4ee9-8dec-dca75f0ee5fa')\"\n",
              "              title=\"Convert this dataframe to an interactive table.\"\n",
              "              style=\"display:none;\">\n",
              "        \n",
              "  <svg xmlns=\"http://www.w3.org/2000/svg\" height=\"24px\"viewBox=\"0 0 24 24\"\n",
              "       width=\"24px\">\n",
              "    <path d=\"M0 0h24v24H0V0z\" fill=\"none\"/>\n",
              "    <path d=\"M18.56 5.44l.94 2.06.94-2.06 2.06-.94-2.06-.94-.94-2.06-.94 2.06-2.06.94zm-11 1L8.5 8.5l.94-2.06 2.06-.94-2.06-.94L8.5 2.5l-.94 2.06-2.06.94zm10 10l.94 2.06.94-2.06 2.06-.94-2.06-.94-.94-2.06-.94 2.06-2.06.94z\"/><path d=\"M17.41 7.96l-1.37-1.37c-.4-.4-.92-.59-1.43-.59-.52 0-1.04.2-1.43.59L10.3 9.45l-7.72 7.72c-.78.78-.78 2.05 0 2.83L4 21.41c.39.39.9.59 1.41.59.51 0 1.02-.2 1.41-.59l7.78-7.78 2.81-2.81c.8-.78.8-2.07 0-2.86zM5.41 20L4 18.59l7.72-7.72 1.47 1.35L5.41 20z\"/>\n",
              "  </svg>\n",
              "      </button>\n",
              "      \n",
              "  <style>\n",
              "    .colab-df-container {\n",
              "      display:flex;\n",
              "      flex-wrap:wrap;\n",
              "      gap: 12px;\n",
              "    }\n",
              "\n",
              "    .colab-df-convert {\n",
              "      background-color: #E8F0FE;\n",
              "      border: none;\n",
              "      border-radius: 50%;\n",
              "      cursor: pointer;\n",
              "      display: none;\n",
              "      fill: #1967D2;\n",
              "      height: 32px;\n",
              "      padding: 0 0 0 0;\n",
              "      width: 32px;\n",
              "    }\n",
              "\n",
              "    .colab-df-convert:hover {\n",
              "      background-color: #E2EBFA;\n",
              "      box-shadow: 0px 1px 2px rgba(60, 64, 67, 0.3), 0px 1px 3px 1px rgba(60, 64, 67, 0.15);\n",
              "      fill: #174EA6;\n",
              "    }\n",
              "\n",
              "    [theme=dark] .colab-df-convert {\n",
              "      background-color: #3B4455;\n",
              "      fill: #D2E3FC;\n",
              "    }\n",
              "\n",
              "    [theme=dark] .colab-df-convert:hover {\n",
              "      background-color: #434B5C;\n",
              "      box-shadow: 0px 1px 3px 1px rgba(0, 0, 0, 0.15);\n",
              "      filter: drop-shadow(0px 1px 2px rgba(0, 0, 0, 0.3));\n",
              "      fill: #FFFFFF;\n",
              "    }\n",
              "  </style>\n",
              "\n",
              "      <script>\n",
              "        const buttonEl =\n",
              "          document.querySelector('#df-f16722c2-d51b-4ee9-8dec-dca75f0ee5fa button.colab-df-convert');\n",
              "        buttonEl.style.display =\n",
              "          google.colab.kernel.accessAllowed ? 'block' : 'none';\n",
              "\n",
              "        async function convertToInteractive(key) {\n",
              "          const element = document.querySelector('#df-f16722c2-d51b-4ee9-8dec-dca75f0ee5fa');\n",
              "          const dataTable =\n",
              "            await google.colab.kernel.invokeFunction('convertToInteractive',\n",
              "                                                     [key], {});\n",
              "          if (!dataTable) return;\n",
              "\n",
              "          const docLinkHtml = 'Like what you see? Visit the ' +\n",
              "            '<a target=\"_blank\" href=https://colab.research.google.com/notebooks/data_table.ipynb>data table notebook</a>'\n",
              "            + ' to learn more about interactive tables.';\n",
              "          element.innerHTML = '';\n",
              "          dataTable['output_type'] = 'display_data';\n",
              "          await google.colab.output.renderOutput(dataTable, element);\n",
              "          const docLink = document.createElement('div');\n",
              "          docLink.innerHTML = docLinkHtml;\n",
              "          element.appendChild(docLink);\n",
              "        }\n",
              "      </script>\n",
              "    </div>\n",
              "  </div>\n",
              "  "
            ]
          },
          "metadata": {},
          "execution_count": 82
        }
      ]
    },
    {
      "cell_type": "code",
      "source": [
        "len(subject9_X)"
      ],
      "metadata": {
        "colab": {
          "base_uri": "https://localhost:8080/"
        },
        "id": "pY7H6MEBdxUN",
        "outputId": "3d9ed7fe-c99a-40f4-d9d1-d6458c945cb4"
      },
      "execution_count": null,
      "outputs": [
        {
          "output_type": "execute_result",
          "data": {
            "text/plain": [
              "9498"
            ]
          },
          "metadata": {},
          "execution_count": 86
        }
      ]
    },
    {
      "cell_type": "code",
      "source": [
        "subject9_X.to_csv(output_path + 'subject9_X.csv')\n",
        "subject10_X.to_csv(output_path + 'subject10_X.csv')\n",
        "subject11_X.to_csv(output_path + 'subject11_X.csv')\n",
        "subject12_X.to_csv(output_path + 'subject12_X.csv')"
      ],
      "metadata": {
        "id": "l41nZ_8Bdoab"
      },
      "execution_count": null,
      "outputs": []
    },
    {
      "cell_type": "markdown",
      "source": [
        "## Evaluating on test set"
      ],
      "metadata": {
        "id": "2N6vPoS2XZR1"
      }
    },
    {
      "cell_type": "code",
      "source": [
        "y_pred_9 = Random_F_model.predict(subject9_X)\n",
        "y_pred_10 = Random_F_model.predict(subject10_X)\n",
        "y_pred_11 = Random_F_model.predict(subject11_X)\n",
        "y_pred_12 = Random_F_model.predict(subject12_X)"
      ],
      "metadata": {
        "id": "msRzcBf01CVh"
      },
      "execution_count": null,
      "outputs": []
    },
    {
      "cell_type": "code",
      "source": [
        "subject9 = pd.DataFrame(y_pred_9)\n",
        "subject9.to_csv('subject_009_01__y.csv')\n",
        "subject10 = pd.DataFrame(y_pred_10)\n",
        "subject10.to_csv('subject_010_01__y.csv')\n",
        "subject11 = pd.DataFrame(y_pred_11)\n",
        "subject11.to_csv('subject_011_01__y.csv')\n",
        "subject12 = pd.DataFrame(y_pred_12)\n",
        "subject12.to_csv('subject_012_01__y.csv')"
      ],
      "metadata": {
        "id": "R9DnlUWp0AlB"
      },
      "execution_count": null,
      "outputs": []
    },
    {
      "cell_type": "code",
      "source": [],
      "metadata": {
        "id": "m7v3vxzP207p"
      },
      "execution_count": null,
      "outputs": []
    }
  ],
  "metadata": {
    "colab": {
      "provenance": []
    },
    "kernelspec": {
      "display_name": "Python 3",
      "name": "python3"
    },
    "language_info": {
      "name": "python"
    }
  },
  "nbformat": 4,
  "nbformat_minor": 0
}