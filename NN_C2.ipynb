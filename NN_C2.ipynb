{
  "cells": [
    {
      "cell_type": "code",
      "execution_count": null,
      "metadata": {
        "id": "UoL422kDCTNh"
      },
      "outputs": [],
      "source": [
        "import pandas as pd\n",
        "import glob\n",
        "from sklearn.model_selection import train_test_split\n",
        "from sklearn import metrics\n",
        "import numpy as np\n",
        "from keras.models import Sequential\n",
        "from keras.layers import Dense\n",
        "from keras.layers import Flatten, Reshape\n",
        "from keras.utils import to_categorical\n",
        "from keras.layers.convolutional import Conv1D\n",
        "from keras.layers.convolutional import MaxPooling1D\n",
        "from keras.optimizers import SGD, Adam, RMSprop\n",
        "from keras.layers import Dropout, InputLayer, LSTM\n",
        "from keras.layers import Bidirectional, BatchNormalization\n",
        "from keras.layers import TimeDistributed\n",
        "from sklearn.utils import class_weight\n",
        "from sklearn.preprocessing import StandardScaler, OneHotEncoder\n",
        "import matplotlib.pyplot as plt\n",
        "from keras.layers import Conv1D, AveragePooling1D, Dropout, UpSampling1D, BatchNormalization, LeakyReLU\n",
        "from keras.regularizers import l1_l2\n",
        "from sklearn.metrics import f1_score\n",
        "from collections import Counter\n",
        "from IPython import embed"
      ]
    },
    {
      "cell_type": "code",
      "execution_count": null,
      "metadata": {
        "id": "dskx8ELyiy33"
      },
      "outputs": [],
      "source": [
        "csv_path = '/content/drive/MyDrive/ECE542_sp2022_Project_TerrainRecognition/Output_files/'"
      ]
    },
    {
      "cell_type": "code",
      "execution_count": null,
      "metadata": {
        "id": "CsPzXurPjQbT"
      },
      "outputs": [],
      "source": [
        "x_train_sm = pd.read_csv(csv_path + 'x_train_sm.csv')\n",
        "y_train_sm = pd.read_csv(csv_path + 'y_train_sm.csv')"
      ]
    },
    {
      "cell_type": "code",
      "execution_count": null,
      "metadata": {
        "colab": {
          "base_uri": "https://localhost:8080/"
        },
        "id": "P6_kGA8Fk2Tb",
        "outputId": "6761d87c-ad55-47fb-afd9-f4703be27652"
      },
      "outputs": [
        {
          "output_type": "execute_result",
          "data": {
            "text/plain": [
              "3221904"
            ]
          },
          "metadata": {},
          "execution_count": 48
        }
      ],
      "source": [
        "len(x_train_sm)"
      ]
    },
    {
      "cell_type": "code",
      "execution_count": null,
      "metadata": {
        "colab": {
          "base_uri": "https://localhost:8080/",
          "height": 423
        },
        "id": "e6I1m107ollx",
        "outputId": "8e906af6-554e-402d-e453-c33685ea2f3f"
      },
      "outputs": [
        {
          "output_type": "execute_result",
          "data": {
            "text/plain": [
              "         Unnamed: 0  label\n",
              "0           1561637    1.0\n",
              "1           1530095    1.0\n",
              "4           1793611    1.0\n",
              "26           230138    1.0\n",
              "29          1684813    1.0\n",
              "...             ...    ...\n",
              "3221880     1396749    1.0\n",
              "3221885     1408819    1.0\n",
              "3221886     1835878    1.0\n",
              "3221891     2267558    1.0\n",
              "3221896     2291986    1.0\n",
              "\n",
              "[804944 rows x 2 columns]"
            ],
            "text/html": [
              "\n",
              "  <div id=\"df-7fd3f3d9-4863-43c8-b436-558afa700999\">\n",
              "    <div class=\"colab-df-container\">\n",
              "      <div>\n",
              "<style scoped>\n",
              "    .dataframe tbody tr th:only-of-type {\n",
              "        vertical-align: middle;\n",
              "    }\n",
              "\n",
              "    .dataframe tbody tr th {\n",
              "        vertical-align: top;\n",
              "    }\n",
              "\n",
              "    .dataframe thead th {\n",
              "        text-align: right;\n",
              "    }\n",
              "</style>\n",
              "<table border=\"1\" class=\"dataframe\">\n",
              "  <thead>\n",
              "    <tr style=\"text-align: right;\">\n",
              "      <th></th>\n",
              "      <th>Unnamed: 0</th>\n",
              "      <th>label</th>\n",
              "    </tr>\n",
              "  </thead>\n",
              "  <tbody>\n",
              "    <tr>\n",
              "      <th>0</th>\n",
              "      <td>1561637</td>\n",
              "      <td>1.0</td>\n",
              "    </tr>\n",
              "    <tr>\n",
              "      <th>1</th>\n",
              "      <td>1530095</td>\n",
              "      <td>1.0</td>\n",
              "    </tr>\n",
              "    <tr>\n",
              "      <th>4</th>\n",
              "      <td>1793611</td>\n",
              "      <td>1.0</td>\n",
              "    </tr>\n",
              "    <tr>\n",
              "      <th>26</th>\n",
              "      <td>230138</td>\n",
              "      <td>1.0</td>\n",
              "    </tr>\n",
              "    <tr>\n",
              "      <th>29</th>\n",
              "      <td>1684813</td>\n",
              "      <td>1.0</td>\n",
              "    </tr>\n",
              "    <tr>\n",
              "      <th>...</th>\n",
              "      <td>...</td>\n",
              "      <td>...</td>\n",
              "    </tr>\n",
              "    <tr>\n",
              "      <th>3221880</th>\n",
              "      <td>1396749</td>\n",
              "      <td>1.0</td>\n",
              "    </tr>\n",
              "    <tr>\n",
              "      <th>3221885</th>\n",
              "      <td>1408819</td>\n",
              "      <td>1.0</td>\n",
              "    </tr>\n",
              "    <tr>\n",
              "      <th>3221886</th>\n",
              "      <td>1835878</td>\n",
              "      <td>1.0</td>\n",
              "    </tr>\n",
              "    <tr>\n",
              "      <th>3221891</th>\n",
              "      <td>2267558</td>\n",
              "      <td>1.0</td>\n",
              "    </tr>\n",
              "    <tr>\n",
              "      <th>3221896</th>\n",
              "      <td>2291986</td>\n",
              "      <td>1.0</td>\n",
              "    </tr>\n",
              "  </tbody>\n",
              "</table>\n",
              "<p>804944 rows × 2 columns</p>\n",
              "</div>\n",
              "      <button class=\"colab-df-convert\" onclick=\"convertToInteractive('df-7fd3f3d9-4863-43c8-b436-558afa700999')\"\n",
              "              title=\"Convert this dataframe to an interactive table.\"\n",
              "              style=\"display:none;\">\n",
              "        \n",
              "  <svg xmlns=\"http://www.w3.org/2000/svg\" height=\"24px\"viewBox=\"0 0 24 24\"\n",
              "       width=\"24px\">\n",
              "    <path d=\"M0 0h24v24H0V0z\" fill=\"none\"/>\n",
              "    <path d=\"M18.56 5.44l.94 2.06.94-2.06 2.06-.94-2.06-.94-.94-2.06-.94 2.06-2.06.94zm-11 1L8.5 8.5l.94-2.06 2.06-.94-2.06-.94L8.5 2.5l-.94 2.06-2.06.94zm10 10l.94 2.06.94-2.06 2.06-.94-2.06-.94-.94-2.06-.94 2.06-2.06.94z\"/><path d=\"M17.41 7.96l-1.37-1.37c-.4-.4-.92-.59-1.43-.59-.52 0-1.04.2-1.43.59L10.3 9.45l-7.72 7.72c-.78.78-.78 2.05 0 2.83L4 21.41c.39.39.9.59 1.41.59.51 0 1.02-.2 1.41-.59l7.78-7.78 2.81-2.81c.8-.78.8-2.07 0-2.86zM5.41 20L4 18.59l7.72-7.72 1.47 1.35L5.41 20z\"/>\n",
              "  </svg>\n",
              "      </button>\n",
              "      \n",
              "  <style>\n",
              "    .colab-df-container {\n",
              "      display:flex;\n",
              "      flex-wrap:wrap;\n",
              "      gap: 12px;\n",
              "    }\n",
              "\n",
              "    .colab-df-convert {\n",
              "      background-color: #E8F0FE;\n",
              "      border: none;\n",
              "      border-radius: 50%;\n",
              "      cursor: pointer;\n",
              "      display: none;\n",
              "      fill: #1967D2;\n",
              "      height: 32px;\n",
              "      padding: 0 0 0 0;\n",
              "      width: 32px;\n",
              "    }\n",
              "\n",
              "    .colab-df-convert:hover {\n",
              "      background-color: #E2EBFA;\n",
              "      box-shadow: 0px 1px 2px rgba(60, 64, 67, 0.3), 0px 1px 3px 1px rgba(60, 64, 67, 0.15);\n",
              "      fill: #174EA6;\n",
              "    }\n",
              "\n",
              "    [theme=dark] .colab-df-convert {\n",
              "      background-color: #3B4455;\n",
              "      fill: #D2E3FC;\n",
              "    }\n",
              "\n",
              "    [theme=dark] .colab-df-convert:hover {\n",
              "      background-color: #434B5C;\n",
              "      box-shadow: 0px 1px 3px 1px rgba(0, 0, 0, 0.15);\n",
              "      filter: drop-shadow(0px 1px 2px rgba(0, 0, 0, 0.3));\n",
              "      fill: #FFFFFF;\n",
              "    }\n",
              "  </style>\n",
              "\n",
              "      <script>\n",
              "        const buttonEl =\n",
              "          document.querySelector('#df-7fd3f3d9-4863-43c8-b436-558afa700999 button.colab-df-convert');\n",
              "        buttonEl.style.display =\n",
              "          google.colab.kernel.accessAllowed ? 'block' : 'none';\n",
              "\n",
              "        async function convertToInteractive(key) {\n",
              "          const element = document.querySelector('#df-7fd3f3d9-4863-43c8-b436-558afa700999');\n",
              "          const dataTable =\n",
              "            await google.colab.kernel.invokeFunction('convertToInteractive',\n",
              "                                                     [key], {});\n",
              "          if (!dataTable) return;\n",
              "\n",
              "          const docLinkHtml = 'Like what you see? Visit the ' +\n",
              "            '<a target=\"_blank\" href=https://colab.research.google.com/notebooks/data_table.ipynb>data table notebook</a>'\n",
              "            + ' to learn more about interactive tables.';\n",
              "          element.innerHTML = '';\n",
              "          dataTable['output_type'] = 'display_data';\n",
              "          await google.colab.output.renderOutput(dataTable, element);\n",
              "          const docLink = document.createElement('div');\n",
              "          docLink.innerHTML = docLinkHtml;\n",
              "          element.appendChild(docLink);\n",
              "        }\n",
              "      </script>\n",
              "    </div>\n",
              "  </div>\n",
              "  "
            ]
          },
          "metadata": {},
          "execution_count": 49
        }
      ],
      "source": [
        "y_train_sm[y_train_sm['label'] == 1]"
      ]
    },
    {
      "cell_type": "code",
      "execution_count": null,
      "metadata": {
        "id": "chA2UATjjkOz"
      },
      "outputs": [],
      "source": [
        "x_train = pd.read_csv(csv_path + 'x_train.csv', index_col=0)\n",
        "y_train = pd.read_csv(csv_path + 'y_train.csv', index_col=0)"
      ]
    },
    {
      "cell_type": "code",
      "execution_count": null,
      "metadata": {
        "id": "Qf3mMxG3k1Pr",
        "colab": {
          "base_uri": "https://localhost:8080/"
        },
        "outputId": "464c7bcf-1a8d-48b4-e9b0-4a8f096c5d40"
      },
      "outputs": [
        {
          "output_type": "execute_result",
          "data": {
            "text/plain": [
              "1341565"
            ]
          },
          "metadata": {},
          "execution_count": 51
        }
      ],
      "source": [
        "len(x_train)"
      ]
    },
    {
      "cell_type": "markdown",
      "metadata": {
        "id": "r9gCR6Blp2Nj"
      },
      "source": [
        "One hot encoding"
      ]
    },
    {
      "cell_type": "code",
      "execution_count": null,
      "metadata": {
        "id": "gEMWHnOaqDYe",
        "colab": {
          "base_uri": "https://localhost:8080/",
          "height": 206
        },
        "outputId": "9fcba2eb-1f91-4999-ee39-33c79951b6b2"
      },
      "outputs": [
        {
          "output_type": "execute_result",
          "data": {
            "text/plain": [
              "   label\n",
              "0    0.0\n",
              "1    0.0\n",
              "2    0.0\n",
              "3    0.0\n",
              "4    0.0"
            ],
            "text/html": [
              "\n",
              "  <div id=\"df-fa65cd09-a041-44e2-89e6-759cd9dab49a\">\n",
              "    <div class=\"colab-df-container\">\n",
              "      <div>\n",
              "<style scoped>\n",
              "    .dataframe tbody tr th:only-of-type {\n",
              "        vertical-align: middle;\n",
              "    }\n",
              "\n",
              "    .dataframe tbody tr th {\n",
              "        vertical-align: top;\n",
              "    }\n",
              "\n",
              "    .dataframe thead th {\n",
              "        text-align: right;\n",
              "    }\n",
              "</style>\n",
              "<table border=\"1\" class=\"dataframe\">\n",
              "  <thead>\n",
              "    <tr style=\"text-align: right;\">\n",
              "      <th></th>\n",
              "      <th>label</th>\n",
              "    </tr>\n",
              "  </thead>\n",
              "  <tbody>\n",
              "    <tr>\n",
              "      <th>0</th>\n",
              "      <td>0.0</td>\n",
              "    </tr>\n",
              "    <tr>\n",
              "      <th>1</th>\n",
              "      <td>0.0</td>\n",
              "    </tr>\n",
              "    <tr>\n",
              "      <th>2</th>\n",
              "      <td>0.0</td>\n",
              "    </tr>\n",
              "    <tr>\n",
              "      <th>3</th>\n",
              "      <td>0.0</td>\n",
              "    </tr>\n",
              "    <tr>\n",
              "      <th>4</th>\n",
              "      <td>0.0</td>\n",
              "    </tr>\n",
              "  </tbody>\n",
              "</table>\n",
              "</div>\n",
              "      <button class=\"colab-df-convert\" onclick=\"convertToInteractive('df-fa65cd09-a041-44e2-89e6-759cd9dab49a')\"\n",
              "              title=\"Convert this dataframe to an interactive table.\"\n",
              "              style=\"display:none;\">\n",
              "        \n",
              "  <svg xmlns=\"http://www.w3.org/2000/svg\" height=\"24px\"viewBox=\"0 0 24 24\"\n",
              "       width=\"24px\">\n",
              "    <path d=\"M0 0h24v24H0V0z\" fill=\"none\"/>\n",
              "    <path d=\"M18.56 5.44l.94 2.06.94-2.06 2.06-.94-2.06-.94-.94-2.06-.94 2.06-2.06.94zm-11 1L8.5 8.5l.94-2.06 2.06-.94-2.06-.94L8.5 2.5l-.94 2.06-2.06.94zm10 10l.94 2.06.94-2.06 2.06-.94-2.06-.94-.94-2.06-.94 2.06-2.06.94z\"/><path d=\"M17.41 7.96l-1.37-1.37c-.4-.4-.92-.59-1.43-.59-.52 0-1.04.2-1.43.59L10.3 9.45l-7.72 7.72c-.78.78-.78 2.05 0 2.83L4 21.41c.39.39.9.59 1.41.59.51 0 1.02-.2 1.41-.59l7.78-7.78 2.81-2.81c.8-.78.8-2.07 0-2.86zM5.41 20L4 18.59l7.72-7.72 1.47 1.35L5.41 20z\"/>\n",
              "  </svg>\n",
              "      </button>\n",
              "      \n",
              "  <style>\n",
              "    .colab-df-container {\n",
              "      display:flex;\n",
              "      flex-wrap:wrap;\n",
              "      gap: 12px;\n",
              "    }\n",
              "\n",
              "    .colab-df-convert {\n",
              "      background-color: #E8F0FE;\n",
              "      border: none;\n",
              "      border-radius: 50%;\n",
              "      cursor: pointer;\n",
              "      display: none;\n",
              "      fill: #1967D2;\n",
              "      height: 32px;\n",
              "      padding: 0 0 0 0;\n",
              "      width: 32px;\n",
              "    }\n",
              "\n",
              "    .colab-df-convert:hover {\n",
              "      background-color: #E2EBFA;\n",
              "      box-shadow: 0px 1px 2px rgba(60, 64, 67, 0.3), 0px 1px 3px 1px rgba(60, 64, 67, 0.15);\n",
              "      fill: #174EA6;\n",
              "    }\n",
              "\n",
              "    [theme=dark] .colab-df-convert {\n",
              "      background-color: #3B4455;\n",
              "      fill: #D2E3FC;\n",
              "    }\n",
              "\n",
              "    [theme=dark] .colab-df-convert:hover {\n",
              "      background-color: #434B5C;\n",
              "      box-shadow: 0px 1px 3px 1px rgba(0, 0, 0, 0.15);\n",
              "      filter: drop-shadow(0px 1px 2px rgba(0, 0, 0, 0.3));\n",
              "      fill: #FFFFFF;\n",
              "    }\n",
              "  </style>\n",
              "\n",
              "      <script>\n",
              "        const buttonEl =\n",
              "          document.querySelector('#df-fa65cd09-a041-44e2-89e6-759cd9dab49a button.colab-df-convert');\n",
              "        buttonEl.style.display =\n",
              "          google.colab.kernel.accessAllowed ? 'block' : 'none';\n",
              "\n",
              "        async function convertToInteractive(key) {\n",
              "          const element = document.querySelector('#df-fa65cd09-a041-44e2-89e6-759cd9dab49a');\n",
              "          const dataTable =\n",
              "            await google.colab.kernel.invokeFunction('convertToInteractive',\n",
              "                                                     [key], {});\n",
              "          if (!dataTable) return;\n",
              "\n",
              "          const docLinkHtml = 'Like what you see? Visit the ' +\n",
              "            '<a target=\"_blank\" href=https://colab.research.google.com/notebooks/data_table.ipynb>data table notebook</a>'\n",
              "            + ' to learn more about interactive tables.';\n",
              "          element.innerHTML = '';\n",
              "          dataTable['output_type'] = 'display_data';\n",
              "          await google.colab.output.renderOutput(dataTable, element);\n",
              "          const docLink = document.createElement('div');\n",
              "          docLink.innerHTML = docLinkHtml;\n",
              "          element.appendChild(docLink);\n",
              "        }\n",
              "      </script>\n",
              "    </div>\n",
              "  </div>\n",
              "  "
            ]
          },
          "metadata": {},
          "execution_count": 52
        }
      ],
      "source": [
        "y_train.head()"
      ]
    },
    {
      "cell_type": "code",
      "execution_count": null,
      "metadata": {
        "id": "HQx9IEaJwAeL",
        "colab": {
          "base_uri": "https://localhost:8080/"
        },
        "outputId": "f8a73d2e-dc14-45e8-ec06-eb7ae3d4fa15"
      },
      "outputs": [
        {
          "output_type": "execute_result",
          "data": {
            "text/plain": [
              "(1341565, 6)"
            ]
          },
          "metadata": {},
          "execution_count": 53
        }
      ],
      "source": [
        "x_train.shape"
      ]
    },
    {
      "cell_type": "code",
      "execution_count": null,
      "metadata": {
        "id": "G8AU9f_lwQYa",
        "colab": {
          "base_uri": "https://localhost:8080/",
          "height": 206
        },
        "outputId": "d08ad61f-9074-4531-eac4-31acd7283cf5"
      },
      "outputs": [
        {
          "output_type": "execute_result",
          "data": {
            "text/plain": [
              "      X_acc     Y_acc     Z_acc     X_gyr     Y_gyr     Z_gyr\n",
              "0  4.435275  8.196063  2.974488  0.014215 -0.039157 -0.016744\n",
              "1  4.186920  8.344455  2.908057  0.005771 -0.004480 -0.003345\n",
              "2  4.544637  8.408659  2.890000  0.007967  0.022412  0.001159\n",
              "3  4.849308  8.411614  2.900692  0.027778 -0.010670 -0.014223\n",
              "4  4.509190  8.118649  2.847298  0.021577 -0.045498 -0.021111"
            ],
            "text/html": [
              "\n",
              "  <div id=\"df-52d4f29b-30d1-4d43-9c6c-9f6581e807f0\">\n",
              "    <div class=\"colab-df-container\">\n",
              "      <div>\n",
              "<style scoped>\n",
              "    .dataframe tbody tr th:only-of-type {\n",
              "        vertical-align: middle;\n",
              "    }\n",
              "\n",
              "    .dataframe tbody tr th {\n",
              "        vertical-align: top;\n",
              "    }\n",
              "\n",
              "    .dataframe thead th {\n",
              "        text-align: right;\n",
              "    }\n",
              "</style>\n",
              "<table border=\"1\" class=\"dataframe\">\n",
              "  <thead>\n",
              "    <tr style=\"text-align: right;\">\n",
              "      <th></th>\n",
              "      <th>X_acc</th>\n",
              "      <th>Y_acc</th>\n",
              "      <th>Z_acc</th>\n",
              "      <th>X_gyr</th>\n",
              "      <th>Y_gyr</th>\n",
              "      <th>Z_gyr</th>\n",
              "    </tr>\n",
              "  </thead>\n",
              "  <tbody>\n",
              "    <tr>\n",
              "      <th>0</th>\n",
              "      <td>4.435275</td>\n",
              "      <td>8.196063</td>\n",
              "      <td>2.974488</td>\n",
              "      <td>0.014215</td>\n",
              "      <td>-0.039157</td>\n",
              "      <td>-0.016744</td>\n",
              "    </tr>\n",
              "    <tr>\n",
              "      <th>1</th>\n",
              "      <td>4.186920</td>\n",
              "      <td>8.344455</td>\n",
              "      <td>2.908057</td>\n",
              "      <td>0.005771</td>\n",
              "      <td>-0.004480</td>\n",
              "      <td>-0.003345</td>\n",
              "    </tr>\n",
              "    <tr>\n",
              "      <th>2</th>\n",
              "      <td>4.544637</td>\n",
              "      <td>8.408659</td>\n",
              "      <td>2.890000</td>\n",
              "      <td>0.007967</td>\n",
              "      <td>0.022412</td>\n",
              "      <td>0.001159</td>\n",
              "    </tr>\n",
              "    <tr>\n",
              "      <th>3</th>\n",
              "      <td>4.849308</td>\n",
              "      <td>8.411614</td>\n",
              "      <td>2.900692</td>\n",
              "      <td>0.027778</td>\n",
              "      <td>-0.010670</td>\n",
              "      <td>-0.014223</td>\n",
              "    </tr>\n",
              "    <tr>\n",
              "      <th>4</th>\n",
              "      <td>4.509190</td>\n",
              "      <td>8.118649</td>\n",
              "      <td>2.847298</td>\n",
              "      <td>0.021577</td>\n",
              "      <td>-0.045498</td>\n",
              "      <td>-0.021111</td>\n",
              "    </tr>\n",
              "  </tbody>\n",
              "</table>\n",
              "</div>\n",
              "      <button class=\"colab-df-convert\" onclick=\"convertToInteractive('df-52d4f29b-30d1-4d43-9c6c-9f6581e807f0')\"\n",
              "              title=\"Convert this dataframe to an interactive table.\"\n",
              "              style=\"display:none;\">\n",
              "        \n",
              "  <svg xmlns=\"http://www.w3.org/2000/svg\" height=\"24px\"viewBox=\"0 0 24 24\"\n",
              "       width=\"24px\">\n",
              "    <path d=\"M0 0h24v24H0V0z\" fill=\"none\"/>\n",
              "    <path d=\"M18.56 5.44l.94 2.06.94-2.06 2.06-.94-2.06-.94-.94-2.06-.94 2.06-2.06.94zm-11 1L8.5 8.5l.94-2.06 2.06-.94-2.06-.94L8.5 2.5l-.94 2.06-2.06.94zm10 10l.94 2.06.94-2.06 2.06-.94-2.06-.94-.94-2.06-.94 2.06-2.06.94z\"/><path d=\"M17.41 7.96l-1.37-1.37c-.4-.4-.92-.59-1.43-.59-.52 0-1.04.2-1.43.59L10.3 9.45l-7.72 7.72c-.78.78-.78 2.05 0 2.83L4 21.41c.39.39.9.59 1.41.59.51 0 1.02-.2 1.41-.59l7.78-7.78 2.81-2.81c.8-.78.8-2.07 0-2.86zM5.41 20L4 18.59l7.72-7.72 1.47 1.35L5.41 20z\"/>\n",
              "  </svg>\n",
              "      </button>\n",
              "      \n",
              "  <style>\n",
              "    .colab-df-container {\n",
              "      display:flex;\n",
              "      flex-wrap:wrap;\n",
              "      gap: 12px;\n",
              "    }\n",
              "\n",
              "    .colab-df-convert {\n",
              "      background-color: #E8F0FE;\n",
              "      border: none;\n",
              "      border-radius: 50%;\n",
              "      cursor: pointer;\n",
              "      display: none;\n",
              "      fill: #1967D2;\n",
              "      height: 32px;\n",
              "      padding: 0 0 0 0;\n",
              "      width: 32px;\n",
              "    }\n",
              "\n",
              "    .colab-df-convert:hover {\n",
              "      background-color: #E2EBFA;\n",
              "      box-shadow: 0px 1px 2px rgba(60, 64, 67, 0.3), 0px 1px 3px 1px rgba(60, 64, 67, 0.15);\n",
              "      fill: #174EA6;\n",
              "    }\n",
              "\n",
              "    [theme=dark] .colab-df-convert {\n",
              "      background-color: #3B4455;\n",
              "      fill: #D2E3FC;\n",
              "    }\n",
              "\n",
              "    [theme=dark] .colab-df-convert:hover {\n",
              "      background-color: #434B5C;\n",
              "      box-shadow: 0px 1px 3px 1px rgba(0, 0, 0, 0.15);\n",
              "      filter: drop-shadow(0px 1px 2px rgba(0, 0, 0, 0.3));\n",
              "      fill: #FFFFFF;\n",
              "    }\n",
              "  </style>\n",
              "\n",
              "      <script>\n",
              "        const buttonEl =\n",
              "          document.querySelector('#df-52d4f29b-30d1-4d43-9c6c-9f6581e807f0 button.colab-df-convert');\n",
              "        buttonEl.style.display =\n",
              "          google.colab.kernel.accessAllowed ? 'block' : 'none';\n",
              "\n",
              "        async function convertToInteractive(key) {\n",
              "          const element = document.querySelector('#df-52d4f29b-30d1-4d43-9c6c-9f6581e807f0');\n",
              "          const dataTable =\n",
              "            await google.colab.kernel.invokeFunction('convertToInteractive',\n",
              "                                                     [key], {});\n",
              "          if (!dataTable) return;\n",
              "\n",
              "          const docLinkHtml = 'Like what you see? Visit the ' +\n",
              "            '<a target=\"_blank\" href=https://colab.research.google.com/notebooks/data_table.ipynb>data table notebook</a>'\n",
              "            + ' to learn more about interactive tables.';\n",
              "          element.innerHTML = '';\n",
              "          dataTable['output_type'] = 'display_data';\n",
              "          await google.colab.output.renderOutput(dataTable, element);\n",
              "          const docLink = document.createElement('div');\n",
              "          docLink.innerHTML = docLinkHtml;\n",
              "          element.appendChild(docLink);\n",
              "        }\n",
              "      </script>\n",
              "    </div>\n",
              "  </div>\n",
              "  "
            ]
          },
          "metadata": {},
          "execution_count": 54
        }
      ],
      "source": [
        "x_train.head()"
      ]
    },
    {
      "cell_type": "code",
      "execution_count": null,
      "metadata": {
        "id": "l3en5qfIxZYT",
        "colab": {
          "base_uri": "https://localhost:8080/"
        },
        "outputId": "dadea443-5a4e-4f8e-a270-506e78e2efb1"
      },
      "outputs": [
        {
          "output_type": "stream",
          "name": "stderr",
          "text": [
            "/usr/local/lib/python3.9/dist-packages/sklearn/preprocessing/_encoders.py:868: FutureWarning: `sparse` was renamed to `sparse_output` in version 1.2 and will be removed in 1.4. `sparse_output` is ignored unless you leave `sparse` to its default value.\n",
            "  warnings.warn(\n"
          ]
        }
      ],
      "source": [
        "encoder = OneHotEncoder(handle_unknown = 'ignore', sparse = False)\n",
        "encoder = encoder.fit(y_train)\n",
        "y_train_onehot = encoder.transform(y_train)"
      ]
    },
    {
      "cell_type": "code",
      "execution_count": null,
      "metadata": {
        "id": "KZzyL_iixzY5",
        "colab": {
          "base_uri": "https://localhost:8080/"
        },
        "outputId": "42bb3443-f299-4114-f31d-0d4219974259"
      },
      "outputs": [
        {
          "output_type": "execute_result",
          "data": {
            "text/plain": [
              "1341565"
            ]
          },
          "metadata": {},
          "execution_count": 56
        }
      ],
      "source": [
        "len(y_train_onehot)"
      ]
    },
    {
      "cell_type": "code",
      "execution_count": null,
      "metadata": {
        "id": "VcNwAxqex0k-"
      },
      "outputs": [],
      "source": [
        "y_train_onehot = pd.DataFrame(y_train_onehot, columns = ['o1','o2','o3','o4'])"
      ]
    },
    {
      "cell_type": "code",
      "execution_count": null,
      "metadata": {
        "id": "OFZvnD65yJph",
        "colab": {
          "base_uri": "https://localhost:8080/",
          "height": 206
        },
        "outputId": "86b4a22a-a21e-43d0-c125-43f3bccef830"
      },
      "outputs": [
        {
          "output_type": "execute_result",
          "data": {
            "text/plain": [
              "    o1   o2   o3   o4\n",
              "0  1.0  0.0  0.0  0.0\n",
              "1  1.0  0.0  0.0  0.0\n",
              "2  1.0  0.0  0.0  0.0\n",
              "3  1.0  0.0  0.0  0.0\n",
              "4  1.0  0.0  0.0  0.0"
            ],
            "text/html": [
              "\n",
              "  <div id=\"df-074dba69-d8c4-46f0-9450-c5cba6c73676\">\n",
              "    <div class=\"colab-df-container\">\n",
              "      <div>\n",
              "<style scoped>\n",
              "    .dataframe tbody tr th:only-of-type {\n",
              "        vertical-align: middle;\n",
              "    }\n",
              "\n",
              "    .dataframe tbody tr th {\n",
              "        vertical-align: top;\n",
              "    }\n",
              "\n",
              "    .dataframe thead th {\n",
              "        text-align: right;\n",
              "    }\n",
              "</style>\n",
              "<table border=\"1\" class=\"dataframe\">\n",
              "  <thead>\n",
              "    <tr style=\"text-align: right;\">\n",
              "      <th></th>\n",
              "      <th>o1</th>\n",
              "      <th>o2</th>\n",
              "      <th>o3</th>\n",
              "      <th>o4</th>\n",
              "    </tr>\n",
              "  </thead>\n",
              "  <tbody>\n",
              "    <tr>\n",
              "      <th>0</th>\n",
              "      <td>1.0</td>\n",
              "      <td>0.0</td>\n",
              "      <td>0.0</td>\n",
              "      <td>0.0</td>\n",
              "    </tr>\n",
              "    <tr>\n",
              "      <th>1</th>\n",
              "      <td>1.0</td>\n",
              "      <td>0.0</td>\n",
              "      <td>0.0</td>\n",
              "      <td>0.0</td>\n",
              "    </tr>\n",
              "    <tr>\n",
              "      <th>2</th>\n",
              "      <td>1.0</td>\n",
              "      <td>0.0</td>\n",
              "      <td>0.0</td>\n",
              "      <td>0.0</td>\n",
              "    </tr>\n",
              "    <tr>\n",
              "      <th>3</th>\n",
              "      <td>1.0</td>\n",
              "      <td>0.0</td>\n",
              "      <td>0.0</td>\n",
              "      <td>0.0</td>\n",
              "    </tr>\n",
              "    <tr>\n",
              "      <th>4</th>\n",
              "      <td>1.0</td>\n",
              "      <td>0.0</td>\n",
              "      <td>0.0</td>\n",
              "      <td>0.0</td>\n",
              "    </tr>\n",
              "  </tbody>\n",
              "</table>\n",
              "</div>\n",
              "      <button class=\"colab-df-convert\" onclick=\"convertToInteractive('df-074dba69-d8c4-46f0-9450-c5cba6c73676')\"\n",
              "              title=\"Convert this dataframe to an interactive table.\"\n",
              "              style=\"display:none;\">\n",
              "        \n",
              "  <svg xmlns=\"http://www.w3.org/2000/svg\" height=\"24px\"viewBox=\"0 0 24 24\"\n",
              "       width=\"24px\">\n",
              "    <path d=\"M0 0h24v24H0V0z\" fill=\"none\"/>\n",
              "    <path d=\"M18.56 5.44l.94 2.06.94-2.06 2.06-.94-2.06-.94-.94-2.06-.94 2.06-2.06.94zm-11 1L8.5 8.5l.94-2.06 2.06-.94-2.06-.94L8.5 2.5l-.94 2.06-2.06.94zm10 10l.94 2.06.94-2.06 2.06-.94-2.06-.94-.94-2.06-.94 2.06-2.06.94z\"/><path d=\"M17.41 7.96l-1.37-1.37c-.4-.4-.92-.59-1.43-.59-.52 0-1.04.2-1.43.59L10.3 9.45l-7.72 7.72c-.78.78-.78 2.05 0 2.83L4 21.41c.39.39.9.59 1.41.59.51 0 1.02-.2 1.41-.59l7.78-7.78 2.81-2.81c.8-.78.8-2.07 0-2.86zM5.41 20L4 18.59l7.72-7.72 1.47 1.35L5.41 20z\"/>\n",
              "  </svg>\n",
              "      </button>\n",
              "      \n",
              "  <style>\n",
              "    .colab-df-container {\n",
              "      display:flex;\n",
              "      flex-wrap:wrap;\n",
              "      gap: 12px;\n",
              "    }\n",
              "\n",
              "    .colab-df-convert {\n",
              "      background-color: #E8F0FE;\n",
              "      border: none;\n",
              "      border-radius: 50%;\n",
              "      cursor: pointer;\n",
              "      display: none;\n",
              "      fill: #1967D2;\n",
              "      height: 32px;\n",
              "      padding: 0 0 0 0;\n",
              "      width: 32px;\n",
              "    }\n",
              "\n",
              "    .colab-df-convert:hover {\n",
              "      background-color: #E2EBFA;\n",
              "      box-shadow: 0px 1px 2px rgba(60, 64, 67, 0.3), 0px 1px 3px 1px rgba(60, 64, 67, 0.15);\n",
              "      fill: #174EA6;\n",
              "    }\n",
              "\n",
              "    [theme=dark] .colab-df-convert {\n",
              "      background-color: #3B4455;\n",
              "      fill: #D2E3FC;\n",
              "    }\n",
              "\n",
              "    [theme=dark] .colab-df-convert:hover {\n",
              "      background-color: #434B5C;\n",
              "      box-shadow: 0px 1px 3px 1px rgba(0, 0, 0, 0.15);\n",
              "      filter: drop-shadow(0px 1px 2px rgba(0, 0, 0, 0.3));\n",
              "      fill: #FFFFFF;\n",
              "    }\n",
              "  </style>\n",
              "\n",
              "      <script>\n",
              "        const buttonEl =\n",
              "          document.querySelector('#df-074dba69-d8c4-46f0-9450-c5cba6c73676 button.colab-df-convert');\n",
              "        buttonEl.style.display =\n",
              "          google.colab.kernel.accessAllowed ? 'block' : 'none';\n",
              "\n",
              "        async function convertToInteractive(key) {\n",
              "          const element = document.querySelector('#df-074dba69-d8c4-46f0-9450-c5cba6c73676');\n",
              "          const dataTable =\n",
              "            await google.colab.kernel.invokeFunction('convertToInteractive',\n",
              "                                                     [key], {});\n",
              "          if (!dataTable) return;\n",
              "\n",
              "          const docLinkHtml = 'Like what you see? Visit the ' +\n",
              "            '<a target=\"_blank\" href=https://colab.research.google.com/notebooks/data_table.ipynb>data table notebook</a>'\n",
              "            + ' to learn more about interactive tables.';\n",
              "          element.innerHTML = '';\n",
              "          dataTable['output_type'] = 'display_data';\n",
              "          await google.colab.output.renderOutput(dataTable, element);\n",
              "          const docLink = document.createElement('div');\n",
              "          docLink.innerHTML = docLinkHtml;\n",
              "          element.appendChild(docLink);\n",
              "        }\n",
              "      </script>\n",
              "    </div>\n",
              "  </div>\n",
              "  "
            ]
          },
          "metadata": {},
          "execution_count": 58
        }
      ],
      "source": [
        "y_train_onehot.head()"
      ]
    },
    {
      "cell_type": "markdown",
      "metadata": {
        "id": "71Dkawaq2YC4"
      },
      "source": [
        "## Standard scaler"
      ]
    },
    {
      "cell_type": "code",
      "execution_count": null,
      "metadata": {
        "id": "GoVZ3mZ6yNN1"
      },
      "outputs": [],
      "source": [
        "scaler = StandardScaler()\n",
        "x_train_scaled = scaler.fit_transform(x_train)\n",
        "x_train_scaled = pd.DataFrame(x_train_scaled, columns = ['X_acc', 'Y_acc', 'Z_acc', 'X_gyr', 'Y_gyr', 'Z_gyr'])"
      ]
    },
    {
      "cell_type": "code",
      "execution_count": null,
      "metadata": {
        "id": "FnzNzcXQEf1N"
      },
      "outputs": [],
      "source": [
        "def plot_loss(history):\n",
        "    plt.title('Loss')\n",
        "    plt.plot(history.history['loss'],  label='train')\n",
        "    plt.plot(history.history['val_loss'],  label='validation')\n",
        "    plt.show()\n",
        "\n",
        "    plt.title('Accuracy')\n",
        "    plt.plot(history.history['accuracy'],  label='train')\n",
        "    plt.plot(history.history['val_accuracy'],label='validation')\n",
        "    plt.show()"
      ]
    },
    {
      "cell_type": "code",
      "execution_count": null,
      "metadata": {
        "colab": {
          "base_uri": "https://localhost:8080/",
          "height": 206
        },
        "id": "pXSEjjy12kjc",
        "outputId": "ebc75712-c3c1-4d2e-eb31-0fd5856a60c8"
      },
      "outputs": [
        {
          "output_type": "execute_result",
          "data": {
            "text/plain": [
              "      X_acc     Y_acc     Z_acc     X_gyr     Y_gyr     Z_gyr\n",
              "0  0.663850  0.023644 -0.555192  0.002976 -0.040439  0.066048\n",
              "1  0.620531  0.045293 -0.567106  0.000352 -0.018272  0.083457\n",
              "2  0.682926  0.054660 -0.570344  0.001034 -0.001083  0.089309\n",
              "3  0.736068  0.055091 -0.568427  0.007191 -0.022230  0.069324\n",
              "4  0.676743  0.012350 -0.578002  0.005264 -0.044492  0.060374"
            ],
            "text/html": [
              "\n",
              "  <div id=\"df-5aba020e-d21e-4eed-8bda-20708c4a99cc\">\n",
              "    <div class=\"colab-df-container\">\n",
              "      <div>\n",
              "<style scoped>\n",
              "    .dataframe tbody tr th:only-of-type {\n",
              "        vertical-align: middle;\n",
              "    }\n",
              "\n",
              "    .dataframe tbody tr th {\n",
              "        vertical-align: top;\n",
              "    }\n",
              "\n",
              "    .dataframe thead th {\n",
              "        text-align: right;\n",
              "    }\n",
              "</style>\n",
              "<table border=\"1\" class=\"dataframe\">\n",
              "  <thead>\n",
              "    <tr style=\"text-align: right;\">\n",
              "      <th></th>\n",
              "      <th>X_acc</th>\n",
              "      <th>Y_acc</th>\n",
              "      <th>Z_acc</th>\n",
              "      <th>X_gyr</th>\n",
              "      <th>Y_gyr</th>\n",
              "      <th>Z_gyr</th>\n",
              "    </tr>\n",
              "  </thead>\n",
              "  <tbody>\n",
              "    <tr>\n",
              "      <th>0</th>\n",
              "      <td>0.663850</td>\n",
              "      <td>0.023644</td>\n",
              "      <td>-0.555192</td>\n",
              "      <td>0.002976</td>\n",
              "      <td>-0.040439</td>\n",
              "      <td>0.066048</td>\n",
              "    </tr>\n",
              "    <tr>\n",
              "      <th>1</th>\n",
              "      <td>0.620531</td>\n",
              "      <td>0.045293</td>\n",
              "      <td>-0.567106</td>\n",
              "      <td>0.000352</td>\n",
              "      <td>-0.018272</td>\n",
              "      <td>0.083457</td>\n",
              "    </tr>\n",
              "    <tr>\n",
              "      <th>2</th>\n",
              "      <td>0.682926</td>\n",
              "      <td>0.054660</td>\n",
              "      <td>-0.570344</td>\n",
              "      <td>0.001034</td>\n",
              "      <td>-0.001083</td>\n",
              "      <td>0.089309</td>\n",
              "    </tr>\n",
              "    <tr>\n",
              "      <th>3</th>\n",
              "      <td>0.736068</td>\n",
              "      <td>0.055091</td>\n",
              "      <td>-0.568427</td>\n",
              "      <td>0.007191</td>\n",
              "      <td>-0.022230</td>\n",
              "      <td>0.069324</td>\n",
              "    </tr>\n",
              "    <tr>\n",
              "      <th>4</th>\n",
              "      <td>0.676743</td>\n",
              "      <td>0.012350</td>\n",
              "      <td>-0.578002</td>\n",
              "      <td>0.005264</td>\n",
              "      <td>-0.044492</td>\n",
              "      <td>0.060374</td>\n",
              "    </tr>\n",
              "  </tbody>\n",
              "</table>\n",
              "</div>\n",
              "      <button class=\"colab-df-convert\" onclick=\"convertToInteractive('df-5aba020e-d21e-4eed-8bda-20708c4a99cc')\"\n",
              "              title=\"Convert this dataframe to an interactive table.\"\n",
              "              style=\"display:none;\">\n",
              "        \n",
              "  <svg xmlns=\"http://www.w3.org/2000/svg\" height=\"24px\"viewBox=\"0 0 24 24\"\n",
              "       width=\"24px\">\n",
              "    <path d=\"M0 0h24v24H0V0z\" fill=\"none\"/>\n",
              "    <path d=\"M18.56 5.44l.94 2.06.94-2.06 2.06-.94-2.06-.94-.94-2.06-.94 2.06-2.06.94zm-11 1L8.5 8.5l.94-2.06 2.06-.94-2.06-.94L8.5 2.5l-.94 2.06-2.06.94zm10 10l.94 2.06.94-2.06 2.06-.94-2.06-.94-.94-2.06-.94 2.06-2.06.94z\"/><path d=\"M17.41 7.96l-1.37-1.37c-.4-.4-.92-.59-1.43-.59-.52 0-1.04.2-1.43.59L10.3 9.45l-7.72 7.72c-.78.78-.78 2.05 0 2.83L4 21.41c.39.39.9.59 1.41.59.51 0 1.02-.2 1.41-.59l7.78-7.78 2.81-2.81c.8-.78.8-2.07 0-2.86zM5.41 20L4 18.59l7.72-7.72 1.47 1.35L5.41 20z\"/>\n",
              "  </svg>\n",
              "      </button>\n",
              "      \n",
              "  <style>\n",
              "    .colab-df-container {\n",
              "      display:flex;\n",
              "      flex-wrap:wrap;\n",
              "      gap: 12px;\n",
              "    }\n",
              "\n",
              "    .colab-df-convert {\n",
              "      background-color: #E8F0FE;\n",
              "      border: none;\n",
              "      border-radius: 50%;\n",
              "      cursor: pointer;\n",
              "      display: none;\n",
              "      fill: #1967D2;\n",
              "      height: 32px;\n",
              "      padding: 0 0 0 0;\n",
              "      width: 32px;\n",
              "    }\n",
              "\n",
              "    .colab-df-convert:hover {\n",
              "      background-color: #E2EBFA;\n",
              "      box-shadow: 0px 1px 2px rgba(60, 64, 67, 0.3), 0px 1px 3px 1px rgba(60, 64, 67, 0.15);\n",
              "      fill: #174EA6;\n",
              "    }\n",
              "\n",
              "    [theme=dark] .colab-df-convert {\n",
              "      background-color: #3B4455;\n",
              "      fill: #D2E3FC;\n",
              "    }\n",
              "\n",
              "    [theme=dark] .colab-df-convert:hover {\n",
              "      background-color: #434B5C;\n",
              "      box-shadow: 0px 1px 3px 1px rgba(0, 0, 0, 0.15);\n",
              "      filter: drop-shadow(0px 1px 2px rgba(0, 0, 0, 0.3));\n",
              "      fill: #FFFFFF;\n",
              "    }\n",
              "  </style>\n",
              "\n",
              "      <script>\n",
              "        const buttonEl =\n",
              "          document.querySelector('#df-5aba020e-d21e-4eed-8bda-20708c4a99cc button.colab-df-convert');\n",
              "        buttonEl.style.display =\n",
              "          google.colab.kernel.accessAllowed ? 'block' : 'none';\n",
              "\n",
              "        async function convertToInteractive(key) {\n",
              "          const element = document.querySelector('#df-5aba020e-d21e-4eed-8bda-20708c4a99cc');\n",
              "          const dataTable =\n",
              "            await google.colab.kernel.invokeFunction('convertToInteractive',\n",
              "                                                     [key], {});\n",
              "          if (!dataTable) return;\n",
              "\n",
              "          const docLinkHtml = 'Like what you see? Visit the ' +\n",
              "            '<a target=\"_blank\" href=https://colab.research.google.com/notebooks/data_table.ipynb>data table notebook</a>'\n",
              "            + ' to learn more about interactive tables.';\n",
              "          element.innerHTML = '';\n",
              "          dataTable['output_type'] = 'display_data';\n",
              "          await google.colab.output.renderOutput(dataTable, element);\n",
              "          const docLink = document.createElement('div');\n",
              "          docLink.innerHTML = docLinkHtml;\n",
              "          element.appendChild(docLink);\n",
              "        }\n",
              "      </script>\n",
              "    </div>\n",
              "  </div>\n",
              "  "
            ]
          },
          "metadata": {},
          "execution_count": 61
        }
      ],
      "source": [
        "x_train_scaled.head()"
      ]
    },
    {
      "cell_type": "code",
      "execution_count": null,
      "metadata": {
        "id": "g6Z80sXx3CuH"
      },
      "outputs": [],
      "source": [
        "def define_windows(x_train, y_train, windowsize):\n",
        "  window_x=[]\n",
        "  window_y=[]\n",
        "  for i in range(0, len(x_train)-windowsize, windowsize+1):\n",
        "    window_x.append([x_train.values[i:i+windowsize]])\n",
        "    window_y.append([y_train.values[i:i+windowsize]])\n",
        "  window_x=np.array(window_x).reshape(-1,windowsize,6)\n",
        "  window_y=np.array(window_y).reshape(-1,windowsize,4)\n",
        "\n",
        "  return window_x, window_y"
      ]
    },
    {
      "cell_type": "code",
      "execution_count": null,
      "metadata": {
        "colab": {
          "base_uri": "https://localhost:8080/"
        },
        "id": "w5sr9TMQDJ8U",
        "outputId": "87303154-5e78-455b-85f1-258ed6ed621c"
      },
      "outputs": [
        {
          "output_type": "stream",
          "name": "stdout",
          "text": [
            "(32721, 40, 6) (32721, 40, 4)\n"
          ]
        }
      ],
      "source": [
        "x_window, y_window = define_windows(x_train_scaled, y_train_onehot, 40)\n",
        "print(x_window.shape, y_window.shape)"
      ]
    },
    {
      "cell_type": "code",
      "execution_count": null,
      "metadata": {
        "colab": {
          "base_uri": "https://localhost:8080/"
        },
        "id": "ZHjB4x3bDepY",
        "outputId": "a1ff5556-638e-4260-d562-2728295204f4"
      },
      "outputs": [
        {
          "output_type": "stream",
          "name": "stdout",
          "text": [
            "(29448, 40, 6) (29448, 40, 4)\n",
            "(3273, 40, 6) (3273, 40, 4)\n"
          ]
        }
      ],
      "source": [
        "x_train,x_val,y_train,y_val=train_test_split(x_window, y_window, test_size=0.1)\n",
        "print(x_train.shape, y_train.shape)\n",
        "print(x_val.shape, y_val.shape)"
      ]
    },
    {
      "cell_type": "code",
      "execution_count": null,
      "metadata": {
        "id": "jfKHKfYUDrBw"
      },
      "outputs": [],
      "source": [
        "def create_1dCNN():\n",
        "  model = Sequential()\n",
        "  model.add(Conv1D(16, kernel_size=3, activation='relu', padding='same', input_shape=(40,6)))\n",
        "\n",
        "  model.add(AveragePooling1D(2))\n",
        "  model.add(Dropout(0.2))\n",
        "\n",
        "  model.add(Conv1D(32, kernel_size=3, activation='relu', padding='same'))\n",
        "\n",
        "  model.add(AveragePooling1D(2))\n",
        "  model.add(Dropout(0.2))\n",
        "\n",
        "  model.add(Conv1D(32, kernel_size=3, activation='relu', padding='same'))\n",
        "  model.add(UpSampling1D(size=2))\n",
        "  model.add(Dropout(0.2))\n",
        "\n",
        "  model.add(Conv1D(16, kernel_size=3, activation='relu', padding='same'))\n",
        "  model.add(UpSampling1D(size=2))\n",
        "  model.add(Dropout(0.2))\n",
        "\n",
        "  model.add(Conv1D(4, kernel_size=3, activation='softmax', padding='same'))\n",
        "  model.compile(optimizer=Adam(learning_rate=0.001),  loss='categorical_crossentropy', metrics = ['accuracy'])\n",
        "  return model"
      ]
    },
    {
      "cell_type": "code",
      "execution_count": null,
      "metadata": {
        "id": "_xgoeIi6ESJo"
      },
      "outputs": [],
      "source": [
        "cnn_model = create_1dCNN()"
      ]
    },
    {
      "cell_type": "code",
      "execution_count": null,
      "metadata": {
        "id": "J6uy9jpAEWdb",
        "colab": {
          "base_uri": "https://localhost:8080/"
        },
        "outputId": "69e92d3d-0dc4-45b7-e660-9c00ed40dfa0"
      },
      "outputs": [
        {
          "output_type": "stream",
          "name": "stdout",
          "text": [
            "Epoch 1/20\n",
            "921/921 [==============================] - 10s 9ms/step - loss: 0.6780 - accuracy: 0.7610 - val_loss: 0.5403 - val_accuracy: 0.8026\n",
            "Epoch 2/20\n",
            "921/921 [==============================] - 10s 11ms/step - loss: 0.5268 - accuracy: 0.8006 - val_loss: 0.4499 - val_accuracy: 0.8245\n",
            "Epoch 3/20\n",
            "921/921 [==============================] - 9s 10ms/step - loss: 0.4821 - accuracy: 0.8174 - val_loss: 0.4154 - val_accuracy: 0.8408\n",
            "Epoch 4/20\n",
            "921/921 [==============================] - 9s 9ms/step - loss: 0.4591 - accuracy: 0.8250 - val_loss: 0.3986 - val_accuracy: 0.8469\n",
            "Epoch 5/20\n",
            "921/921 [==============================] - 10s 11ms/step - loss: 0.4449 - accuracy: 0.8311 - val_loss: 0.3860 - val_accuracy: 0.8547\n",
            "Epoch 6/20\n",
            "921/921 [==============================] - 9s 10ms/step - loss: 0.4368 - accuracy: 0.8334 - val_loss: 0.3926 - val_accuracy: 0.8542\n",
            "Epoch 7/20\n",
            "921/921 [==============================] - 11s 12ms/step - loss: 0.4267 - accuracy: 0.8368 - val_loss: 0.3807 - val_accuracy: 0.8582\n",
            "Epoch 8/20\n",
            "921/921 [==============================] - 10s 11ms/step - loss: 0.4158 - accuracy: 0.8417 - val_loss: 0.3696 - val_accuracy: 0.8608\n",
            "Epoch 9/20\n",
            "921/921 [==============================] - 8s 9ms/step - loss: 0.4135 - accuracy: 0.8420 - val_loss: 0.3644 - val_accuracy: 0.8631\n",
            "Epoch 10/20\n",
            "921/921 [==============================] - 10s 11ms/step - loss: 0.4095 - accuracy: 0.8436 - val_loss: 0.3649 - val_accuracy: 0.8665\n",
            "Epoch 11/20\n",
            "921/921 [==============================] - 10s 11ms/step - loss: 0.4040 - accuracy: 0.8457 - val_loss: 0.3498 - val_accuracy: 0.8675\n",
            "Epoch 12/20\n",
            "921/921 [==============================] - 8s 9ms/step - loss: 0.4003 - accuracy: 0.8473 - val_loss: 0.3450 - val_accuracy: 0.8712\n",
            "Epoch 13/20\n",
            "921/921 [==============================] - 10s 11ms/step - loss: 0.3978 - accuracy: 0.8479 - val_loss: 0.3407 - val_accuracy: 0.8699\n",
            "Epoch 14/20\n",
            "921/921 [==============================] - 10s 11ms/step - loss: 0.3957 - accuracy: 0.8490 - val_loss: 0.3360 - val_accuracy: 0.8743\n",
            "Epoch 15/20\n",
            "921/921 [==============================] - 9s 10ms/step - loss: 0.3924 - accuracy: 0.8501 - val_loss: 0.3401 - val_accuracy: 0.8703\n",
            "Epoch 16/20\n",
            "921/921 [==============================] - 10s 11ms/step - loss: 0.3898 - accuracy: 0.8510 - val_loss: 0.3349 - val_accuracy: 0.8743\n",
            "Epoch 17/20\n",
            "921/921 [==============================] - 9s 10ms/step - loss: 0.3891 - accuracy: 0.8518 - val_loss: 0.3411 - val_accuracy: 0.8689\n",
            "Epoch 18/20\n",
            "921/921 [==============================] - 9s 10ms/step - loss: 0.3852 - accuracy: 0.8524 - val_loss: 0.3273 - val_accuracy: 0.8773\n",
            "Epoch 19/20\n",
            "921/921 [==============================] - 11s 12ms/step - loss: 0.3842 - accuracy: 0.8534 - val_loss: 0.3303 - val_accuracy: 0.8769\n",
            "Epoch 20/20\n",
            "921/921 [==============================] - 10s 10ms/step - loss: 0.3816 - accuracy: 0.8552 - val_loss: 0.3381 - val_accuracy: 0.8767\n"
          ]
        }
      ],
      "source": [
        "cnn_fit = cnn_model.fit(x_train, y_train, epochs=20, verbose=1, validation_data=(x_val, y_val))"
      ]
    },
    {
      "cell_type": "code",
      "execution_count": null,
      "metadata": {
        "id": "SMxrAEErF6il"
      },
      "outputs": [],
      "source": [
        "def create_1dCNN_updated():\n",
        "  model = Sequential()\n",
        "  model.add(Conv1D(32, kernel_size=3, activation='relu', padding='same', input_shape=(40,6)))\n",
        "  model.add(BatchNormalization())\n",
        "  model.add(Conv1D(32, kernel_size=3, activation='relu', padding='same'))\n",
        "  model.add(BatchNormalization())\n",
        "  model.add(AveragePooling1D(2))\n",
        "  model.add(Dropout(0.2))\n",
        "\n",
        "  model.add(Conv1D(64, kernel_size=3, activation='relu', padding='same'))\n",
        "  model.add(BatchNormalization())\n",
        "  model.add(Conv1D(64, kernel_size=3, activation='relu', padding='same'))\n",
        "  model.add(BatchNormalization())\n",
        "  model.add(AveragePooling1D(2))\n",
        "  model.add(Dropout(0.2))\n",
        "\n",
        "  model.add(Conv1D(128, kernel_size=3, activation='relu', padding='same'))\n",
        "  model.add(BatchNormalization())\n",
        "  model.add(Conv1D(128, kernel_size=3, activation='relu', padding='same'))\n",
        "  model.add(BatchNormalization())\n",
        "  model.add(UpSampling1D(size=2))\n",
        "  model.add(Dropout(0.2))\n",
        "\n",
        "  model.add(Conv1D(64, kernel_size=3, activation='relu', padding='same'))\n",
        "  model.add(BatchNormalization())\n",
        "  model.add(Conv1D(64, kernel_size=3, activation='relu', padding='same'))\n",
        "  model.add(BatchNormalization())\n",
        "  model.add(UpSampling1D(size=2))\n",
        "  model.add(Dropout(0.2))\n",
        "\n",
        "  model.add(Conv1D(4, kernel_size=3, padding='same'))\n",
        "  model.add(LeakyReLU(alpha=0.1))\n",
        "  model.add(Conv1D(4, kernel_size=3, padding='same', activation='softmax', activity_regularizer=l1_l2(l1=0.01, l2=0.01)))\n",
        "\n",
        "  model.compile(optimizer=Adam(learning_rate=0.001),  loss='categorical_crossentropy', metrics = ['accuracy'])\n",
        "  return model\n"
      ]
    },
    {
      "cell_type": "code",
      "execution_count": null,
      "metadata": {
        "id": "CJcrYdiIH35T"
      },
      "outputs": [],
      "source": [
        "cnn_new_model = create_1dCNN_updated()"
      ]
    },
    {
      "cell_type": "code",
      "execution_count": null,
      "metadata": {
        "id": "pUn_7cwJH-YZ",
        "colab": {
          "base_uri": "https://localhost:8080/"
        },
        "outputId": "538598af-4540-4ccf-c0b6-dc7ff080e023"
      },
      "outputs": [
        {
          "output_type": "stream",
          "name": "stdout",
          "text": [
            "Epoch 1/20\n",
            "921/921 [==============================] - 37s 37ms/step - loss: 1.1621 - accuracy: 0.8176 - val_loss: 1.0453 - val_accuracy: 0.8851\n",
            "Epoch 2/20\n",
            "921/921 [==============================] - 33s 36ms/step - loss: 1.0380 - accuracy: 0.8824 - val_loss: 0.9942 - val_accuracy: 0.9080\n",
            "Epoch 3/20\n",
            "921/921 [==============================] - 35s 38ms/step - loss: 1.0057 - accuracy: 0.8990 - val_loss: 0.9775 - val_accuracy: 0.9179\n",
            "Epoch 4/20\n",
            "921/921 [==============================] - 34s 36ms/step - loss: 0.9904 - accuracy: 0.9071 - val_loss: 0.9645 - val_accuracy: 0.9237\n",
            "Epoch 5/20\n",
            "921/921 [==============================] - 33s 36ms/step - loss: 0.9784 - accuracy: 0.9137 - val_loss: 0.9663 - val_accuracy: 0.9220\n",
            "Epoch 6/20\n",
            "921/921 [==============================] - 33s 36ms/step - loss: 0.9693 - accuracy: 0.9175 - val_loss: 0.9528 - val_accuracy: 0.9293\n",
            "Epoch 7/20\n",
            "921/921 [==============================] - 36s 39ms/step - loss: 0.9613 - accuracy: 0.9225 - val_loss: 0.9520 - val_accuracy: 0.9278\n",
            "Epoch 8/20\n",
            "921/921 [==============================] - 34s 37ms/step - loss: 0.9577 - accuracy: 0.9240 - val_loss: 0.9428 - val_accuracy: 0.9340\n",
            "Epoch 9/20\n",
            "921/921 [==============================] - 34s 37ms/step - loss: 0.9502 - accuracy: 0.9274 - val_loss: 0.9422 - val_accuracy: 0.9342\n",
            "Epoch 10/20\n",
            "921/921 [==============================] - 37s 40ms/step - loss: 0.9473 - accuracy: 0.9292 - val_loss: 0.9582 - val_accuracy: 0.9273\n",
            "Epoch 11/20\n",
            "921/921 [==============================] - 35s 38ms/step - loss: 0.9428 - accuracy: 0.9320 - val_loss: 0.9404 - val_accuracy: 0.9360\n",
            "Epoch 12/20\n",
            "921/921 [==============================] - 35s 38ms/step - loss: 0.9414 - accuracy: 0.9324 - val_loss: 0.9349 - val_accuracy: 0.9402\n",
            "Epoch 13/20\n",
            "921/921 [==============================] - 36s 39ms/step - loss: 0.9368 - accuracy: 0.9339 - val_loss: 0.9311 - val_accuracy: 0.9399\n",
            "Epoch 14/20\n",
            "921/921 [==============================] - 37s 40ms/step - loss: 0.9346 - accuracy: 0.9355 - val_loss: 0.9311 - val_accuracy: 0.9404\n",
            "Epoch 15/20\n",
            "921/921 [==============================] - 33s 36ms/step - loss: 0.9324 - accuracy: 0.9370 - val_loss: 0.9397 - val_accuracy: 0.9362\n",
            "Epoch 16/20\n",
            "921/921 [==============================] - 36s 39ms/step - loss: 0.9289 - accuracy: 0.9379 - val_loss: 0.9250 - val_accuracy: 0.9419\n",
            "Epoch 17/20\n",
            "921/921 [==============================] - 34s 37ms/step - loss: 0.9273 - accuracy: 0.9393 - val_loss: 0.9290 - val_accuracy: 0.9422\n",
            "Epoch 18/20\n",
            "921/921 [==============================] - 35s 38ms/step - loss: 0.9254 - accuracy: 0.9405 - val_loss: 0.9355 - val_accuracy: 0.9409\n",
            "Epoch 19/20\n",
            "921/921 [==============================] - 34s 37ms/step - loss: 0.9231 - accuracy: 0.9412 - val_loss: 0.9365 - val_accuracy: 0.9404\n",
            "Epoch 20/20\n",
            "921/921 [==============================] - 34s 37ms/step - loss: 0.9202 - accuracy: 0.9428 - val_loss: 0.9378 - val_accuracy: 0.9397\n"
          ]
        }
      ],
      "source": [
        "cnn_fit_2 = cnn_new_model.fit(x_train, y_train, epochs=20, verbose=1, validation_data=(x_val, y_val))"
      ]
    },
    {
      "cell_type": "code",
      "execution_count": null,
      "metadata": {
        "colab": {
          "base_uri": "https://localhost:8080/"
        },
        "id": "ZfzuR5CZK9XR",
        "outputId": "82aefd0e-8d5b-4c10-fe3f-07e942164a6f"
      },
      "outputs": [
        {
          "output_type": "stream",
          "name": "stdout",
          "text": [
            "103/103 [==============================] - 1s 9ms/step - loss: 0.9378 - accuracy: 0.9397\n"
          ]
        },
        {
          "output_type": "execute_result",
          "data": {
            "text/plain": [
              "[0.9377759695053101, 0.9397494792938232]"
            ]
          },
          "metadata": {},
          "execution_count": 71
        }
      ],
      "source": [
        "cnn_new_model.evaluate(x_val, y_val)"
      ]
    },
    {
      "cell_type": "code",
      "execution_count": null,
      "metadata": {
        "colab": {
          "base_uri": "https://localhost:8080/"
        },
        "id": "w7nrH6TRh_XZ",
        "outputId": "17275687-f38c-438c-dbc2-30d92a5e1e32"
      },
      "outputs": [
        {
          "output_type": "stream",
          "name": "stdout",
          "text": [
            "103/103 [==============================] - 1s 8ms/step\n"
          ]
        }
      ],
      "source": [
        "Y_pred = cnn_new_model.predict(x_val)"
      ]
    },
    {
      "cell_type": "code",
      "execution_count": null,
      "metadata": {
        "colab": {
          "base_uri": "https://localhost:8080/"
        },
        "id": "BJqLGsDti342",
        "outputId": "5eb8013a-e7db-4a44-a2ed-3a6355b0d840"
      },
      "outputs": [
        {
          "output_type": "execute_result",
          "data": {
            "text/plain": [
              "(3273, 40, 4)"
            ]
          },
          "metadata": {},
          "execution_count": 73
        }
      ],
      "source": [
        "Y_pred.shape"
      ]
    },
    {
      "cell_type": "code",
      "execution_count": null,
      "metadata": {
        "colab": {
          "base_uri": "https://localhost:8080/"
        },
        "id": "YmInBSDtkhCy",
        "outputId": "c095d6ab-9f20-4673-aecc-bbfbbf4e6374"
      },
      "outputs": [
        {
          "output_type": "stream",
          "name": "stdout",
          "text": [
            "(130920, 4) (130920, 4)\n"
          ]
        }
      ],
      "source": [
        "Y_pred = Y_pred.reshape(-1, 4)\n",
        "Y_val = y_val.reshape(-1, 4)\n",
        "print(Y_pred.shape,Y_val.shape)"
      ]
    },
    {
      "cell_type": "code",
      "execution_count": null,
      "metadata": {
        "id": "9sQPNSHykyMc"
      },
      "outputs": [],
      "source": [
        "y_pred_bool = np.argmax(Y_pred, axis = 1)\n",
        "y_val_bool = np.argmax(Y_val, axis = 1)"
      ]
    },
    {
      "cell_type": "code",
      "execution_count": null,
      "metadata": {
        "colab": {
          "base_uri": "https://localhost:8080/"
        },
        "id": "J1dnjqMdhw-C",
        "outputId": "62a3175f-b5d8-4be6-e81c-d6e06f0b3808"
      },
      "outputs": [
        {
          "output_type": "execute_result",
          "data": {
            "text/plain": [
              "0.9038698637253739"
            ]
          },
          "metadata": {},
          "execution_count": 76
        }
      ],
      "source": [
        "f1_score(y_pred_bool,y_val_bool, average='macro')"
      ]
    },
    {
      "cell_type": "code",
      "execution_count": null,
      "metadata": {
        "colab": {
          "base_uri": "https://localhost:8080/"
        },
        "id": "uf1N9SGvplku",
        "outputId": "e7326175-3bf4-4123-de2f-8a366f8186ba"
      },
      "outputs": [
        {
          "output_type": "stream",
          "name": "stdout",
          "text": [
            "Counter({0: 102532, 3: 16873, 2: 7066, 1: 4449}) Counter({0: 99327, 3: 20197, 2: 7040, 1: 4356})\n"
          ]
        }
      ],
      "source": [
        "counter_pred = Counter(y_pred_bool)\n",
        "counter_true = Counter(y_val_bool)\n",
        "print(counter_pred,counter_true)"
      ]
    },
    {
      "cell_type": "markdown",
      "metadata": {
        "id": "6KMBuK5uSqGU"
      },
      "source": [
        "## Load test data"
      ]
    },
    {
      "cell_type": "code",
      "execution_count": null,
      "metadata": {
        "id": "G-hsPzXNN0xq"
      },
      "outputs": [],
      "source": [
        "subject9_X = pd.read_csv(csv_path + 'subject9_X.csv',index_col=0)"
      ]
    },
    {
      "cell_type": "code",
      "execution_count": null,
      "metadata": {
        "colab": {
          "base_uri": "https://localhost:8080/",
          "height": 206
        },
        "id": "5HFlciieTlw3",
        "outputId": "d5ed234a-d880-40d5-a0ab-dba37b0d7cd3"
      },
      "outputs": [
        {
          "output_type": "execute_result",
          "data": {
            "text/plain": [
              "      X_acc     Y_acc     Z_acc     X_gyr     Y_gyr     Z_gyr\n",
              "0  0.396845  8.710000 -4.476044  0.001111 -0.008889  0.004137\n",
              "1  0.485234  8.725234 -4.520000 -0.000020  0.006667  0.007778\n",
              "2  0.460536  8.709464 -4.480000  0.001815  0.004525  0.002981\n",
              "3  0.463828  8.708437 -4.470000 -0.000466  0.005089  0.002867\n",
              "4  0.454513  8.715487 -4.489026  0.002387  0.004444  0.002696"
            ],
            "text/html": [
              "\n",
              "  <div id=\"df-93ca5a61-f41c-44af-87f8-fe256a4b31ab\">\n",
              "    <div class=\"colab-df-container\">\n",
              "      <div>\n",
              "<style scoped>\n",
              "    .dataframe tbody tr th:only-of-type {\n",
              "        vertical-align: middle;\n",
              "    }\n",
              "\n",
              "    .dataframe tbody tr th {\n",
              "        vertical-align: top;\n",
              "    }\n",
              "\n",
              "    .dataframe thead th {\n",
              "        text-align: right;\n",
              "    }\n",
              "</style>\n",
              "<table border=\"1\" class=\"dataframe\">\n",
              "  <thead>\n",
              "    <tr style=\"text-align: right;\">\n",
              "      <th></th>\n",
              "      <th>X_acc</th>\n",
              "      <th>Y_acc</th>\n",
              "      <th>Z_acc</th>\n",
              "      <th>X_gyr</th>\n",
              "      <th>Y_gyr</th>\n",
              "      <th>Z_gyr</th>\n",
              "    </tr>\n",
              "  </thead>\n",
              "  <tbody>\n",
              "    <tr>\n",
              "      <th>0</th>\n",
              "      <td>0.396845</td>\n",
              "      <td>8.710000</td>\n",
              "      <td>-4.476044</td>\n",
              "      <td>0.001111</td>\n",
              "      <td>-0.008889</td>\n",
              "      <td>0.004137</td>\n",
              "    </tr>\n",
              "    <tr>\n",
              "      <th>1</th>\n",
              "      <td>0.485234</td>\n",
              "      <td>8.725234</td>\n",
              "      <td>-4.520000</td>\n",
              "      <td>-0.000020</td>\n",
              "      <td>0.006667</td>\n",
              "      <td>0.007778</td>\n",
              "    </tr>\n",
              "    <tr>\n",
              "      <th>2</th>\n",
              "      <td>0.460536</td>\n",
              "      <td>8.709464</td>\n",
              "      <td>-4.480000</td>\n",
              "      <td>0.001815</td>\n",
              "      <td>0.004525</td>\n",
              "      <td>0.002981</td>\n",
              "    </tr>\n",
              "    <tr>\n",
              "      <th>3</th>\n",
              "      <td>0.463828</td>\n",
              "      <td>8.708437</td>\n",
              "      <td>-4.470000</td>\n",
              "      <td>-0.000466</td>\n",
              "      <td>0.005089</td>\n",
              "      <td>0.002867</td>\n",
              "    </tr>\n",
              "    <tr>\n",
              "      <th>4</th>\n",
              "      <td>0.454513</td>\n",
              "      <td>8.715487</td>\n",
              "      <td>-4.489026</td>\n",
              "      <td>0.002387</td>\n",
              "      <td>0.004444</td>\n",
              "      <td>0.002696</td>\n",
              "    </tr>\n",
              "  </tbody>\n",
              "</table>\n",
              "</div>\n",
              "      <button class=\"colab-df-convert\" onclick=\"convertToInteractive('df-93ca5a61-f41c-44af-87f8-fe256a4b31ab')\"\n",
              "              title=\"Convert this dataframe to an interactive table.\"\n",
              "              style=\"display:none;\">\n",
              "        \n",
              "  <svg xmlns=\"http://www.w3.org/2000/svg\" height=\"24px\"viewBox=\"0 0 24 24\"\n",
              "       width=\"24px\">\n",
              "    <path d=\"M0 0h24v24H0V0z\" fill=\"none\"/>\n",
              "    <path d=\"M18.56 5.44l.94 2.06.94-2.06 2.06-.94-2.06-.94-.94-2.06-.94 2.06-2.06.94zm-11 1L8.5 8.5l.94-2.06 2.06-.94-2.06-.94L8.5 2.5l-.94 2.06-2.06.94zm10 10l.94 2.06.94-2.06 2.06-.94-2.06-.94-.94-2.06-.94 2.06-2.06.94z\"/><path d=\"M17.41 7.96l-1.37-1.37c-.4-.4-.92-.59-1.43-.59-.52 0-1.04.2-1.43.59L10.3 9.45l-7.72 7.72c-.78.78-.78 2.05 0 2.83L4 21.41c.39.39.9.59 1.41.59.51 0 1.02-.2 1.41-.59l7.78-7.78 2.81-2.81c.8-.78.8-2.07 0-2.86zM5.41 20L4 18.59l7.72-7.72 1.47 1.35L5.41 20z\"/>\n",
              "  </svg>\n",
              "      </button>\n",
              "      \n",
              "  <style>\n",
              "    .colab-df-container {\n",
              "      display:flex;\n",
              "      flex-wrap:wrap;\n",
              "      gap: 12px;\n",
              "    }\n",
              "\n",
              "    .colab-df-convert {\n",
              "      background-color: #E8F0FE;\n",
              "      border: none;\n",
              "      border-radius: 50%;\n",
              "      cursor: pointer;\n",
              "      display: none;\n",
              "      fill: #1967D2;\n",
              "      height: 32px;\n",
              "      padding: 0 0 0 0;\n",
              "      width: 32px;\n",
              "    }\n",
              "\n",
              "    .colab-df-convert:hover {\n",
              "      background-color: #E2EBFA;\n",
              "      box-shadow: 0px 1px 2px rgba(60, 64, 67, 0.3), 0px 1px 3px 1px rgba(60, 64, 67, 0.15);\n",
              "      fill: #174EA6;\n",
              "    }\n",
              "\n",
              "    [theme=dark] .colab-df-convert {\n",
              "      background-color: #3B4455;\n",
              "      fill: #D2E3FC;\n",
              "    }\n",
              "\n",
              "    [theme=dark] .colab-df-convert:hover {\n",
              "      background-color: #434B5C;\n",
              "      box-shadow: 0px 1px 3px 1px rgba(0, 0, 0, 0.15);\n",
              "      filter: drop-shadow(0px 1px 2px rgba(0, 0, 0, 0.3));\n",
              "      fill: #FFFFFF;\n",
              "    }\n",
              "  </style>\n",
              "\n",
              "      <script>\n",
              "        const buttonEl =\n",
              "          document.querySelector('#df-93ca5a61-f41c-44af-87f8-fe256a4b31ab button.colab-df-convert');\n",
              "        buttonEl.style.display =\n",
              "          google.colab.kernel.accessAllowed ? 'block' : 'none';\n",
              "\n",
              "        async function convertToInteractive(key) {\n",
              "          const element = document.querySelector('#df-93ca5a61-f41c-44af-87f8-fe256a4b31ab');\n",
              "          const dataTable =\n",
              "            await google.colab.kernel.invokeFunction('convertToInteractive',\n",
              "                                                     [key], {});\n",
              "          if (!dataTable) return;\n",
              "\n",
              "          const docLinkHtml = 'Like what you see? Visit the ' +\n",
              "            '<a target=\"_blank\" href=https://colab.research.google.com/notebooks/data_table.ipynb>data table notebook</a>'\n",
              "            + ' to learn more about interactive tables.';\n",
              "          element.innerHTML = '';\n",
              "          dataTable['output_type'] = 'display_data';\n",
              "          await google.colab.output.renderOutput(dataTable, element);\n",
              "          const docLink = document.createElement('div');\n",
              "          docLink.innerHTML = docLinkHtml;\n",
              "          element.appendChild(docLink);\n",
              "        }\n",
              "      </script>\n",
              "    </div>\n",
              "  </div>\n",
              "  "
            ]
          },
          "metadata": {},
          "execution_count": 113
        }
      ],
      "source": [
        "subject9_X.head()"
      ]
    },
    {
      "cell_type": "code",
      "execution_count": null,
      "metadata": {
        "colab": {
          "base_uri": "https://localhost:8080/"
        },
        "id": "rx4YQcsnTnK8",
        "outputId": "5edb1ac0-cbf9-4ff6-a33d-f6d483ae67a1"
      },
      "outputs": [
        {
          "output_type": "execute_result",
          "data": {
            "text/plain": [
              "9498"
            ]
          },
          "metadata": {},
          "execution_count": 114
        }
      ],
      "source": [
        "len(subject9_X)"
      ]
    },
    {
      "cell_type": "code",
      "execution_count": null,
      "metadata": {
        "id": "0N7UBxCsTpft"
      },
      "outputs": [],
      "source": [
        "subject10_X = pd.read_csv(csv_path + 'subject10_X.csv',index_col=0)\n",
        "subject11_X = pd.read_csv(csv_path + 'subject11_X.csv',index_col=0)\n",
        "subject12_X = pd.read_csv(csv_path + 'subject12_X.csv',index_col=0)"
      ]
    },
    {
      "cell_type": "code",
      "execution_count": null,
      "metadata": {
        "colab": {
          "base_uri": "https://localhost:8080/"
        },
        "id": "ZFRKUgRlTufW",
        "outputId": "6517d4c0-f169-4bd4-80d2-8a3fe13484ae"
      },
      "outputs": [
        {
          "output_type": "stream",
          "name": "stdout",
          "text": [
            "12270 12940 11330\n"
          ]
        }
      ],
      "source": [
        "print(len(subject10_X),len(subject11_X),len(subject12_X))"
      ]
    },
    {
      "cell_type": "code",
      "execution_count": null,
      "metadata": {
        "id": "60LceRdoTzDI"
      },
      "outputs": [],
      "source": [
        "subject9_X_scaled = scaler.fit_transform(subject9_X)\n",
        "subject9_X_scaled = pd.DataFrame(subject9_X_scaled, columns = ['X_acc', 'Y_acc', 'Z_acc', 'X_gyr', 'Y_gyr', 'Z_gyr'])"
      ]
    },
    {
      "cell_type": "code",
      "execution_count": null,
      "metadata": {
        "colab": {
          "base_uri": "https://localhost:8080/",
          "height": 206
        },
        "id": "0_pQxko8Urs8",
        "outputId": "e5c10301-647e-4ded-84d3-a0d2458b75ef"
      },
      "outputs": [
        {
          "output_type": "execute_result",
          "data": {
            "text/plain": [
              "      X_acc     Y_acc     Z_acc     X_gyr     Y_gyr     Z_gyr\n",
              "0 -0.042342  0.097511 -1.735753 -0.007443  0.015090 -0.094789\n",
              "1 -0.029772  0.100547 -1.743737 -0.007876  0.026628 -0.090565\n",
              "2 -0.033285  0.097405 -1.736472 -0.007173  0.025039 -0.096128\n",
              "3 -0.032816  0.097200 -1.734655 -0.008047  0.025457 -0.096261\n",
              "4 -0.034141  0.098605 -1.738111 -0.006954  0.024979 -0.096460"
            ],
            "text/html": [
              "\n",
              "  <div id=\"df-4afb2aec-efb2-419a-9b7d-2d352ed24430\">\n",
              "    <div class=\"colab-df-container\">\n",
              "      <div>\n",
              "<style scoped>\n",
              "    .dataframe tbody tr th:only-of-type {\n",
              "        vertical-align: middle;\n",
              "    }\n",
              "\n",
              "    .dataframe tbody tr th {\n",
              "        vertical-align: top;\n",
              "    }\n",
              "\n",
              "    .dataframe thead th {\n",
              "        text-align: right;\n",
              "    }\n",
              "</style>\n",
              "<table border=\"1\" class=\"dataframe\">\n",
              "  <thead>\n",
              "    <tr style=\"text-align: right;\">\n",
              "      <th></th>\n",
              "      <th>X_acc</th>\n",
              "      <th>Y_acc</th>\n",
              "      <th>Z_acc</th>\n",
              "      <th>X_gyr</th>\n",
              "      <th>Y_gyr</th>\n",
              "      <th>Z_gyr</th>\n",
              "    </tr>\n",
              "  </thead>\n",
              "  <tbody>\n",
              "    <tr>\n",
              "      <th>0</th>\n",
              "      <td>-0.042342</td>\n",
              "      <td>0.097511</td>\n",
              "      <td>-1.735753</td>\n",
              "      <td>-0.007443</td>\n",
              "      <td>0.015090</td>\n",
              "      <td>-0.094789</td>\n",
              "    </tr>\n",
              "    <tr>\n",
              "      <th>1</th>\n",
              "      <td>-0.029772</td>\n",
              "      <td>0.100547</td>\n",
              "      <td>-1.743737</td>\n",
              "      <td>-0.007876</td>\n",
              "      <td>0.026628</td>\n",
              "      <td>-0.090565</td>\n",
              "    </tr>\n",
              "    <tr>\n",
              "      <th>2</th>\n",
              "      <td>-0.033285</td>\n",
              "      <td>0.097405</td>\n",
              "      <td>-1.736472</td>\n",
              "      <td>-0.007173</td>\n",
              "      <td>0.025039</td>\n",
              "      <td>-0.096128</td>\n",
              "    </tr>\n",
              "    <tr>\n",
              "      <th>3</th>\n",
              "      <td>-0.032816</td>\n",
              "      <td>0.097200</td>\n",
              "      <td>-1.734655</td>\n",
              "      <td>-0.008047</td>\n",
              "      <td>0.025457</td>\n",
              "      <td>-0.096261</td>\n",
              "    </tr>\n",
              "    <tr>\n",
              "      <th>4</th>\n",
              "      <td>-0.034141</td>\n",
              "      <td>0.098605</td>\n",
              "      <td>-1.738111</td>\n",
              "      <td>-0.006954</td>\n",
              "      <td>0.024979</td>\n",
              "      <td>-0.096460</td>\n",
              "    </tr>\n",
              "  </tbody>\n",
              "</table>\n",
              "</div>\n",
              "      <button class=\"colab-df-convert\" onclick=\"convertToInteractive('df-4afb2aec-efb2-419a-9b7d-2d352ed24430')\"\n",
              "              title=\"Convert this dataframe to an interactive table.\"\n",
              "              style=\"display:none;\">\n",
              "        \n",
              "  <svg xmlns=\"http://www.w3.org/2000/svg\" height=\"24px\"viewBox=\"0 0 24 24\"\n",
              "       width=\"24px\">\n",
              "    <path d=\"M0 0h24v24H0V0z\" fill=\"none\"/>\n",
              "    <path d=\"M18.56 5.44l.94 2.06.94-2.06 2.06-.94-2.06-.94-.94-2.06-.94 2.06-2.06.94zm-11 1L8.5 8.5l.94-2.06 2.06-.94-2.06-.94L8.5 2.5l-.94 2.06-2.06.94zm10 10l.94 2.06.94-2.06 2.06-.94-2.06-.94-.94-2.06-.94 2.06-2.06.94z\"/><path d=\"M17.41 7.96l-1.37-1.37c-.4-.4-.92-.59-1.43-.59-.52 0-1.04.2-1.43.59L10.3 9.45l-7.72 7.72c-.78.78-.78 2.05 0 2.83L4 21.41c.39.39.9.59 1.41.59.51 0 1.02-.2 1.41-.59l7.78-7.78 2.81-2.81c.8-.78.8-2.07 0-2.86zM5.41 20L4 18.59l7.72-7.72 1.47 1.35L5.41 20z\"/>\n",
              "  </svg>\n",
              "      </button>\n",
              "      \n",
              "  <style>\n",
              "    .colab-df-container {\n",
              "      display:flex;\n",
              "      flex-wrap:wrap;\n",
              "      gap: 12px;\n",
              "    }\n",
              "\n",
              "    .colab-df-convert {\n",
              "      background-color: #E8F0FE;\n",
              "      border: none;\n",
              "      border-radius: 50%;\n",
              "      cursor: pointer;\n",
              "      display: none;\n",
              "      fill: #1967D2;\n",
              "      height: 32px;\n",
              "      padding: 0 0 0 0;\n",
              "      width: 32px;\n",
              "    }\n",
              "\n",
              "    .colab-df-convert:hover {\n",
              "      background-color: #E2EBFA;\n",
              "      box-shadow: 0px 1px 2px rgba(60, 64, 67, 0.3), 0px 1px 3px 1px rgba(60, 64, 67, 0.15);\n",
              "      fill: #174EA6;\n",
              "    }\n",
              "\n",
              "    [theme=dark] .colab-df-convert {\n",
              "      background-color: #3B4455;\n",
              "      fill: #D2E3FC;\n",
              "    }\n",
              "\n",
              "    [theme=dark] .colab-df-convert:hover {\n",
              "      background-color: #434B5C;\n",
              "      box-shadow: 0px 1px 3px 1px rgba(0, 0, 0, 0.15);\n",
              "      filter: drop-shadow(0px 1px 2px rgba(0, 0, 0, 0.3));\n",
              "      fill: #FFFFFF;\n",
              "    }\n",
              "  </style>\n",
              "\n",
              "      <script>\n",
              "        const buttonEl =\n",
              "          document.querySelector('#df-4afb2aec-efb2-419a-9b7d-2d352ed24430 button.colab-df-convert');\n",
              "        buttonEl.style.display =\n",
              "          google.colab.kernel.accessAllowed ? 'block' : 'none';\n",
              "\n",
              "        async function convertToInteractive(key) {\n",
              "          const element = document.querySelector('#df-4afb2aec-efb2-419a-9b7d-2d352ed24430');\n",
              "          const dataTable =\n",
              "            await google.colab.kernel.invokeFunction('convertToInteractive',\n",
              "                                                     [key], {});\n",
              "          if (!dataTable) return;\n",
              "\n",
              "          const docLinkHtml = 'Like what you see? Visit the ' +\n",
              "            '<a target=\"_blank\" href=https://colab.research.google.com/notebooks/data_table.ipynb>data table notebook</a>'\n",
              "            + ' to learn more about interactive tables.';\n",
              "          element.innerHTML = '';\n",
              "          dataTable['output_type'] = 'display_data';\n",
              "          await google.colab.output.renderOutput(dataTable, element);\n",
              "          const docLink = document.createElement('div');\n",
              "          docLink.innerHTML = docLinkHtml;\n",
              "          element.appendChild(docLink);\n",
              "        }\n",
              "      </script>\n",
              "    </div>\n",
              "  </div>\n",
              "  "
            ]
          },
          "metadata": {},
          "execution_count": 118
        }
      ],
      "source": [
        "subject9_X_scaled.head()"
      ]
    },
    {
      "cell_type": "code",
      "execution_count": null,
      "metadata": {
        "id": "A83bhsvXUtDu"
      },
      "outputs": [],
      "source": [
        "subject10_X_scaled = scaler.fit_transform(subject10_X)\n",
        "subject10_X_scaled = pd.DataFrame(subject10_X_scaled, columns = ['X_acc', 'Y_acc', 'Z_acc', 'X_gyr', 'Y_gyr', 'Z_gyr'])\n",
        "subject11_X_scaled = scaler.fit_transform(subject11_X)\n",
        "subject11_X_scaled = pd.DataFrame(subject11_X_scaled, columns = ['X_acc', 'Y_acc', 'Z_acc', 'X_gyr', 'Y_gyr', 'Z_gyr'])\n",
        "subject12_X_scaled = scaler.fit_transform(subject12_X)\n",
        "subject12_X_scaled = pd.DataFrame(subject12_X_scaled, columns = ['X_acc', 'Y_acc', 'Z_acc', 'X_gyr', 'Y_gyr', 'Z_gyr'])"
      ]
    },
    {
      "cell_type": "code",
      "execution_count": null,
      "metadata": {
        "colab": {
          "base_uri": "https://localhost:8080/"
        },
        "id": "shJ9toxbU3sC",
        "outputId": "45deb1a7-4cdf-4339-ecd6-8289b1fc2572"
      },
      "outputs": [
        {
          "output_type": "stream",
          "name": "stdout",
          "text": [
            "12270 12940 11330\n"
          ]
        }
      ],
      "source": [
        "print(len(subject10_X_scaled),len(subject11_X_scaled),len(subject12_X_scaled))"
      ]
    },
    {
      "cell_type": "code",
      "execution_count": null,
      "metadata": {
        "id": "CeW6iG5dVTCE"
      },
      "outputs": [],
      "source": [
        "def define_test_windows(df_x, windowsize):\n",
        "    window_x = []\n",
        "    for i in range(0, len(df_x) - windowsize + 1, windowsize):\n",
        "        window_x.append([df_x.values[i:i + windowsize]])\n",
        "    # Add remaining data to window_x\n",
        "    if len(df_x) % windowsize != 0:\n",
        "        window_x.append([df_x.values[-windowsize:]])\n",
        "    window_x = np.array(window_x).reshape(-1, windowsize, 6)\n",
        "    return window_x"
      ]
    },
    {
      "cell_type": "code",
      "execution_count": null,
      "metadata": {
        "colab": {
          "base_uri": "https://localhost:8080/"
        },
        "id": "ztQtCDyM50s-",
        "outputId": "10b7e690-9a45-40c5-ee90-ec002891b936"
      },
      "outputs": [
        {
          "output_type": "execute_result",
          "data": {
            "text/plain": [
              "9498"
            ]
          },
          "metadata": {},
          "execution_count": 122
        }
      ],
      "source": [
        "subject9_X_scaled.shape[0]"
      ]
    },
    {
      "cell_type": "code",
      "execution_count": null,
      "metadata": {
        "colab": {
          "base_uri": "https://localhost:8080/"
        },
        "id": "OcdGM1mRVYyn",
        "outputId": "111643c1-a63b-45c4-e8a7-c5208d47a8fb"
      },
      "outputs": [
        {
          "output_type": "execute_result",
          "data": {
            "text/plain": [
              "(238, 40, 6)"
            ]
          },
          "metadata": {},
          "execution_count": 123
        }
      ],
      "source": [
        "subject9_X_window = define_test_windows(subject9_X_scaled,40) \n",
        "subject9_X_window.shape"
      ]
    },
    {
      "cell_type": "code",
      "execution_count": null,
      "metadata": {
        "id": "92I1N3guVrTw"
      },
      "outputs": [],
      "source": [
        "subject10_X_window = define_test_windows(subject10_X_scaled,40) \n",
        "subject11_X_window = define_test_windows(subject11_X_scaled,40) \n",
        "subject12_X_window = define_test_windows(subject12_X_scaled,40) "
      ]
    },
    {
      "cell_type": "code",
      "execution_count": null,
      "metadata": {
        "colab": {
          "base_uri": "https://localhost:8080/"
        },
        "id": "gYP1XnmpV_GG",
        "outputId": "91e258be-0ad4-4575-abf9-11d77667ee9d"
      },
      "outputs": [
        {
          "output_type": "stream",
          "name": "stdout",
          "text": [
            "8/8 [==============================] - 0s 9ms/step\n"
          ]
        }
      ],
      "source": [
        "subject9_X_predict = cnn_new_model.predict(subject9_X_window)"
      ]
    },
    {
      "cell_type": "code",
      "execution_count": null,
      "metadata": {
        "colab": {
          "base_uri": "https://localhost:8080/"
        },
        "id": "R62eUiwhYWHC",
        "outputId": "c569fd2b-5743-493f-b35b-7e2d55322bdc"
      },
      "outputs": [
        {
          "output_type": "execute_result",
          "data": {
            "text/plain": [
              "(238, 40, 4)"
            ]
          },
          "metadata": {},
          "execution_count": 126
        }
      ],
      "source": [
        "subject9_X_predict.shape"
      ]
    },
    {
      "cell_type": "code",
      "execution_count": null,
      "metadata": {
        "colab": {
          "base_uri": "https://localhost:8080/"
        },
        "id": "Qdo1zOzhruQo",
        "outputId": "3d14f268-51c7-4837-dfbf-9fe5e6472598"
      },
      "outputs": [
        {
          "output_type": "execute_result",
          "data": {
            "text/plain": [
              "(9498, 4)"
            ]
          },
          "metadata": {},
          "execution_count": 127
        }
      ],
      "source": [
        "subject9_X_predict = subject9_X_predict.reshape(-1,4)\n",
        "subject9_X_predict = subject9_X_predict[:subject9_X.shape[0]]\n",
        "subject9_X_predict.shape"
      ]
    },
    {
      "cell_type": "code",
      "execution_count": null,
      "metadata": {
        "colab": {
          "base_uri": "https://localhost:8080/"
        },
        "id": "LP6SASexrslG",
        "outputId": "c5749474-673a-466b-a8d1-b36e69362cc0"
      },
      "outputs": [
        {
          "output_type": "execute_result",
          "data": {
            "text/plain": [
              "array([0, 0, 0, ..., 0, 0, 0])"
            ]
          },
          "metadata": {},
          "execution_count": 128
        }
      ],
      "source": [
        "subject9_X_predict = np.argmax(subject9_X_predict, axis = 1)\n",
        "subject9_X_predict"
      ]
    },
    {
      "cell_type": "code",
      "execution_count": null,
      "metadata": {
        "colab": {
          "base_uri": "https://localhost:8080/"
        },
        "id": "1NTBclJ5sXo2",
        "outputId": "93966b08-c3ad-45f5-9606-547f12a0411a"
      },
      "outputs": [
        {
          "output_type": "execute_result",
          "data": {
            "text/plain": [
              "Counter({0: 1526, 1: 7954, 2: 18})"
            ]
          },
          "metadata": {},
          "execution_count": 129
        }
      ],
      "source": [
        "counter_subject9_X_predict= Counter(subject9_X_predict)\n",
        "counter_subject9_X_predict"
      ]
    },
    {
      "cell_type": "code",
      "execution_count": null,
      "metadata": {
        "colab": {
          "base_uri": "https://localhost:8080/"
        },
        "id": "ae94m_S0ebiY",
        "outputId": "f54f97ac-ebd1-4609-bd5e-1d951bc2944e"
      },
      "outputs": [
        {
          "output_type": "stream",
          "name": "stdout",
          "text": [
            "10/10 [==============================] - 0s 8ms/step\n",
            "11/11 [==============================] - 0s 8ms/step\n",
            "9/9 [==============================] - 0s 9ms/step\n"
          ]
        }
      ],
      "source": [
        "subject10_X_predict = cnn_new_model.predict(subject10_X_window)\n",
        "subject11_X_predict = cnn_new_model.predict(subject11_X_window)\n",
        "subject12_X_predict = cnn_new_model.predict(subject12_X_window)"
      ]
    },
    {
      "cell_type": "code",
      "execution_count": null,
      "metadata": {
        "id": "lBpR03Jc-xXT"
      },
      "outputs": [],
      "source": [
        "subject10_X_predict = subject10_X_predict.reshape(-1,4)\n",
        "subject10_X_predict = subject10_X_predict[:subject10_X.shape[0]]\n",
        "\n",
        "subject11_X_predict = subject11_X_predict.reshape(-1,4)\n",
        "subject11_X_predict = subject11_X_predict[:subject11_X.shape[0]]\n",
        "\n",
        "subject12_X_predict = subject12_X_predict.reshape(-1,4)\n",
        "subject12_X_predict = subject12_X_predict[:subject12_X.shape[0]]"
      ]
    },
    {
      "cell_type": "code",
      "execution_count": null,
      "metadata": {
        "id": "O_N1FJ3l-0Tk"
      },
      "outputs": [],
      "source": [
        "subject10_X_predict = np.argmax(subject10_X_predict, axis = 1)\n",
        "subject11_X_predict = np.argmax(subject11_X_predict, axis = 1)\n",
        "subject12_X_predict = np.argmax(subject12_X_predict, axis = 1)"
      ]
    },
    {
      "cell_type": "code",
      "execution_count": null,
      "metadata": {
        "colab": {
          "base_uri": "https://localhost:8080/"
        },
        "id": "SI4DFl04_0z5",
        "outputId": "f11fb7d3-9260-4278-d96e-6536507e48c5"
      },
      "outputs": [
        {
          "output_type": "stream",
          "name": "stdout",
          "text": [
            "9498 12270 12940 11330\n"
          ]
        }
      ],
      "source": [
        "print(len(subject9_X_predict),len(subject10_X_predict),len(subject11_X_predict),len(subject12_X_predict))"
      ]
    },
    {
      "cell_type": "code",
      "execution_count": null,
      "metadata": {
        "colab": {
          "base_uri": "https://localhost:8080/"
        },
        "id": "O23KcQAy_uHO",
        "outputId": "fb13ff46-2df8-4ebb-e193-828fb3d47862"
      },
      "outputs": [
        {
          "output_type": "execute_result",
          "data": {
            "text/plain": [
              "Counter({0: 1616, 1: 10647, 3: 7})"
            ]
          },
          "metadata": {},
          "execution_count": 134
        }
      ],
      "source": [
        "counter_subject10_X_predict= Counter(subject10_X_predict)\n",
        "counter_subject10_X_predict"
      ]
    },
    {
      "cell_type": "code",
      "execution_count": null,
      "metadata": {
        "colab": {
          "base_uri": "https://localhost:8080/"
        },
        "id": "kqlRfNGj_y3g",
        "outputId": "95a9e542-d20d-435b-8f44-cf98bfd40cb7"
      },
      "outputs": [
        {
          "output_type": "execute_result",
          "data": {
            "text/plain": [
              "Counter({0: 1478, 2: 9, 1: 11453})"
            ]
          },
          "metadata": {},
          "execution_count": 135
        }
      ],
      "source": [
        "counter_subject11_X_predict= Counter(subject11_X_predict)\n",
        "counter_subject11_X_predict"
      ]
    },
    {
      "cell_type": "code",
      "execution_count": null,
      "metadata": {
        "colab": {
          "base_uri": "https://localhost:8080/"
        },
        "id": "Rx6fAQKFACb0",
        "outputId": "5dfa40ee-3ad1-40ea-a1d2-995a2e183623"
      },
      "outputs": [
        {
          "output_type": "execute_result",
          "data": {
            "text/plain": [
              "Counter({0: 3260, 1: 8066, 2: 4})"
            ]
          },
          "metadata": {},
          "execution_count": 136
        }
      ],
      "source": [
        "counter_subject12_X_predict= Counter(subject12_X_predict)\n",
        "counter_subject12_X_predict"
      ]
    },
    {
      "cell_type": "code",
      "source": [
        "subject9_X_predict"
      ],
      "metadata": {
        "colab": {
          "base_uri": "https://localhost:8080/"
        },
        "id": "MadfR0J1e3nM",
        "outputId": "9f0644f4-72e4-4c1e-ea81-c955fd8a72fd"
      },
      "execution_count": null,
      "outputs": [
        {
          "output_type": "execute_result",
          "data": {
            "text/plain": [
              "array([0, 0, 0, ..., 0, 0, 0])"
            ]
          },
          "metadata": {},
          "execution_count": 140
        }
      ]
    },
    {
      "cell_type": "code",
      "execution_count": null,
      "metadata": {
        "id": "yyedpF5hAEb5"
      },
      "outputs": [],
      "source": [
        "subject9 = pd.DataFrame(subject9_X_predict)"
      ]
    },
    {
      "cell_type": "code",
      "source": [
        "subject9.shape"
      ],
      "metadata": {
        "colab": {
          "base_uri": "https://localhost:8080/"
        },
        "id": "9m9p3SGnfFYN",
        "outputId": "d0d5ea15-bc0b-46d7-d2a5-6a56e87bc20c"
      },
      "execution_count": null,
      "outputs": [
        {
          "output_type": "execute_result",
          "data": {
            "text/plain": [
              "(9498, 1)"
            ]
          },
          "metadata": {},
          "execution_count": 143
        }
      ]
    },
    {
      "cell_type": "code",
      "source": [
        "subject9.to_csv('subject_009_01__y.csv',header=None, index = False)"
      ],
      "metadata": {
        "id": "KGQBt1_LfByw"
      },
      "execution_count": null,
      "outputs": []
    },
    {
      "cell_type": "code",
      "source": [
        "subject10 = pd.DataFrame(subject10_X_predict)\n",
        "subject10.to_csv('subject_010_01__y.csv',header=None, index = False)\n",
        "subject11 = pd.DataFrame(subject11_X_predict)\n",
        "subject11.to_csv('subject_011_01__y.csv',header=None, index = False)\n",
        "subject12 = pd.DataFrame(subject12_X_predict)\n",
        "subject12.to_csv('subject_012_01__y.csv',header=None, index = False)"
      ],
      "metadata": {
        "id": "mem4PS2CejMW"
      },
      "execution_count": null,
      "outputs": []
    },
    {
      "cell_type": "code",
      "execution_count": null,
      "metadata": {
        "id": "sSDklX97Aqo3"
      },
      "outputs": [],
      "source": []
    }
  ],
  "metadata": {
    "colab": {
      "provenance": []
    },
    "kernelspec": {
      "display_name": "Python 3",
      "name": "python3"
    },
    "language_info": {
      "name": "python"
    }
  },
  "nbformat": 4,
  "nbformat_minor": 0
}