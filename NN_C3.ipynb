{
  "cells": [
    {
      "cell_type": "code",
      "execution_count": 1,
      "metadata": {
        "id": "NbQfiQfeCtyE"
      },
      "outputs": [],
      "source": [
        "import pandas as pd\n",
        "import glob\n",
        "from sklearn.model_selection import train_test_split\n",
        "from sklearn import metrics\n",
        "import numpy as np\n",
        "from keras.models import Sequential\n",
        "from keras.layers import Dense\n",
        "from keras.layers import Flatten, Reshape\n",
        "from keras.utils import to_categorical\n",
        "from keras.layers.convolutional import Conv1D\n",
        "from keras.layers.convolutional import MaxPooling1D\n",
        "from keras.optimizers import SGD, Adam, RMSprop\n",
        "from keras.layers import Dropout, InputLayer, LSTM\n",
        "from keras.layers import Bidirectional, BatchNormalization\n",
        "from keras.layers import TimeDistributed\n",
        "from sklearn.utils import class_weight\n",
        "from sklearn.preprocessing import StandardScaler, OneHotEncoder\n",
        "import matplotlib.pyplot as plt\n",
        "from keras.layers import Conv1D, AveragePooling1D, Dropout, UpSampling1D, BatchNormalization, LeakyReLU\n",
        "from keras.regularizers import l1_l2\n",
        "from sklearn.metrics import f1_score\n",
        "from collections import Counter\n",
        "from IPython import embed\n",
        "import random\n",
        "import statistics as st\n",
        "from scipy import stats\n",
        "from sklearn.utils.class_weight import compute_class_weight\n",
        "import tensorflow as tf\n",
        "from keras.models import Sequential, model_from_json\n",
        "from keras.layers import Dense, Dropout, Bidirectional, LSTM\n",
        "from tensorflow.python.keras import regularizers\n",
        "from keras import backend as K\n",
        "\n",
        "from sklearn.metrics import classification_report"
      ]
    },
    {
      "cell_type": "code",
      "execution_count": 2,
      "metadata": {
        "id": "bEtUS840soR9"
      },
      "outputs": [],
      "source": [
        "train_path = '/content/drive/MyDrive/ECE542_sp2022_Project_TerrainRecognition/TrainingData/'\n",
        "test_path = '/content/drive/MyDrive/ECE542_sp2022_Project_TerrainRecognition/TestData/'"
      ]
    },
    {
      "cell_type": "code",
      "execution_count": 3,
      "metadata": {
        "id": "R807Z-Xi497o"
      },
      "outputs": [],
      "source": [
        "\n",
        "all_x_files = sorted(glob.glob(train_path + \"/subject_00*_*__x.csv\"))\n",
        "all_x_time_files = sorted(glob.glob(train_path + \"/subject_00*_*__x_time.csv\"))\n",
        "all_y_files = sorted(glob.glob(train_path + \"/subject_00*_*__y.csv\"))\n",
        "all_y_time_files = sorted(glob.glob(train_path + \"/subject_00*_*__y_time.csv\"))"
      ]
    },
    {
      "cell_type": "code",
      "execution_count": 4,
      "metadata": {
        "colab": {
          "base_uri": "https://localhost:8080/"
        },
        "id": "hEPv9w1Opy3r",
        "outputId": "987ca9f9-4bc0-4bff-9bac-d4b7a327944e"
      },
      "outputs": [
        {
          "output_type": "stream",
          "name": "stdout",
          "text": [
            "Training subjects: ['/content/drive/MyDrive/ECE542_sp2022_Project_TerrainRecognition/TrainingData/subject_001_05__x.csv', '/content/drive/MyDrive/ECE542_sp2022_Project_TerrainRecognition/TrainingData/subject_001_06__x.csv', '/content/drive/MyDrive/ECE542_sp2022_Project_TerrainRecognition/TrainingData/subject_001_07__x.csv', '/content/drive/MyDrive/ECE542_sp2022_Project_TerrainRecognition/TrainingData/subject_001_08__x.csv', '/content/drive/MyDrive/ECE542_sp2022_Project_TerrainRecognition/TrainingData/subject_002_01__x.csv', '/content/drive/MyDrive/ECE542_sp2022_Project_TerrainRecognition/TrainingData/subject_002_02__x.csv', '/content/drive/MyDrive/ECE542_sp2022_Project_TerrainRecognition/TrainingData/subject_002_03__x.csv', '/content/drive/MyDrive/ECE542_sp2022_Project_TerrainRecognition/TrainingData/subject_002_04__x.csv', '/content/drive/MyDrive/ECE542_sp2022_Project_TerrainRecognition/TrainingData/subject_002_05__x.csv', '/content/drive/MyDrive/ECE542_sp2022_Project_TerrainRecognition/TrainingData/subject_003_01__x.csv', '/content/drive/MyDrive/ECE542_sp2022_Project_TerrainRecognition/TrainingData/subject_003_02__x.csv', '/content/drive/MyDrive/ECE542_sp2022_Project_TerrainRecognition/TrainingData/subject_003_03__x.csv', '/content/drive/MyDrive/ECE542_sp2022_Project_TerrainRecognition/TrainingData/subject_004_01__x.csv', '/content/drive/MyDrive/ECE542_sp2022_Project_TerrainRecognition/TrainingData/subject_004_02__x.csv', '/content/drive/MyDrive/ECE542_sp2022_Project_TerrainRecognition/TrainingData/subject_005_01__x.csv', '/content/drive/MyDrive/ECE542_sp2022_Project_TerrainRecognition/TrainingData/subject_005_02__x.csv', '/content/drive/MyDrive/ECE542_sp2022_Project_TerrainRecognition/TrainingData/subject_005_03__x.csv', '/content/drive/MyDrive/ECE542_sp2022_Project_TerrainRecognition/TrainingData/subject_006_01__x.csv', '/content/drive/MyDrive/ECE542_sp2022_Project_TerrainRecognition/TrainingData/subject_006_02__x.csv', '/content/drive/MyDrive/ECE542_sp2022_Project_TerrainRecognition/TrainingData/subject_006_03__x.csv', '/content/drive/MyDrive/ECE542_sp2022_Project_TerrainRecognition/TrainingData/subject_007_01__x.csv', '/content/drive/MyDrive/ECE542_sp2022_Project_TerrainRecognition/TrainingData/subject_007_02__x.csv', '/content/drive/MyDrive/ECE542_sp2022_Project_TerrainRecognition/TrainingData/subject_007_03__x.csv', '/content/drive/MyDrive/ECE542_sp2022_Project_TerrainRecognition/TrainingData/subject_007_04__x.csv', '/content/drive/MyDrive/ECE542_sp2022_Project_TerrainRecognition/TrainingData/subject_008_01__x.csv']\n",
            "Validation subjects: ['/content/drive/MyDrive/ECE542_sp2022_Project_TerrainRecognition/TrainingData/subject_001_03__x.csv', '/content/drive/MyDrive/ECE542_sp2022_Project_TerrainRecognition/TrainingData/subject_001_04__x.csv']\n",
            "Testing subjects: ['/content/drive/MyDrive/ECE542_sp2022_Project_TerrainRecognition/TrainingData/subject_001_01__x.csv', '/content/drive/MyDrive/ECE542_sp2022_Project_TerrainRecognition/TrainingData/subject_001_02__x.csv']\n"
          ]
        }
      ],
      "source": [
        "num_test = 2\n",
        "num_val = 2\n",
        "\n",
        "subject_list_x_test = all_x_files[:num_test]\n",
        "subject_list_x_val = all_x_files[num_test:num_test+num_val]\n",
        "subject_list_x_train = all_x_files[num_test+num_val:]\n",
        "\n",
        "# print the train, val, and test lists\n",
        "print(\"Training subjects:\", subject_list_x_train)\n",
        "print(\"Validation subjects:\", subject_list_x_val)\n",
        "print(\"Testing subjects:\", subject_list_x_test)\n"
      ]
    },
    {
      "cell_type": "code",
      "execution_count": 5,
      "metadata": {
        "colab": {
          "base_uri": "https://localhost:8080/"
        },
        "id": "aiFAIyc8qDVT",
        "outputId": "32d5b3c8-3f4d-4e57-916a-21e2d7aaf408"
      },
      "outputs": [
        {
          "output_type": "stream",
          "name": "stdout",
          "text": [
            "Training subjects: ['/content/drive/MyDrive/ECE542_sp2022_Project_TerrainRecognition/TrainingData/subject_001_05__y.csv', '/content/drive/MyDrive/ECE542_sp2022_Project_TerrainRecognition/TrainingData/subject_001_06__y.csv', '/content/drive/MyDrive/ECE542_sp2022_Project_TerrainRecognition/TrainingData/subject_001_07__y.csv', '/content/drive/MyDrive/ECE542_sp2022_Project_TerrainRecognition/TrainingData/subject_001_08__y.csv', '/content/drive/MyDrive/ECE542_sp2022_Project_TerrainRecognition/TrainingData/subject_002_01__y.csv', '/content/drive/MyDrive/ECE542_sp2022_Project_TerrainRecognition/TrainingData/subject_002_02__y.csv', '/content/drive/MyDrive/ECE542_sp2022_Project_TerrainRecognition/TrainingData/subject_002_03__y.csv', '/content/drive/MyDrive/ECE542_sp2022_Project_TerrainRecognition/TrainingData/subject_002_04__y.csv', '/content/drive/MyDrive/ECE542_sp2022_Project_TerrainRecognition/TrainingData/subject_002_05__y.csv', '/content/drive/MyDrive/ECE542_sp2022_Project_TerrainRecognition/TrainingData/subject_003_01__y.csv', '/content/drive/MyDrive/ECE542_sp2022_Project_TerrainRecognition/TrainingData/subject_003_02__y.csv', '/content/drive/MyDrive/ECE542_sp2022_Project_TerrainRecognition/TrainingData/subject_003_03__y.csv', '/content/drive/MyDrive/ECE542_sp2022_Project_TerrainRecognition/TrainingData/subject_004_01__y.csv', '/content/drive/MyDrive/ECE542_sp2022_Project_TerrainRecognition/TrainingData/subject_004_02__y.csv', '/content/drive/MyDrive/ECE542_sp2022_Project_TerrainRecognition/TrainingData/subject_005_01__y.csv', '/content/drive/MyDrive/ECE542_sp2022_Project_TerrainRecognition/TrainingData/subject_005_02__y.csv', '/content/drive/MyDrive/ECE542_sp2022_Project_TerrainRecognition/TrainingData/subject_005_03__y.csv', '/content/drive/MyDrive/ECE542_sp2022_Project_TerrainRecognition/TrainingData/subject_006_01__y.csv', '/content/drive/MyDrive/ECE542_sp2022_Project_TerrainRecognition/TrainingData/subject_006_02__y.csv', '/content/drive/MyDrive/ECE542_sp2022_Project_TerrainRecognition/TrainingData/subject_006_03__y.csv', '/content/drive/MyDrive/ECE542_sp2022_Project_TerrainRecognition/TrainingData/subject_007_01__y.csv', '/content/drive/MyDrive/ECE542_sp2022_Project_TerrainRecognition/TrainingData/subject_007_02__y.csv', '/content/drive/MyDrive/ECE542_sp2022_Project_TerrainRecognition/TrainingData/subject_007_03__y.csv', '/content/drive/MyDrive/ECE542_sp2022_Project_TerrainRecognition/TrainingData/subject_007_04__y.csv', '/content/drive/MyDrive/ECE542_sp2022_Project_TerrainRecognition/TrainingData/subject_008_01__y.csv']\n",
            "Validation subjects: ['/content/drive/MyDrive/ECE542_sp2022_Project_TerrainRecognition/TrainingData/subject_001_03__y.csv', '/content/drive/MyDrive/ECE542_sp2022_Project_TerrainRecognition/TrainingData/subject_001_04__y.csv']\n",
            "Testing subjects: ['/content/drive/MyDrive/ECE542_sp2022_Project_TerrainRecognition/TrainingData/subject_001_01__y.csv', '/content/drive/MyDrive/ECE542_sp2022_Project_TerrainRecognition/TrainingData/subject_001_02__y.csv']\n"
          ]
        }
      ],
      "source": [
        "num_test = 2\n",
        "num_val = 2\n",
        "\n",
        "subject_list_y_test = all_y_files[:num_test]\n",
        "subject_list_y_val = all_y_files[num_test:num_test+num_val]\n",
        "subject_list_y_train = all_y_files[num_test+num_val:]\n",
        "\n",
        "# print the train, val, and test lists\n",
        "print(\"Training subjects:\", subject_list_y_train)\n",
        "print(\"Validation subjects:\", subject_list_y_val)\n",
        "print(\"Testing subjects:\", subject_list_y_test)"
      ]
    },
    {
      "cell_type": "code",
      "execution_count": 6,
      "metadata": {
        "colab": {
          "base_uri": "https://localhost:8080/"
        },
        "id": "uQBKFe0IUMdk",
        "outputId": "4eb5beda-ce4c-4ca6-b131-ddfb88a76247"
      },
      "outputs": [
        {
          "output_type": "execute_result",
          "data": {
            "text/plain": [
              "['/content/drive/MyDrive/ECE542_sp2022_Project_TerrainRecognition/TrainingData/subject_001_01__y_time.csv',\n",
              " '/content/drive/MyDrive/ECE542_sp2022_Project_TerrainRecognition/TrainingData/subject_001_02__y_time.csv']"
            ]
          },
          "metadata": {},
          "execution_count": 6
        }
      ],
      "source": [
        "subject_list_y_test_time = all_y_time_files[:num_test]\n",
        "subject_list_y_test_time"
      ]
    },
    {
      "cell_type": "code",
      "execution_count": 7,
      "metadata": {
        "id": "MdKyaKP_AGOD"
      },
      "outputs": [],
      "source": [
        "def upsampling(X_file, y_file):\n",
        "    df_X = pd.read_csv(X_file)\n",
        "    df_y = pd.read_csv(y_file)\n",
        "    print(\"df_X:\", df_X.shape)\n",
        "    print(\"df_Y:\", df_y.shape)\n",
        "    new_labels = []\n",
        "    for label in df_y.iterrows():\n",
        "        new_labels += [label[1][0]] * 4\n",
        "    \n",
        "    new_labels_df = pd.DataFrame(new_labels)\n",
        "    end_row = df_X.shape[0] - new_labels_df.shape[0]\n",
        "    df_X = df_X.iloc[:-end_row,:]\n",
        "    return df_X, new_labels_df"
      ]
    },
    {
      "cell_type": "code",
      "execution_count": 8,
      "metadata": {
        "id": "2dkdIyZmA1gs"
      },
      "outputs": [],
      "source": [
        "def scale_data(input_data, columns):\n",
        "    scaler = StandardScaler()\n",
        "    scaler = scaler.fit(input_data[columns])\n",
        "    input_data.loc[:, columns] = scaler.transform(input_data[columns].to_numpy())\n",
        "    return input_data "
      ]
    },
    {
      "cell_type": "code",
      "execution_count": 9,
      "metadata": {
        "id": "9TPJZRkYA5Sa"
      },
      "outputs": [],
      "source": [
        "def take_max_labels(X, y, window_size, step_size):\n",
        "    X_values = []\n",
        "    y_values = []\n",
        "    for i in range(0, len(X) - window_size, step_size):\n",
        "        value = X.iloc[i:(i + window_size)].values\n",
        "        X_values.append(value)\n",
        "        labels = y.iloc[i:(i + window_size)]\n",
        "        y_values.append(stats.mode(labels)[0][0])\n",
        "    return np.array(X_values) ,np.array(y_values).reshape(-1, 1)"
      ]
    },
    {
      "cell_type": "code",
      "execution_count": 10,
      "metadata": {
        "id": "C9LXxuD6B2L_"
      },
      "outputs": [],
      "source": [
        "def one_hot_encoding(labels):\n",
        "    training_y_encoded = to_categorical(labels, num_classes=4).reshape(-1,4)\n",
        "    return training_y_encoded"
      ]
    },
    {
      "cell_type": "code",
      "execution_count": 11,
      "metadata": {
        "id": "Em3C13DrCOWX"
      },
      "outputs": [],
      "source": [
        "def create_data(X_files, y_files, window_size, step_size):\n",
        "    combined_X = []\n",
        "    combined_y = []\n",
        "    for i in range(len(X_files)):\n",
        "        X, y = upsampling(X_files[i], y_files[i])\n",
        "        X = scale_data(X, list(X.columns.values))\n",
        "        X, y = take_max_labels(X, y, window_size, step_size)\n",
        "        print(\"X_mode:\",X.shape)\n",
        "        print(\"Y mode\", y.shape)\n",
        "        y = one_hot_encoding(y)\n",
        "        print(\"Y one hot\", y.shape)\n",
        "        combined_X.append(X)\n",
        "        combined_y.append(y)\n",
        "    return np.concatenate(combined_X), np.concatenate(combined_y)"
      ]
    },
    {
      "cell_type": "code",
      "execution_count": 13,
      "metadata": {
        "colab": {
          "base_uri": "https://localhost:8080/"
        },
        "id": "G8x9p2U-FINI",
        "outputId": "a51e7c3e-98d0-481c-ac37-5636abfc2281"
      },
      "outputs": [
        {
          "output_type": "stream",
          "name": "stdout",
          "text": [
            "df_X: (59120, 6)\n",
            "df_Y: (14779, 1)\n"
          ]
        },
        {
          "output_type": "stream",
          "name": "stderr",
          "text": [
            "/usr/local/lib/python3.10/dist-packages/sklearn/base.py:439: UserWarning: X does not have valid feature names, but StandardScaler was fitted with feature names\n",
            "  warnings.warn(\n",
            "<ipython-input-10-44586919988f>:8: FutureWarning: Unlike other reduction functions (e.g. `skew`, `kurtosis`), the default behavior of `mode` typically preserves the axis it acts along. In SciPy 1.11.0, this behavior will change: the default value of `keepdims` will become False, the `axis` over which the statistic is taken will be eliminated, and the value None will no longer be accepted. Set `keepdims` to True or False to avoid this warning.\n",
            "  y_values.append(stats.mode(labels)[0][0])\n"
          ]
        },
        {
          "output_type": "stream",
          "name": "stdout",
          "text": [
            "X_mode: (59076, 40, 6)\n",
            "Y mode (59076, 1)\n",
            "Y one hot (59076, 4)\n",
            "df_X: (38630, 6)\n",
            "df_Y: (9657, 1)\n"
          ]
        },
        {
          "output_type": "stream",
          "name": "stderr",
          "text": [
            "/usr/local/lib/python3.10/dist-packages/sklearn/base.py:439: UserWarning: X does not have valid feature names, but StandardScaler was fitted with feature names\n",
            "  warnings.warn(\n",
            "<ipython-input-10-44586919988f>:8: FutureWarning: Unlike other reduction functions (e.g. `skew`, `kurtosis`), the default behavior of `mode` typically preserves the axis it acts along. In SciPy 1.11.0, this behavior will change: the default value of `keepdims` will become False, the `axis` over which the statistic is taken will be eliminated, and the value None will no longer be accepted. Set `keepdims` to True or False to avoid this warning.\n",
            "  y_values.append(stats.mode(labels)[0][0])\n"
          ]
        },
        {
          "output_type": "stream",
          "name": "stdout",
          "text": [
            "X_mode: (38588, 40, 6)\n",
            "Y mode (38588, 1)\n",
            "Y one hot (38588, 4)\n",
            "df_X: (31422, 6)\n",
            "df_Y: (7855, 1)\n"
          ]
        },
        {
          "output_type": "stream",
          "name": "stderr",
          "text": [
            "/usr/local/lib/python3.10/dist-packages/sklearn/base.py:439: UserWarning: X does not have valid feature names, but StandardScaler was fitted with feature names\n",
            "  warnings.warn(\n",
            "<ipython-input-10-44586919988f>:8: FutureWarning: Unlike other reduction functions (e.g. `skew`, `kurtosis`), the default behavior of `mode` typically preserves the axis it acts along. In SciPy 1.11.0, this behavior will change: the default value of `keepdims` will become False, the `axis` over which the statistic is taken will be eliminated, and the value None will no longer be accepted. Set `keepdims` to True or False to avoid this warning.\n",
            "  y_values.append(stats.mode(labels)[0][0])\n"
          ]
        },
        {
          "output_type": "stream",
          "name": "stdout",
          "text": [
            "X_mode: (31380, 40, 6)\n",
            "Y mode (31380, 1)\n",
            "Y one hot (31380, 4)\n",
            "df_X: (66761, 6)\n",
            "df_Y: (16690, 1)\n"
          ]
        },
        {
          "output_type": "stream",
          "name": "stderr",
          "text": [
            "/usr/local/lib/python3.10/dist-packages/sklearn/base.py:439: UserWarning: X does not have valid feature names, but StandardScaler was fitted with feature names\n",
            "  warnings.warn(\n",
            "<ipython-input-10-44586919988f>:8: FutureWarning: Unlike other reduction functions (e.g. `skew`, `kurtosis`), the default behavior of `mode` typically preserves the axis it acts along. In SciPy 1.11.0, this behavior will change: the default value of `keepdims` will become False, the `axis` over which the statistic is taken will be eliminated, and the value None will no longer be accepted. Set `keepdims` to True or False to avoid this warning.\n",
            "  y_values.append(stats.mode(labels)[0][0])\n"
          ]
        },
        {
          "output_type": "stream",
          "name": "stdout",
          "text": [
            "X_mode: (66720, 40, 6)\n",
            "Y mode (66720, 1)\n",
            "Y one hot (66720, 4)\n",
            "df_X: (55998, 6)\n",
            "df_Y: (13999, 1)\n"
          ]
        },
        {
          "output_type": "stream",
          "name": "stderr",
          "text": [
            "/usr/local/lib/python3.10/dist-packages/sklearn/base.py:439: UserWarning: X does not have valid feature names, but StandardScaler was fitted with feature names\n",
            "  warnings.warn(\n",
            "<ipython-input-10-44586919988f>:8: FutureWarning: Unlike other reduction functions (e.g. `skew`, `kurtosis`), the default behavior of `mode` typically preserves the axis it acts along. In SciPy 1.11.0, this behavior will change: the default value of `keepdims` will become False, the `axis` over which the statistic is taken will be eliminated, and the value None will no longer be accepted. Set `keepdims` to True or False to avoid this warning.\n",
            "  y_values.append(stats.mode(labels)[0][0])\n"
          ]
        },
        {
          "output_type": "stream",
          "name": "stdout",
          "text": [
            "X_mode: (55956, 40, 6)\n",
            "Y mode (55956, 1)\n",
            "Y one hot (55956, 4)\n",
            "df_X: (55400, 6)\n",
            "df_Y: (13849, 1)\n"
          ]
        },
        {
          "output_type": "stream",
          "name": "stderr",
          "text": [
            "/usr/local/lib/python3.10/dist-packages/sklearn/base.py:439: UserWarning: X does not have valid feature names, but StandardScaler was fitted with feature names\n",
            "  warnings.warn(\n",
            "<ipython-input-10-44586919988f>:8: FutureWarning: Unlike other reduction functions (e.g. `skew`, `kurtosis`), the default behavior of `mode` typically preserves the axis it acts along. In SciPy 1.11.0, this behavior will change: the default value of `keepdims` will become False, the `axis` over which the statistic is taken will be eliminated, and the value None will no longer be accepted. Set `keepdims` to True or False to avoid this warning.\n",
            "  y_values.append(stats.mode(labels)[0][0])\n"
          ]
        },
        {
          "output_type": "stream",
          "name": "stdout",
          "text": [
            "X_mode: (55356, 40, 6)\n",
            "Y mode (55356, 1)\n",
            "Y one hot (55356, 4)\n",
            "df_X: (48796, 6)\n",
            "df_Y: (12198, 1)\n"
          ]
        },
        {
          "output_type": "stream",
          "name": "stderr",
          "text": [
            "/usr/local/lib/python3.10/dist-packages/sklearn/base.py:439: UserWarning: X does not have valid feature names, but StandardScaler was fitted with feature names\n",
            "  warnings.warn(\n",
            "<ipython-input-10-44586919988f>:8: FutureWarning: Unlike other reduction functions (e.g. `skew`, `kurtosis`), the default behavior of `mode` typically preserves the axis it acts along. In SciPy 1.11.0, this behavior will change: the default value of `keepdims` will become False, the `axis` over which the statistic is taken will be eliminated, and the value None will no longer be accepted. Set `keepdims` to True or False to avoid this warning.\n",
            "  y_values.append(stats.mode(labels)[0][0])\n"
          ]
        },
        {
          "output_type": "stream",
          "name": "stdout",
          "text": [
            "X_mode: (48752, 40, 6)\n",
            "Y mode (48752, 1)\n",
            "Y one hot (48752, 4)\n",
            "df_X: (51460, 6)\n",
            "df_Y: (12864, 1)\n"
          ]
        },
        {
          "output_type": "stream",
          "name": "stderr",
          "text": [
            "/usr/local/lib/python3.10/dist-packages/sklearn/base.py:439: UserWarning: X does not have valid feature names, but StandardScaler was fitted with feature names\n",
            "  warnings.warn(\n",
            "<ipython-input-10-44586919988f>:8: FutureWarning: Unlike other reduction functions (e.g. `skew`, `kurtosis`), the default behavior of `mode` typically preserves the axis it acts along. In SciPy 1.11.0, this behavior will change: the default value of `keepdims` will become False, the `axis` over which the statistic is taken will be eliminated, and the value None will no longer be accepted. Set `keepdims` to True or False to avoid this warning.\n",
            "  y_values.append(stats.mode(labels)[0][0])\n"
          ]
        },
        {
          "output_type": "stream",
          "name": "stdout",
          "text": [
            "X_mode: (51416, 40, 6)\n",
            "Y mode (51416, 1)\n",
            "Y one hot (51416, 4)\n",
            "df_X: (42318, 6)\n",
            "df_Y: (10579, 1)\n"
          ]
        },
        {
          "output_type": "stream",
          "name": "stderr",
          "text": [
            "/usr/local/lib/python3.10/dist-packages/sklearn/base.py:439: UserWarning: X does not have valid feature names, but StandardScaler was fitted with feature names\n",
            "  warnings.warn(\n",
            "<ipython-input-10-44586919988f>:8: FutureWarning: Unlike other reduction functions (e.g. `skew`, `kurtosis`), the default behavior of `mode` typically preserves the axis it acts along. In SciPy 1.11.0, this behavior will change: the default value of `keepdims` will become False, the `axis` over which the statistic is taken will be eliminated, and the value None will no longer be accepted. Set `keepdims` to True or False to avoid this warning.\n",
            "  y_values.append(stats.mode(labels)[0][0])\n"
          ]
        },
        {
          "output_type": "stream",
          "name": "stdout",
          "text": [
            "X_mode: (42276, 40, 6)\n",
            "Y mode (42276, 1)\n",
            "Y one hot (42276, 4)\n",
            "df_X: (36312, 6)\n",
            "df_Y: (9077, 1)\n"
          ]
        },
        {
          "output_type": "stream",
          "name": "stderr",
          "text": [
            "/usr/local/lib/python3.10/dist-packages/sklearn/base.py:439: UserWarning: X does not have valid feature names, but StandardScaler was fitted with feature names\n",
            "  warnings.warn(\n",
            "<ipython-input-10-44586919988f>:8: FutureWarning: Unlike other reduction functions (e.g. `skew`, `kurtosis`), the default behavior of `mode` typically preserves the axis it acts along. In SciPy 1.11.0, this behavior will change: the default value of `keepdims` will become False, the `axis` over which the statistic is taken will be eliminated, and the value None will no longer be accepted. Set `keepdims` to True or False to avoid this warning.\n",
            "  y_values.append(stats.mode(labels)[0][0])\n"
          ]
        },
        {
          "output_type": "stream",
          "name": "stdout",
          "text": [
            "X_mode: (36268, 40, 6)\n",
            "Y mode (36268, 1)\n",
            "Y one hot (36268, 4)\n",
            "df_X: (47209, 6)\n",
            "df_Y: (11802, 1)\n"
          ]
        },
        {
          "output_type": "stream",
          "name": "stderr",
          "text": [
            "/usr/local/lib/python3.10/dist-packages/sklearn/base.py:439: UserWarning: X does not have valid feature names, but StandardScaler was fitted with feature names\n",
            "  warnings.warn(\n",
            "<ipython-input-10-44586919988f>:8: FutureWarning: Unlike other reduction functions (e.g. `skew`, `kurtosis`), the default behavior of `mode` typically preserves the axis it acts along. In SciPy 1.11.0, this behavior will change: the default value of `keepdims` will become False, the `axis` over which the statistic is taken will be eliminated, and the value None will no longer be accepted. Set `keepdims` to True or False to avoid this warning.\n",
            "  y_values.append(stats.mode(labels)[0][0])\n"
          ]
        },
        {
          "output_type": "stream",
          "name": "stdout",
          "text": [
            "X_mode: (47168, 40, 6)\n",
            "Y mode (47168, 1)\n",
            "Y one hot (47168, 4)\n",
            "df_X: (19532, 6)\n",
            "df_Y: (4882, 1)\n"
          ]
        },
        {
          "output_type": "stream",
          "name": "stderr",
          "text": [
            "/usr/local/lib/python3.10/dist-packages/sklearn/base.py:439: UserWarning: X does not have valid feature names, but StandardScaler was fitted with feature names\n",
            "  warnings.warn(\n",
            "<ipython-input-10-44586919988f>:8: FutureWarning: Unlike other reduction functions (e.g. `skew`, `kurtosis`), the default behavior of `mode` typically preserves the axis it acts along. In SciPy 1.11.0, this behavior will change: the default value of `keepdims` will become False, the `axis` over which the statistic is taken will be eliminated, and the value None will no longer be accepted. Set `keepdims` to True or False to avoid this warning.\n",
            "  y_values.append(stats.mode(labels)[0][0])\n"
          ]
        },
        {
          "output_type": "stream",
          "name": "stdout",
          "text": [
            "X_mode: (19488, 40, 6)\n",
            "Y mode (19488, 1)\n",
            "Y one hot (19488, 4)\n",
            "df_X: (34308, 6)\n",
            "df_Y: (8576, 1)\n"
          ]
        },
        {
          "output_type": "stream",
          "name": "stderr",
          "text": [
            "/usr/local/lib/python3.10/dist-packages/sklearn/base.py:439: UserWarning: X does not have valid feature names, but StandardScaler was fitted with feature names\n",
            "  warnings.warn(\n",
            "<ipython-input-10-44586919988f>:8: FutureWarning: Unlike other reduction functions (e.g. `skew`, `kurtosis`), the default behavior of `mode` typically preserves the axis it acts along. In SciPy 1.11.0, this behavior will change: the default value of `keepdims` will become False, the `axis` over which the statistic is taken will be eliminated, and the value None will no longer be accepted. Set `keepdims` to True or False to avoid this warning.\n",
            "  y_values.append(stats.mode(labels)[0][0])\n"
          ]
        },
        {
          "output_type": "stream",
          "name": "stdout",
          "text": [
            "X_mode: (34264, 40, 6)\n",
            "Y mode (34264, 1)\n",
            "Y one hot (34264, 4)\n",
            "df_X: (34475, 6)\n",
            "df_Y: (8618, 1)\n"
          ]
        },
        {
          "output_type": "stream",
          "name": "stderr",
          "text": [
            "/usr/local/lib/python3.10/dist-packages/sklearn/base.py:439: UserWarning: X does not have valid feature names, but StandardScaler was fitted with feature names\n",
            "  warnings.warn(\n",
            "<ipython-input-10-44586919988f>:8: FutureWarning: Unlike other reduction functions (e.g. `skew`, `kurtosis`), the default behavior of `mode` typically preserves the axis it acts along. In SciPy 1.11.0, this behavior will change: the default value of `keepdims` will become False, the `axis` over which the statistic is taken will be eliminated, and the value None will no longer be accepted. Set `keepdims` to True or False to avoid this warning.\n",
            "  y_values.append(stats.mode(labels)[0][0])\n"
          ]
        },
        {
          "output_type": "stream",
          "name": "stdout",
          "text": [
            "X_mode: (34432, 40, 6)\n",
            "Y mode (34432, 1)\n",
            "Y one hot (34432, 4)\n",
            "df_X: (56078, 6)\n",
            "df_Y: (14019, 1)\n"
          ]
        },
        {
          "output_type": "stream",
          "name": "stderr",
          "text": [
            "/usr/local/lib/python3.10/dist-packages/sklearn/base.py:439: UserWarning: X does not have valid feature names, but StandardScaler was fitted with feature names\n",
            "  warnings.warn(\n",
            "<ipython-input-10-44586919988f>:8: FutureWarning: Unlike other reduction functions (e.g. `skew`, `kurtosis`), the default behavior of `mode` typically preserves the axis it acts along. In SciPy 1.11.0, this behavior will change: the default value of `keepdims` will become False, the `axis` over which the statistic is taken will be eliminated, and the value None will no longer be accepted. Set `keepdims` to True or False to avoid this warning.\n",
            "  y_values.append(stats.mode(labels)[0][0])\n"
          ]
        },
        {
          "output_type": "stream",
          "name": "stdout",
          "text": [
            "X_mode: (56036, 40, 6)\n",
            "Y mode (56036, 1)\n",
            "Y one hot (56036, 4)\n",
            "df_X: (34518, 6)\n",
            "df_Y: (8629, 1)\n"
          ]
        },
        {
          "output_type": "stream",
          "name": "stderr",
          "text": [
            "/usr/local/lib/python3.10/dist-packages/sklearn/base.py:439: UserWarning: X does not have valid feature names, but StandardScaler was fitted with feature names\n",
            "  warnings.warn(\n",
            "<ipython-input-10-44586919988f>:8: FutureWarning: Unlike other reduction functions (e.g. `skew`, `kurtosis`), the default behavior of `mode` typically preserves the axis it acts along. In SciPy 1.11.0, this behavior will change: the default value of `keepdims` will become False, the `axis` over which the statistic is taken will be eliminated, and the value None will no longer be accepted. Set `keepdims` to True or False to avoid this warning.\n",
            "  y_values.append(stats.mode(labels)[0][0])\n"
          ]
        },
        {
          "output_type": "stream",
          "name": "stdout",
          "text": [
            "X_mode: (34476, 40, 6)\n",
            "Y mode (34476, 1)\n",
            "Y one hot (34476, 4)\n",
            "df_X: (44904, 6)\n",
            "df_Y: (11225, 1)\n"
          ]
        },
        {
          "output_type": "stream",
          "name": "stderr",
          "text": [
            "/usr/local/lib/python3.10/dist-packages/sklearn/base.py:439: UserWarning: X does not have valid feature names, but StandardScaler was fitted with feature names\n",
            "  warnings.warn(\n",
            "<ipython-input-10-44586919988f>:8: FutureWarning: Unlike other reduction functions (e.g. `skew`, `kurtosis`), the default behavior of `mode` typically preserves the axis it acts along. In SciPy 1.11.0, this behavior will change: the default value of `keepdims` will become False, the `axis` over which the statistic is taken will be eliminated, and the value None will no longer be accepted. Set `keepdims` to True or False to avoid this warning.\n",
            "  y_values.append(stats.mode(labels)[0][0])\n"
          ]
        },
        {
          "output_type": "stream",
          "name": "stdout",
          "text": [
            "X_mode: (44860, 40, 6)\n",
            "Y mode (44860, 1)\n",
            "Y one hot (44860, 4)\n",
            "df_X: (48124, 6)\n",
            "df_Y: (12030, 1)\n"
          ]
        },
        {
          "output_type": "stream",
          "name": "stderr",
          "text": [
            "/usr/local/lib/python3.10/dist-packages/sklearn/base.py:439: UserWarning: X does not have valid feature names, but StandardScaler was fitted with feature names\n",
            "  warnings.warn(\n",
            "<ipython-input-10-44586919988f>:8: FutureWarning: Unlike other reduction functions (e.g. `skew`, `kurtosis`), the default behavior of `mode` typically preserves the axis it acts along. In SciPy 1.11.0, this behavior will change: the default value of `keepdims` will become False, the `axis` over which the statistic is taken will be eliminated, and the value None will no longer be accepted. Set `keepdims` to True or False to avoid this warning.\n",
            "  y_values.append(stats.mode(labels)[0][0])\n"
          ]
        },
        {
          "output_type": "stream",
          "name": "stdout",
          "text": [
            "X_mode: (48080, 40, 6)\n",
            "Y mode (48080, 1)\n",
            "Y one hot (48080, 4)\n",
            "df_X: (59561, 6)\n",
            "df_Y: (14890, 1)\n"
          ]
        },
        {
          "output_type": "stream",
          "name": "stderr",
          "text": [
            "/usr/local/lib/python3.10/dist-packages/sklearn/base.py:439: UserWarning: X does not have valid feature names, but StandardScaler was fitted with feature names\n",
            "  warnings.warn(\n",
            "<ipython-input-10-44586919988f>:8: FutureWarning: Unlike other reduction functions (e.g. `skew`, `kurtosis`), the default behavior of `mode` typically preserves the axis it acts along. In SciPy 1.11.0, this behavior will change: the default value of `keepdims` will become False, the `axis` over which the statistic is taken will be eliminated, and the value None will no longer be accepted. Set `keepdims` to True or False to avoid this warning.\n",
            "  y_values.append(stats.mode(labels)[0][0])\n"
          ]
        },
        {
          "output_type": "stream",
          "name": "stdout",
          "text": [
            "X_mode: (59520, 40, 6)\n",
            "Y mode (59520, 1)\n",
            "Y one hot (59520, 4)\n",
            "df_X: (45128, 6)\n",
            "df_Y: (11281, 1)\n"
          ]
        },
        {
          "output_type": "stream",
          "name": "stderr",
          "text": [
            "/usr/local/lib/python3.10/dist-packages/sklearn/base.py:439: UserWarning: X does not have valid feature names, but StandardScaler was fitted with feature names\n",
            "  warnings.warn(\n",
            "<ipython-input-10-44586919988f>:8: FutureWarning: Unlike other reduction functions (e.g. `skew`, `kurtosis`), the default behavior of `mode` typically preserves the axis it acts along. In SciPy 1.11.0, this behavior will change: the default value of `keepdims` will become False, the `axis` over which the statistic is taken will be eliminated, and the value None will no longer be accepted. Set `keepdims` to True or False to avoid this warning.\n",
            "  y_values.append(stats.mode(labels)[0][0])\n"
          ]
        },
        {
          "output_type": "stream",
          "name": "stdout",
          "text": [
            "X_mode: (45084, 40, 6)\n",
            "Y mode (45084, 1)\n",
            "Y one hot (45084, 4)\n",
            "df_X: (46200, 6)\n",
            "df_Y: (11549, 1)\n"
          ]
        },
        {
          "output_type": "stream",
          "name": "stderr",
          "text": [
            "/usr/local/lib/python3.10/dist-packages/sklearn/base.py:439: UserWarning: X does not have valid feature names, but StandardScaler was fitted with feature names\n",
            "  warnings.warn(\n",
            "<ipython-input-10-44586919988f>:8: FutureWarning: Unlike other reduction functions (e.g. `skew`, `kurtosis`), the default behavior of `mode` typically preserves the axis it acts along. In SciPy 1.11.0, this behavior will change: the default value of `keepdims` will become False, the `axis` over which the statistic is taken will be eliminated, and the value None will no longer be accepted. Set `keepdims` to True or False to avoid this warning.\n",
            "  y_values.append(stats.mode(labels)[0][0])\n"
          ]
        },
        {
          "output_type": "stream",
          "name": "stdout",
          "text": [
            "X_mode: (46156, 40, 6)\n",
            "Y mode (46156, 1)\n",
            "Y one hot (46156, 4)\n",
            "df_X: (46988, 6)\n",
            "df_Y: (11746, 1)\n"
          ]
        },
        {
          "output_type": "stream",
          "name": "stderr",
          "text": [
            "/usr/local/lib/python3.10/dist-packages/sklearn/base.py:439: UserWarning: X does not have valid feature names, but StandardScaler was fitted with feature names\n",
            "  warnings.warn(\n",
            "<ipython-input-10-44586919988f>:8: FutureWarning: Unlike other reduction functions (e.g. `skew`, `kurtosis`), the default behavior of `mode` typically preserves the axis it acts along. In SciPy 1.11.0, this behavior will change: the default value of `keepdims` will become False, the `axis` over which the statistic is taken will be eliminated, and the value None will no longer be accepted. Set `keepdims` to True or False to avoid this warning.\n",
            "  y_values.append(stats.mode(labels)[0][0])\n"
          ]
        },
        {
          "output_type": "stream",
          "name": "stdout",
          "text": [
            "X_mode: (46944, 40, 6)\n",
            "Y mode (46944, 1)\n",
            "Y one hot (46944, 4)\n",
            "df_X: (44640, 6)\n",
            "df_Y: (11159, 1)\n"
          ]
        },
        {
          "output_type": "stream",
          "name": "stderr",
          "text": [
            "/usr/local/lib/python3.10/dist-packages/sklearn/base.py:439: UserWarning: X does not have valid feature names, but StandardScaler was fitted with feature names\n",
            "  warnings.warn(\n",
            "<ipython-input-10-44586919988f>:8: FutureWarning: Unlike other reduction functions (e.g. `skew`, `kurtosis`), the default behavior of `mode` typically preserves the axis it acts along. In SciPy 1.11.0, this behavior will change: the default value of `keepdims` will become False, the `axis` over which the statistic is taken will be eliminated, and the value None will no longer be accepted. Set `keepdims` to True or False to avoid this warning.\n",
            "  y_values.append(stats.mode(labels)[0][0])\n"
          ]
        },
        {
          "output_type": "stream",
          "name": "stdout",
          "text": [
            "X_mode: (44596, 40, 6)\n",
            "Y mode (44596, 1)\n",
            "Y one hot (44596, 4)\n",
            "df_X: (39438, 6)\n",
            "df_Y: (9859, 1)\n"
          ]
        },
        {
          "output_type": "stream",
          "name": "stderr",
          "text": [
            "/usr/local/lib/python3.10/dist-packages/sklearn/base.py:439: UserWarning: X does not have valid feature names, but StandardScaler was fitted with feature names\n",
            "  warnings.warn(\n",
            "<ipython-input-10-44586919988f>:8: FutureWarning: Unlike other reduction functions (e.g. `skew`, `kurtosis`), the default behavior of `mode` typically preserves the axis it acts along. In SciPy 1.11.0, this behavior will change: the default value of `keepdims` will become False, the `axis` over which the statistic is taken will be eliminated, and the value None will no longer be accepted. Set `keepdims` to True or False to avoid this warning.\n",
            "  y_values.append(stats.mode(labels)[0][0])\n"
          ]
        },
        {
          "output_type": "stream",
          "name": "stdout",
          "text": [
            "X_mode: (39396, 40, 6)\n",
            "Y mode (39396, 1)\n",
            "Y one hot (39396, 4)\n",
            "df_X: (48137, 6)\n",
            "df_Y: (12034, 1)\n"
          ]
        },
        {
          "output_type": "stream",
          "name": "stderr",
          "text": [
            "/usr/local/lib/python3.10/dist-packages/sklearn/base.py:439: UserWarning: X does not have valid feature names, but StandardScaler was fitted with feature names\n",
            "  warnings.warn(\n",
            "<ipython-input-10-44586919988f>:8: FutureWarning: Unlike other reduction functions (e.g. `skew`, `kurtosis`), the default behavior of `mode` typically preserves the axis it acts along. In SciPy 1.11.0, this behavior will change: the default value of `keepdims` will become False, the `axis` over which the statistic is taken will be eliminated, and the value None will no longer be accepted. Set `keepdims` to True or False to avoid this warning.\n",
            "  y_values.append(stats.mode(labels)[0][0])\n"
          ]
        },
        {
          "output_type": "stream",
          "name": "stdout",
          "text": [
            "X_mode: (48096, 40, 6)\n",
            "Y mode (48096, 1)\n",
            "Y one hot (48096, 4)\n"
          ]
        }
      ],
      "source": [
        "x_train, y_train = create_data(subject_list_x_train, subject_list_y_train, 40, 1)"
      ]
    },
    {
      "cell_type": "code",
      "execution_count": null,
      "metadata": {
        "colab": {
          "base_uri": "https://localhost:8080/"
        },
        "id": "LUBwsm8oGG1w",
        "outputId": "cf086862-7701-4164-94c0-4c27b2627d96"
      },
      "outputs": [
        {
          "name": "stdout",
          "output_type": "stream",
          "text": [
            "df_X: (43145, 6)\n",
            "df_Y: (10786, 1)\n"
          ]
        },
        {
          "name": "stderr",
          "output_type": "stream",
          "text": [
            "/usr/local/lib/python3.9/dist-packages/sklearn/base.py:439: UserWarning: X does not have valid feature names, but StandardScaler was fitted with feature names\n",
            "  warnings.warn(\n",
            "<ipython-input-10-44586919988f>:8: FutureWarning: Unlike other reduction functions (e.g. `skew`, `kurtosis`), the default behavior of `mode` typically preserves the axis it acts along. In SciPy 1.11.0, this behavior will change: the default value of `keepdims` will become False, the `axis` over which the statistic is taken will be eliminated, and the value None will no longer be accepted. Set `keepdims` to True or False to avoid this warning.\n",
            "  y_values.append(stats.mode(labels)[0][0])\n"
          ]
        },
        {
          "name": "stdout",
          "output_type": "stream",
          "text": [
            "X_mode: (43104, 40, 6)\n",
            "Y mode (43104, 1)\n",
            "Y one hot (43104, 4)\n",
            "df_X: (54955, 6)\n",
            "df_Y: (13738, 1)\n"
          ]
        },
        {
          "name": "stderr",
          "output_type": "stream",
          "text": [
            "/usr/local/lib/python3.9/dist-packages/sklearn/base.py:439: UserWarning: X does not have valid feature names, but StandardScaler was fitted with feature names\n",
            "  warnings.warn(\n",
            "<ipython-input-10-44586919988f>:8: FutureWarning: Unlike other reduction functions (e.g. `skew`, `kurtosis`), the default behavior of `mode` typically preserves the axis it acts along. In SciPy 1.11.0, this behavior will change: the default value of `keepdims` will become False, the `axis` over which the statistic is taken will be eliminated, and the value None will no longer be accepted. Set `keepdims` to True or False to avoid this warning.\n",
            "  y_values.append(stats.mode(labels)[0][0])\n"
          ]
        },
        {
          "name": "stdout",
          "output_type": "stream",
          "text": [
            "X_mode: (54912, 40, 6)\n",
            "Y mode (54912, 1)\n",
            "Y one hot (54912, 4)\n"
          ]
        }
      ],
      "source": [
        "x_val, y_val = create_data(subject_list_x_val, subject_list_y_val, 40, 1)"
      ]
    },
    {
      "cell_type": "code",
      "execution_count": 12,
      "metadata": {
        "id": "U7b4QsOAc6mz"
      },
      "outputs": [],
      "source": [
        "combined_path = '/content/drive/MyDrive/ECE542_sp2022_Project_TerrainRecognition/combined_data/'"
      ]
    },
    {
      "cell_type": "code",
      "execution_count": null,
      "metadata": {
        "id": "P4KPfjv5WVnP"
      },
      "outputs": [],
      "source": [
        "np.save(combined_path + 'x_train.npy', x_train)\n",
        "np.save(combined_path + 'y_train.npy', y_train)\n",
        "np.save(combined_path + 'x_val.npy', x_val)\n",
        "np.save(combined_path +'y_val.npy', y_val)"
      ]
    },
    {
      "cell_type": "code",
      "execution_count": 13,
      "metadata": {
        "id": "rEWId-lge0OV"
      },
      "outputs": [],
      "source": [
        "x_train = np.load(combined_path + 'x_train.npy')\n",
        "y_train = np.load(combined_path + 'y_train.npy')\n",
        "x_val = np.load(combined_path + 'x_val.npy')\n",
        "y_val = np.load(combined_path +'y_val.npy')"
      ]
    },
    {
      "cell_type": "code",
      "execution_count": 14,
      "metadata": {
        "colab": {
          "base_uri": "https://localhost:8080/"
        },
        "id": "2HtPpX8SWK4R",
        "outputId": "8e597d50-0f6d-4731-b88d-ae795a02a143"
      },
      "outputs": [
        {
          "output_type": "stream",
          "name": "stdout",
          "text": [
            "(1134384, 40, 6) (1134384, 4)\n",
            "(98016, 40, 6) (98016, 4)\n"
          ]
        }
      ],
      "source": [
        "print(x_train.shape, y_train.shape)\n",
        "print(x_val.shape, y_val.shape)"
      ]
    },
    {
      "cell_type": "code",
      "execution_count": 15,
      "metadata": {
        "colab": {
          "base_uri": "https://localhost:8080/"
        },
        "id": "USfk2jlECKI5",
        "outputId": "6b79ebc2-1cda-453f-990b-df8cbc28a235"
      },
      "outputs": [
        {
          "output_type": "execute_result",
          "data": {
            "text/plain": [
              "{0: 0.3306717535178094,\n",
              " 1: 6.970872354546125,\n",
              " 2: 4.961354769860569,\n",
              " 3: 1.5851853508026652}"
            ]
          },
          "metadata": {},
          "execution_count": 15
        }
      ],
      "source": [
        "label_weights = compute_class_weight('balanced', classes=np.unique(np.argmax(y_train, axis=1)), y=np.argmax(y_train, axis=1))\n",
        "label_weights = {i:label_weights[i] for i in range(len(label_weights))}\n",
        "label_weights"
      ]
    },
    {
      "cell_type": "code",
      "execution_count": 16,
      "metadata": {
        "id": "Qv6f3yhKwI2i"
      },
      "outputs": [],
      "source": [
        "def recall_m(y_true, y_pred):\n",
        "    true_positives = K.sum(K.round(K.clip(y_true * y_pred, 0, 1)))\n",
        "    possible_positives = K.sum(K.round(K.clip(y_true, 0, 1)))\n",
        "    recall = true_positives / (possible_positives + K.epsilon())\n",
        "    return recall\n",
        "\n",
        "def precision_m(y_true, y_pred):\n",
        "    true_positives = K.sum(K.round(K.clip(y_true * y_pred, 0, 1)))\n",
        "    predicted_positives = K.sum(K.round(K.clip(y_pred, 0, 1)))\n",
        "    precision = true_positives / (predicted_positives + K.epsilon())\n",
        "    return precision\n",
        "\n",
        "def f1_m(y_true, y_pred):\n",
        "    precision = precision_m(y_true, y_pred)\n",
        "    recall = recall_m(y_true, y_pred)\n",
        "    return 2*((precision*recall)/(precision+recall+K.epsilon()))"
      ]
    },
    {
      "cell_type": "code",
      "execution_count": 17,
      "metadata": {
        "id": "8ti4E_yhVI7x"
      },
      "outputs": [],
      "source": [
        "def BiLSTM_model(training_X, training_y_encoded):\n",
        "    n_timesteps, n_features, n_outputs = training_X.shape[1], training_X.shape[2], training_y_encoded.shape[1]\n",
        "    model = Sequential()\n",
        "    model.add(Bidirectional(LSTM(units = 64, return_sequences=True), input_shape = (n_timesteps, n_features)))\n",
        "    model.add(BatchNormalization())\n",
        "    model.add(Dropout(rate = 0.5))\n",
        "    model.add(Bidirectional(LSTM(units = 64, return_sequences=True), input_shape = (n_timesteps, n_features)))\n",
        "    model.add(BatchNormalization())\n",
        "    model.add(Dropout(rate = 0.5))\n",
        "    model.add(Bidirectional(LSTM(units = 32, return_sequences=True), input_shape = (n_timesteps, n_features)))\n",
        "    model.add(BatchNormalization())\n",
        "    model.add(Dropout(rate = 0.4))\n",
        "    model.add(Flatten())\n",
        "    model.add(Dense(units = 100, activation = 'relu'))\n",
        "    model.add(Dense(units = 50, activation = 'relu'))\n",
        "    model.add(Dense(n_outputs, activation = 'softmax'))\n",
        "    model.compile(loss = 'categorical_crossentropy', optimizer = 'adam', metrics = ['acc', f1_m])\n",
        "    return model"
      ]
    },
    {
      "cell_type": "code",
      "execution_count": 18,
      "metadata": {
        "colab": {
          "base_uri": "https://localhost:8080/"
        },
        "id": "zAjHbm802X9y",
        "outputId": "147f541b-56e7-4178-affd-b0e77463a42a"
      },
      "outputs": [
        {
          "output_type": "stream",
          "name": "stdout",
          "text": [
            "Model: \"sequential\"\n",
            "_________________________________________________________________\n",
            " Layer (type)                Output Shape              Param #   \n",
            "=================================================================\n",
            " bidirectional (Bidirectiona  (None, 40, 128)          36352     \n",
            " l)                                                              \n",
            "                                                                 \n",
            " batch_normalization (BatchN  (None, 40, 128)          512       \n",
            " ormalization)                                                   \n",
            "                                                                 \n",
            " dropout (Dropout)           (None, 40, 128)           0         \n",
            "                                                                 \n",
            " bidirectional_1 (Bidirectio  (None, 40, 128)          98816     \n",
            " nal)                                                            \n",
            "                                                                 \n",
            " batch_normalization_1 (Batc  (None, 40, 128)          512       \n",
            " hNormalization)                                                 \n",
            "                                                                 \n",
            " dropout_1 (Dropout)         (None, 40, 128)           0         \n",
            "                                                                 \n",
            " bidirectional_2 (Bidirectio  (None, 40, 64)           41216     \n",
            " nal)                                                            \n",
            "                                                                 \n",
            " batch_normalization_2 (Batc  (None, 40, 64)           256       \n",
            " hNormalization)                                                 \n",
            "                                                                 \n",
            " dropout_2 (Dropout)         (None, 40, 64)            0         \n",
            "                                                                 \n",
            " flatten (Flatten)           (None, 2560)              0         \n",
            "                                                                 \n",
            " dense (Dense)               (None, 100)               256100    \n",
            "                                                                 \n",
            " dense_1 (Dense)             (None, 50)                5050      \n",
            "                                                                 \n",
            " dense_2 (Dense)             (None, 4)                 204       \n",
            "                                                                 \n",
            "=================================================================\n",
            "Total params: 439,018\n",
            "Trainable params: 438,378\n",
            "Non-trainable params: 640\n",
            "_________________________________________________________________\n"
          ]
        }
      ],
      "source": [
        "model_lstm = BiLSTM_model(x_train, y_train)\n",
        "model_lstm.summary()"
      ]
    },
    {
      "cell_type": "code",
      "execution_count": null,
      "metadata": {
        "id": "78x4LR522ciP"
      },
      "outputs": [],
      "source": [
        "with tf.device('/GPU:0'):\n",
        "  lstm_fit = model_lstm.fit(x_train, y_train, epochs=20, verbose=1, batch_size = 128, class_weight = label_weights, validation_data=(x_val, y_val), shuffle = True)"
      ]
    },
    {
      "cell_type": "code",
      "execution_count": 21,
      "metadata": {
        "id": "BNgRyNUmv4lT"
      },
      "outputs": [],
      "source": [
        "def save_model(model):\n",
        "    model_json = model.to_json()\n",
        "    with open(combined_path + 'model_lstm.json', 'w') as json_file:\n",
        "        json_file.write(model_json)\n",
        "    model.save_weights(combined_path + 'model_lstm.h5')\n",
        "    print('Saved model to disk.')"
      ]
    },
    {
      "cell_type": "code",
      "source": [
        "save_model(model_lstm)"
      ],
      "metadata": {
        "colab": {
          "base_uri": "https://localhost:8080/"
        },
        "id": "KnjP4By62Rmn",
        "outputId": "856c8630-0ac9-4650-db4d-6d265fcc92dc"
      },
      "execution_count": 22,
      "outputs": [
        {
          "output_type": "stream",
          "name": "stdout",
          "text": [
            "Saved model to disk.\n"
          ]
        }
      ]
    },
    {
      "cell_type": "code",
      "execution_count": 23,
      "metadata": {
        "id": "wmkehYwoM8Vd"
      },
      "outputs": [],
      "source": [
        "def load_model(model_file_name, weight_file_name):\n",
        "    json_file = open(model_file_name, 'r')\n",
        "    loaded_model_json = json_file.read()\n",
        "    json_file.close()\n",
        "    loaded_model = model_from_json(loaded_model_json)\n",
        "    # Load weights into new model\n",
        "    loaded_model.load_weights(weight_file_name)\n",
        "    print('Loaded model from disk.')\n",
        "    return loaded_model"
      ]
    },
    {
      "cell_type": "code",
      "execution_count": 24,
      "metadata": {
        "colab": {
          "base_uri": "https://localhost:8080/"
        },
        "id": "_ETnafSdNvHL",
        "outputId": "af1ba17d-ca5f-4eed-a510-89fddeff1cda"
      },
      "outputs": [
        {
          "output_type": "stream",
          "name": "stdout",
          "text": [
            "Loaded model from disk.\n"
          ]
        }
      ],
      "source": [
        "model_lstm = load_model(combined_path + 'model_lstm.json', combined_path + 'model_lstm.h5')"
      ]
    },
    {
      "cell_type": "code",
      "execution_count": 25,
      "metadata": {
        "id": "7hgFr5bmSBTi"
      },
      "outputs": [],
      "source": [
        "def create_test_dataset(X, window_size, step_size):\n",
        "    X_values = []\n",
        "    for i in range(0, len(X) - window_size, step_size):\n",
        "        value = X.iloc[i:(i + window_size)].values\n",
        "        X_values.append(value)        \n",
        "    return np.array(X_values)"
      ]
    },
    {
      "cell_type": "code",
      "execution_count": 26,
      "metadata": {
        "id": "Wn5M6xw7SBX-"
      },
      "outputs": [],
      "source": [
        "def get_test_labels(output):\n",
        "    new_labels = []\n",
        "    for i in range(0, output.shape[0], 4):\n",
        "        lst = list(output[i:i + 4])\n",
        "        new_labels.append(stats.mode(lst)[0][0])  \n",
        "    return np.array(new_labels).reshape(-1, 1)"
      ]
    },
    {
      "cell_type": "code",
      "execution_count": 27,
      "metadata": {
        "id": "Ulyz_e_pxOdm"
      },
      "outputs": [],
      "source": [
        "def get_predictions(subject_list_x_test, subject_list_y_test,window_size, output_filenames):\n",
        "  for i in range(len(subject_list_x_test)):\n",
        "      input_data = pd.read_csv(subject_list_x_test[i])\n",
        "\n",
        "      df = scale_data(input_data, list(input_data.columns.values))\n",
        "      \n",
        "      y_frame = pd.read_csv(subject_list_y_test[i])\n",
        "\n",
        "      addl = y_frame.shape[0] * 4 - df.shape[0] + window_size\n",
        "\n",
        "      addl_df = pd.DataFrame(df.iloc[-addl:])\n",
        "\n",
        "      df = df.append(addl_df)\n",
        "      X_test = create_test_dataset(df,window_size , 1)\n",
        "      y_test = model_lstm.predict(X_test, batch_size = 128, verbose = 1)\n",
        "      y_test_bool = np.argmax(y_test, axis = 1)\n",
        "      y_actual = get_test_labels(y_test_bool)\n",
        "      print(y_actual.size)\n",
        "      y_df = pd.DataFrame(y_actual)\n",
        "      y_df.to_csv(combined_path + output_filenames[i], index = False)"
      ]
    },
    {
      "cell_type": "code",
      "execution_count": 28,
      "metadata": {
        "id": "Kiu_qiof_Nw9"
      },
      "outputs": [],
      "source": [
        "output_filenames_test = ['y_pred1.csv', 'y_pred2.csv']"
      ]
    },
    {
      "cell_type": "code",
      "execution_count": 29,
      "metadata": {
        "colab": {
          "base_uri": "https://localhost:8080/",
          "height": 35
        },
        "id": "Oeo-rZI7KPEq",
        "outputId": "a83f8ab2-9c59-4aba-e0d3-3d678ac9d773"
      },
      "outputs": [
        {
          "output_type": "execute_result",
          "data": {
            "text/plain": [
              "'/content/drive/MyDrive/ECE542_sp2022_Project_TerrainRecognition/combined_data/'"
            ],
            "application/vnd.google.colaboratory.intrinsic+json": {
              "type": "string"
            }
          },
          "metadata": {},
          "execution_count": 29
        }
      ],
      "source": [
        "combined_path"
      ]
    },
    {
      "cell_type": "code",
      "execution_count": 30,
      "metadata": {
        "id": "SN2cXKT3_r6F"
      },
      "outputs": [],
      "source": [
        "window_size = 40"
      ]
    },
    {
      "cell_type": "code",
      "execution_count": 31,
      "metadata": {
        "colab": {
          "base_uri": "https://localhost:8080/"
        },
        "id": "VDsjYUL-_l4q",
        "outputId": "28ff58de-6c5d-4cb9-ca5e-6cde47bf4d81"
      },
      "outputs": [
        {
          "output_type": "stream",
          "name": "stderr",
          "text": [
            "/usr/local/lib/python3.10/dist-packages/sklearn/base.py:439: UserWarning: X does not have valid feature names, but StandardScaler was fitted with feature names\n",
            "  warnings.warn(\n",
            "<ipython-input-27-9fcf51075a30>:13: FutureWarning: The frame.append method is deprecated and will be removed from pandas in a future version. Use pandas.concat instead.\n",
            "  df = df.append(addl_df)\n"
          ]
        },
        {
          "output_type": "stream",
          "name": "stdout",
          "text": [
            "296/296 [==============================] - 9s 9ms/step\n"
          ]
        },
        {
          "output_type": "stream",
          "name": "stderr",
          "text": [
            "<ipython-input-26-2244fece8eaf>:5: FutureWarning: Unlike other reduction functions (e.g. `skew`, `kurtosis`), the default behavior of `mode` typically preserves the axis it acts along. In SciPy 1.11.0, this behavior will change: the default value of `keepdims` will become False, the `axis` over which the statistic is taken will be eliminated, and the value None will no longer be accepted. Set `keepdims` to True or False to avoid this warning.\n",
            "  new_labels.append(stats.mode(lst)[0][0])\n"
          ]
        },
        {
          "output_type": "stream",
          "name": "stdout",
          "text": [
            "9472\n"
          ]
        },
        {
          "output_type": "stream",
          "name": "stderr",
          "text": [
            "/usr/local/lib/python3.10/dist-packages/sklearn/base.py:439: UserWarning: X does not have valid feature names, but StandardScaler was fitted with feature names\n",
            "  warnings.warn(\n",
            "<ipython-input-27-9fcf51075a30>:13: FutureWarning: The frame.append method is deprecated and will be removed from pandas in a future version. Use pandas.concat instead.\n",
            "  df = df.append(addl_df)\n"
          ]
        },
        {
          "output_type": "stream",
          "name": "stdout",
          "text": [
            "549/549 [==============================] - 6s 7ms/step\n"
          ]
        },
        {
          "output_type": "stream",
          "name": "stderr",
          "text": [
            "<ipython-input-26-2244fece8eaf>:5: FutureWarning: Unlike other reduction functions (e.g. `skew`, `kurtosis`), the default behavior of `mode` typically preserves the axis it acts along. In SciPy 1.11.0, this behavior will change: the default value of `keepdims` will become False, the `axis` over which the statistic is taken will be eliminated, and the value None will no longer be accepted. Set `keepdims` to True or False to avoid this warning.\n",
            "  new_labels.append(stats.mode(lst)[0][0])\n"
          ]
        },
        {
          "output_type": "stream",
          "name": "stdout",
          "text": [
            "17542\n"
          ]
        }
      ],
      "source": [
        "get_predictions(subject_list_x_test, subject_list_y_test,window_size, output_filenames_test)"
      ]
    },
    {
      "cell_type": "code",
      "execution_count": 32,
      "metadata": {
        "id": "X3eWIgYMT4gW"
      },
      "outputs": [],
      "source": [
        "df = pd.read_csv(combined_path + 'y_pred1.csv')"
      ]
    },
    {
      "cell_type": "code",
      "execution_count": 33,
      "metadata": {
        "id": "sl_21Q_xD13y",
        "colab": {
          "base_uri": "https://localhost:8080/"
        },
        "outputId": "6bd9bc5e-c7bf-41cd-b6f6-f77c52ff0a8d"
      },
      "outputs": [
        {
          "output_type": "execute_result",
          "data": {
            "text/plain": [
              "0\n",
              "0    5631\n",
              "3    2776\n",
              "1    1064\n",
              "2       1\n",
              "dtype: int64"
            ]
          },
          "metadata": {},
          "execution_count": 33
        }
      ],
      "source": [
        "df.value_counts()"
      ]
    },
    {
      "cell_type": "code",
      "execution_count": 34,
      "metadata": {
        "colab": {
          "base_uri": "https://localhost:8080/"
        },
        "id": "l-m-We1hUlgW",
        "outputId": "2c70712e-4da2-43ac-fd37-d04bd98ca52c"
      },
      "outputs": [
        {
          "output_type": "execute_result",
          "data": {
            "text/plain": [
              "(9472, 1)"
            ]
          },
          "metadata": {},
          "execution_count": 34
        }
      ],
      "source": [
        "test_1 = pd.read_csv(subject_list_y_test[0])\n",
        "test_1.shape"
      ]
    },
    {
      "cell_type": "code",
      "execution_count": 35,
      "metadata": {
        "id": "cO4trX51D23n"
      },
      "outputs": [],
      "source": [
        "y_pred = df.values.ravel()  \n",
        "y_true = test_1.values.ravel() \n",
        "f1_macro = f1_score(y_true, y_pred, average='macro')"
      ]
    },
    {
      "cell_type": "code",
      "execution_count": null,
      "metadata": {
        "id": "5Jm29FZ6FOwO"
      },
      "outputs": [],
      "source": [
        "f1_macro"
      ]
    },
    {
      "cell_type": "code",
      "execution_count": 37,
      "metadata": {
        "id": "FEObZ50tFeoG"
      },
      "outputs": [],
      "source": [
        "df2 = pd.read_csv(combined_path + 'y_pred2.csv')"
      ]
    },
    {
      "cell_type": "code",
      "execution_count": null,
      "metadata": {
        "id": "puhav8ApU-Uz"
      },
      "outputs": [],
      "source": [
        "test_2 = pd.read_csv(subject_list_y_test[1])\n",
        "test_2.shape"
      ]
    },
    {
      "cell_type": "code",
      "execution_count": null,
      "metadata": {
        "id": "ZXGuypqoVCmp"
      },
      "outputs": [],
      "source": [
        "df2.shape"
      ]
    },
    {
      "cell_type": "code",
      "execution_count": null,
      "metadata": {
        "id": "nJrPeFxgVEUI"
      },
      "outputs": [],
      "source": [
        "y_pred = df2.values.ravel()  \n",
        "y_true = test_2.values.ravel() \n",
        "f1_macro = f1_score(y_true, y_pred, average='macro')\n",
        "f1_macro"
      ]
    },
    {
      "cell_type": "code",
      "execution_count": 41,
      "metadata": {
        "id": "Q5k3AqQN8_rv"
      },
      "outputs": [],
      "source": [
        "all_x_test_files = sorted(glob.glob(test_path + \"/subject_0*_*__x.csv\"))\n",
        "all_x_test_time_files = sorted(glob.glob(test_path + \"/subject_0*_*__x_time.csv\"))\n",
        "all_y_test_time_files = sorted(glob.glob(test_path + \"/subject_0*_*__y_time.csv\"))"
      ]
    },
    {
      "cell_type": "code",
      "execution_count": 42,
      "metadata": {
        "id": "EWkINE6k9ftM",
        "colab": {
          "base_uri": "https://localhost:8080/"
        },
        "outputId": "8354790b-5318-4a72-f0ff-6d0c9104fb49"
      },
      "outputs": [
        {
          "output_type": "execute_result",
          "data": {
            "text/plain": [
              "['/content/drive/MyDrive/ECE542_sp2022_Project_TerrainRecognition/TestData/subject_009_01__y_time.csv',\n",
              " '/content/drive/MyDrive/ECE542_sp2022_Project_TerrainRecognition/TestData/subject_010_01__y_time.csv',\n",
              " '/content/drive/MyDrive/ECE542_sp2022_Project_TerrainRecognition/TestData/subject_011_01__y_time.csv',\n",
              " '/content/drive/MyDrive/ECE542_sp2022_Project_TerrainRecognition/TestData/subject_012_01__y_time.csv']"
            ]
          },
          "metadata": {},
          "execution_count": 42
        }
      ],
      "source": [
        "all_y_test_time_files"
      ]
    },
    {
      "cell_type": "code",
      "execution_count": 43,
      "metadata": {
        "id": "67kq_W1E-RJC"
      },
      "outputs": [],
      "source": [
        "output_filenames = ['subject_009_01__y.csv','subject_010_01__y.csv','subject_011_01__y.csv','subject_012_01__y.csv']"
      ]
    },
    {
      "cell_type": "code",
      "execution_count": 44,
      "metadata": {
        "id": "Ux4YVW9P8271",
        "colab": {
          "base_uri": "https://localhost:8080/"
        },
        "outputId": "1be92544-49ac-4122-c4ae-3e3450e3a44f"
      },
      "outputs": [
        {
          "output_type": "stream",
          "name": "stderr",
          "text": [
            "/usr/local/lib/python3.10/dist-packages/sklearn/base.py:439: UserWarning: X does not have valid feature names, but StandardScaler was fitted with feature names\n",
            "  warnings.warn(\n",
            "<ipython-input-27-9fcf51075a30>:13: FutureWarning: The frame.append method is deprecated and will be removed from pandas in a future version. Use pandas.concat instead.\n",
            "  df = df.append(addl_df)\n"
          ]
        },
        {
          "output_type": "stream",
          "name": "stdout",
          "text": [
            "297/297 [==============================] - 2s 8ms/step\n"
          ]
        },
        {
          "output_type": "stream",
          "name": "stderr",
          "text": [
            "<ipython-input-26-2244fece8eaf>:5: FutureWarning: Unlike other reduction functions (e.g. `skew`, `kurtosis`), the default behavior of `mode` typically preserves the axis it acts along. In SciPy 1.11.0, this behavior will change: the default value of `keepdims` will become False, the `axis` over which the statistic is taken will be eliminated, and the value None will no longer be accepted. Set `keepdims` to True or False to avoid this warning.\n",
            "  new_labels.append(stats.mode(lst)[0][0])\n"
          ]
        },
        {
          "output_type": "stream",
          "name": "stdout",
          "text": [
            "9497\n"
          ]
        },
        {
          "output_type": "stream",
          "name": "stderr",
          "text": [
            "/usr/local/lib/python3.10/dist-packages/sklearn/base.py:439: UserWarning: X does not have valid feature names, but StandardScaler was fitted with feature names\n",
            "  warnings.warn(\n",
            "<ipython-input-27-9fcf51075a30>:13: FutureWarning: The frame.append method is deprecated and will be removed from pandas in a future version. Use pandas.concat instead.\n",
            "  df = df.append(addl_df)\n"
          ]
        },
        {
          "output_type": "stream",
          "name": "stdout",
          "text": [
            "384/384 [==============================] - 3s 7ms/step\n"
          ]
        },
        {
          "output_type": "stream",
          "name": "stderr",
          "text": [
            "<ipython-input-26-2244fece8eaf>:5: FutureWarning: Unlike other reduction functions (e.g. `skew`, `kurtosis`), the default behavior of `mode` typically preserves the axis it acts along. In SciPy 1.11.0, this behavior will change: the default value of `keepdims` will become False, the `axis` over which the statistic is taken will be eliminated, and the value None will no longer be accepted. Set `keepdims` to True or False to avoid this warning.\n",
            "  new_labels.append(stats.mode(lst)[0][0])\n"
          ]
        },
        {
          "output_type": "stream",
          "name": "stdout",
          "text": [
            "12269\n"
          ]
        },
        {
          "output_type": "stream",
          "name": "stderr",
          "text": [
            "/usr/local/lib/python3.10/dist-packages/sklearn/base.py:439: UserWarning: X does not have valid feature names, but StandardScaler was fitted with feature names\n",
            "  warnings.warn(\n",
            "<ipython-input-27-9fcf51075a30>:13: FutureWarning: The frame.append method is deprecated and will be removed from pandas in a future version. Use pandas.concat instead.\n",
            "  df = df.append(addl_df)\n"
          ]
        },
        {
          "output_type": "stream",
          "name": "stdout",
          "text": [
            "405/405 [==============================] - 3s 8ms/step\n"
          ]
        },
        {
          "output_type": "stream",
          "name": "stderr",
          "text": [
            "<ipython-input-26-2244fece8eaf>:5: FutureWarning: Unlike other reduction functions (e.g. `skew`, `kurtosis`), the default behavior of `mode` typically preserves the axis it acts along. In SciPy 1.11.0, this behavior will change: the default value of `keepdims` will become False, the `axis` over which the statistic is taken will be eliminated, and the value None will no longer be accepted. Set `keepdims` to True or False to avoid this warning.\n",
            "  new_labels.append(stats.mode(lst)[0][0])\n"
          ]
        },
        {
          "output_type": "stream",
          "name": "stdout",
          "text": [
            "12939\n"
          ]
        },
        {
          "output_type": "stream",
          "name": "stderr",
          "text": [
            "/usr/local/lib/python3.10/dist-packages/sklearn/base.py:439: UserWarning: X does not have valid feature names, but StandardScaler was fitted with feature names\n",
            "  warnings.warn(\n",
            "<ipython-input-27-9fcf51075a30>:13: FutureWarning: The frame.append method is deprecated and will be removed from pandas in a future version. Use pandas.concat instead.\n",
            "  df = df.append(addl_df)\n"
          ]
        },
        {
          "output_type": "stream",
          "name": "stdout",
          "text": [
            "355/355 [==============================] - 2s 7ms/step\n"
          ]
        },
        {
          "output_type": "stream",
          "name": "stderr",
          "text": [
            "<ipython-input-26-2244fece8eaf>:5: FutureWarning: Unlike other reduction functions (e.g. `skew`, `kurtosis`), the default behavior of `mode` typically preserves the axis it acts along. In SciPy 1.11.0, this behavior will change: the default value of `keepdims` will become False, the `axis` over which the statistic is taken will be eliminated, and the value None will no longer be accepted. Set `keepdims` to True or False to avoid this warning.\n",
            "  new_labels.append(stats.mode(lst)[0][0])\n"
          ]
        },
        {
          "output_type": "stream",
          "name": "stdout",
          "text": [
            "11329\n"
          ]
        }
      ],
      "source": [
        "get_predictions(all_x_test_files, all_y_test_time_files, window_size, output_filenames)"
      ]
    },
    {
      "cell_type": "code",
      "execution_count": 45,
      "metadata": {
        "id": "VGlufeWUAchk",
        "colab": {
          "base_uri": "https://localhost:8080/",
          "height": 424
        },
        "outputId": "9f6e4912-3179-43ba-f02d-bd2971782cfa"
      },
      "outputs": [
        {
          "output_type": "execute_result",
          "data": {
            "text/plain": [
              "             0\n",
              "0         0.02\n",
              "1         0.12\n",
              "2         0.22\n",
              "3         0.32\n",
              "4         0.42\n",
              "...        ...\n",
              "11325  1132.52\n",
              "11326  1132.62\n",
              "11327  1132.72\n",
              "11328  1132.82\n",
              "11329  1132.92\n",
              "\n",
              "[11330 rows x 1 columns]"
            ],
            "text/html": [
              "\n",
              "  <div id=\"df-342d3d01-6adf-4d08-ab48-0ea39b232f3b\">\n",
              "    <div class=\"colab-df-container\">\n",
              "      <div>\n",
              "<style scoped>\n",
              "    .dataframe tbody tr th:only-of-type {\n",
              "        vertical-align: middle;\n",
              "    }\n",
              "\n",
              "    .dataframe tbody tr th {\n",
              "        vertical-align: top;\n",
              "    }\n",
              "\n",
              "    .dataframe thead th {\n",
              "        text-align: right;\n",
              "    }\n",
              "</style>\n",
              "<table border=\"1\" class=\"dataframe\">\n",
              "  <thead>\n",
              "    <tr style=\"text-align: right;\">\n",
              "      <th></th>\n",
              "      <th>0</th>\n",
              "    </tr>\n",
              "  </thead>\n",
              "  <tbody>\n",
              "    <tr>\n",
              "      <th>0</th>\n",
              "      <td>0.02</td>\n",
              "    </tr>\n",
              "    <tr>\n",
              "      <th>1</th>\n",
              "      <td>0.12</td>\n",
              "    </tr>\n",
              "    <tr>\n",
              "      <th>2</th>\n",
              "      <td>0.22</td>\n",
              "    </tr>\n",
              "    <tr>\n",
              "      <th>3</th>\n",
              "      <td>0.32</td>\n",
              "    </tr>\n",
              "    <tr>\n",
              "      <th>4</th>\n",
              "      <td>0.42</td>\n",
              "    </tr>\n",
              "    <tr>\n",
              "      <th>...</th>\n",
              "      <td>...</td>\n",
              "    </tr>\n",
              "    <tr>\n",
              "      <th>11325</th>\n",
              "      <td>1132.52</td>\n",
              "    </tr>\n",
              "    <tr>\n",
              "      <th>11326</th>\n",
              "      <td>1132.62</td>\n",
              "    </tr>\n",
              "    <tr>\n",
              "      <th>11327</th>\n",
              "      <td>1132.72</td>\n",
              "    </tr>\n",
              "    <tr>\n",
              "      <th>11328</th>\n",
              "      <td>1132.82</td>\n",
              "    </tr>\n",
              "    <tr>\n",
              "      <th>11329</th>\n",
              "      <td>1132.92</td>\n",
              "    </tr>\n",
              "  </tbody>\n",
              "</table>\n",
              "<p>11330 rows × 1 columns</p>\n",
              "</div>\n",
              "      <button class=\"colab-df-convert\" onclick=\"convertToInteractive('df-342d3d01-6adf-4d08-ab48-0ea39b232f3b')\"\n",
              "              title=\"Convert this dataframe to an interactive table.\"\n",
              "              style=\"display:none;\">\n",
              "        \n",
              "  <svg xmlns=\"http://www.w3.org/2000/svg\" height=\"24px\"viewBox=\"0 0 24 24\"\n",
              "       width=\"24px\">\n",
              "    <path d=\"M0 0h24v24H0V0z\" fill=\"none\"/>\n",
              "    <path d=\"M18.56 5.44l.94 2.06.94-2.06 2.06-.94-2.06-.94-.94-2.06-.94 2.06-2.06.94zm-11 1L8.5 8.5l.94-2.06 2.06-.94-2.06-.94L8.5 2.5l-.94 2.06-2.06.94zm10 10l.94 2.06.94-2.06 2.06-.94-2.06-.94-.94-2.06-.94 2.06-2.06.94z\"/><path d=\"M17.41 7.96l-1.37-1.37c-.4-.4-.92-.59-1.43-.59-.52 0-1.04.2-1.43.59L10.3 9.45l-7.72 7.72c-.78.78-.78 2.05 0 2.83L4 21.41c.39.39.9.59 1.41.59.51 0 1.02-.2 1.41-.59l7.78-7.78 2.81-2.81c.8-.78.8-2.07 0-2.86zM5.41 20L4 18.59l7.72-7.72 1.47 1.35L5.41 20z\"/>\n",
              "  </svg>\n",
              "      </button>\n",
              "      \n",
              "  <style>\n",
              "    .colab-df-container {\n",
              "      display:flex;\n",
              "      flex-wrap:wrap;\n",
              "      gap: 12px;\n",
              "    }\n",
              "\n",
              "    .colab-df-convert {\n",
              "      background-color: #E8F0FE;\n",
              "      border: none;\n",
              "      border-radius: 50%;\n",
              "      cursor: pointer;\n",
              "      display: none;\n",
              "      fill: #1967D2;\n",
              "      height: 32px;\n",
              "      padding: 0 0 0 0;\n",
              "      width: 32px;\n",
              "    }\n",
              "\n",
              "    .colab-df-convert:hover {\n",
              "      background-color: #E2EBFA;\n",
              "      box-shadow: 0px 1px 2px rgba(60, 64, 67, 0.3), 0px 1px 3px 1px rgba(60, 64, 67, 0.15);\n",
              "      fill: #174EA6;\n",
              "    }\n",
              "\n",
              "    [theme=dark] .colab-df-convert {\n",
              "      background-color: #3B4455;\n",
              "      fill: #D2E3FC;\n",
              "    }\n",
              "\n",
              "    [theme=dark] .colab-df-convert:hover {\n",
              "      background-color: #434B5C;\n",
              "      box-shadow: 0px 1px 3px 1px rgba(0, 0, 0, 0.15);\n",
              "      filter: drop-shadow(0px 1px 2px rgba(0, 0, 0, 0.3));\n",
              "      fill: #FFFFFF;\n",
              "    }\n",
              "  </style>\n",
              "\n",
              "      <script>\n",
              "        const buttonEl =\n",
              "          document.querySelector('#df-342d3d01-6adf-4d08-ab48-0ea39b232f3b button.colab-df-convert');\n",
              "        buttonEl.style.display =\n",
              "          google.colab.kernel.accessAllowed ? 'block' : 'none';\n",
              "\n",
              "        async function convertToInteractive(key) {\n",
              "          const element = document.querySelector('#df-342d3d01-6adf-4d08-ab48-0ea39b232f3b');\n",
              "          const dataTable =\n",
              "            await google.colab.kernel.invokeFunction('convertToInteractive',\n",
              "                                                     [key], {});\n",
              "          if (!dataTable) return;\n",
              "\n",
              "          const docLinkHtml = 'Like what you see? Visit the ' +\n",
              "            '<a target=\"_blank\" href=https://colab.research.google.com/notebooks/data_table.ipynb>data table notebook</a>'\n",
              "            + ' to learn more about interactive tables.';\n",
              "          element.innerHTML = '';\n",
              "          dataTable['output_type'] = 'display_data';\n",
              "          await google.colab.output.renderOutput(dataTable, element);\n",
              "          const docLink = document.createElement('div');\n",
              "          docLink.innerHTML = docLinkHtml;\n",
              "          element.appendChild(docLink);\n",
              "        }\n",
              "      </script>\n",
              "    </div>\n",
              "  </div>\n",
              "  "
            ]
          },
          "metadata": {},
          "execution_count": 45
        }
      ],
      "source": [
        "test = pd.read_csv(all_y_test_time_files[3], header=None)\n",
        "test"
      ]
    },
    {
      "cell_type": "code",
      "execution_count": 46,
      "metadata": {
        "id": "fFyYoYQg82-d"
      },
      "outputs": [],
      "source": [
        "df2 = pd.read_csv(combined_path + 'subject_009_01__y.csv', header=None)"
      ]
    },
    {
      "cell_type": "code",
      "execution_count": 47,
      "metadata": {
        "id": "_gU4BwMlRCps",
        "colab": {
          "base_uri": "https://localhost:8080/",
          "height": 424
        },
        "outputId": "f2e8036e-d3c7-4a3b-956c-a347dd87f97a"
      },
      "outputs": [
        {
          "output_type": "execute_result",
          "data": {
            "text/plain": [
              "      0\n",
              "0     0\n",
              "1     0\n",
              "2     0\n",
              "3     0\n",
              "4     0\n",
              "...  ..\n",
              "9493  0\n",
              "9494  0\n",
              "9495  0\n",
              "9496  0\n",
              "9497  0\n",
              "\n",
              "[9498 rows x 1 columns]"
            ],
            "text/html": [
              "\n",
              "  <div id=\"df-0218a871-b08d-466e-acf4-63a31b06e775\">\n",
              "    <div class=\"colab-df-container\">\n",
              "      <div>\n",
              "<style scoped>\n",
              "    .dataframe tbody tr th:only-of-type {\n",
              "        vertical-align: middle;\n",
              "    }\n",
              "\n",
              "    .dataframe tbody tr th {\n",
              "        vertical-align: top;\n",
              "    }\n",
              "\n",
              "    .dataframe thead th {\n",
              "        text-align: right;\n",
              "    }\n",
              "</style>\n",
              "<table border=\"1\" class=\"dataframe\">\n",
              "  <thead>\n",
              "    <tr style=\"text-align: right;\">\n",
              "      <th></th>\n",
              "      <th>0</th>\n",
              "    </tr>\n",
              "  </thead>\n",
              "  <tbody>\n",
              "    <tr>\n",
              "      <th>0</th>\n",
              "      <td>0</td>\n",
              "    </tr>\n",
              "    <tr>\n",
              "      <th>1</th>\n",
              "      <td>0</td>\n",
              "    </tr>\n",
              "    <tr>\n",
              "      <th>2</th>\n",
              "      <td>0</td>\n",
              "    </tr>\n",
              "    <tr>\n",
              "      <th>3</th>\n",
              "      <td>0</td>\n",
              "    </tr>\n",
              "    <tr>\n",
              "      <th>4</th>\n",
              "      <td>0</td>\n",
              "    </tr>\n",
              "    <tr>\n",
              "      <th>...</th>\n",
              "      <td>...</td>\n",
              "    </tr>\n",
              "    <tr>\n",
              "      <th>9493</th>\n",
              "      <td>0</td>\n",
              "    </tr>\n",
              "    <tr>\n",
              "      <th>9494</th>\n",
              "      <td>0</td>\n",
              "    </tr>\n",
              "    <tr>\n",
              "      <th>9495</th>\n",
              "      <td>0</td>\n",
              "    </tr>\n",
              "    <tr>\n",
              "      <th>9496</th>\n",
              "      <td>0</td>\n",
              "    </tr>\n",
              "    <tr>\n",
              "      <th>9497</th>\n",
              "      <td>0</td>\n",
              "    </tr>\n",
              "  </tbody>\n",
              "</table>\n",
              "<p>9498 rows × 1 columns</p>\n",
              "</div>\n",
              "      <button class=\"colab-df-convert\" onclick=\"convertToInteractive('df-0218a871-b08d-466e-acf4-63a31b06e775')\"\n",
              "              title=\"Convert this dataframe to an interactive table.\"\n",
              "              style=\"display:none;\">\n",
              "        \n",
              "  <svg xmlns=\"http://www.w3.org/2000/svg\" height=\"24px\"viewBox=\"0 0 24 24\"\n",
              "       width=\"24px\">\n",
              "    <path d=\"M0 0h24v24H0V0z\" fill=\"none\"/>\n",
              "    <path d=\"M18.56 5.44l.94 2.06.94-2.06 2.06-.94-2.06-.94-.94-2.06-.94 2.06-2.06.94zm-11 1L8.5 8.5l.94-2.06 2.06-.94-2.06-.94L8.5 2.5l-.94 2.06-2.06.94zm10 10l.94 2.06.94-2.06 2.06-.94-2.06-.94-.94-2.06-.94 2.06-2.06.94z\"/><path d=\"M17.41 7.96l-1.37-1.37c-.4-.4-.92-.59-1.43-.59-.52 0-1.04.2-1.43.59L10.3 9.45l-7.72 7.72c-.78.78-.78 2.05 0 2.83L4 21.41c.39.39.9.59 1.41.59.51 0 1.02-.2 1.41-.59l7.78-7.78 2.81-2.81c.8-.78.8-2.07 0-2.86zM5.41 20L4 18.59l7.72-7.72 1.47 1.35L5.41 20z\"/>\n",
              "  </svg>\n",
              "      </button>\n",
              "      \n",
              "  <style>\n",
              "    .colab-df-container {\n",
              "      display:flex;\n",
              "      flex-wrap:wrap;\n",
              "      gap: 12px;\n",
              "    }\n",
              "\n",
              "    .colab-df-convert {\n",
              "      background-color: #E8F0FE;\n",
              "      border: none;\n",
              "      border-radius: 50%;\n",
              "      cursor: pointer;\n",
              "      display: none;\n",
              "      fill: #1967D2;\n",
              "      height: 32px;\n",
              "      padding: 0 0 0 0;\n",
              "      width: 32px;\n",
              "    }\n",
              "\n",
              "    .colab-df-convert:hover {\n",
              "      background-color: #E2EBFA;\n",
              "      box-shadow: 0px 1px 2px rgba(60, 64, 67, 0.3), 0px 1px 3px 1px rgba(60, 64, 67, 0.15);\n",
              "      fill: #174EA6;\n",
              "    }\n",
              "\n",
              "    [theme=dark] .colab-df-convert {\n",
              "      background-color: #3B4455;\n",
              "      fill: #D2E3FC;\n",
              "    }\n",
              "\n",
              "    [theme=dark] .colab-df-convert:hover {\n",
              "      background-color: #434B5C;\n",
              "      box-shadow: 0px 1px 3px 1px rgba(0, 0, 0, 0.15);\n",
              "      filter: drop-shadow(0px 1px 2px rgba(0, 0, 0, 0.3));\n",
              "      fill: #FFFFFF;\n",
              "    }\n",
              "  </style>\n",
              "\n",
              "      <script>\n",
              "        const buttonEl =\n",
              "          document.querySelector('#df-0218a871-b08d-466e-acf4-63a31b06e775 button.colab-df-convert');\n",
              "        buttonEl.style.display =\n",
              "          google.colab.kernel.accessAllowed ? 'block' : 'none';\n",
              "\n",
              "        async function convertToInteractive(key) {\n",
              "          const element = document.querySelector('#df-0218a871-b08d-466e-acf4-63a31b06e775');\n",
              "          const dataTable =\n",
              "            await google.colab.kernel.invokeFunction('convertToInteractive',\n",
              "                                                     [key], {});\n",
              "          if (!dataTable) return;\n",
              "\n",
              "          const docLinkHtml = 'Like what you see? Visit the ' +\n",
              "            '<a target=\"_blank\" href=https://colab.research.google.com/notebooks/data_table.ipynb>data table notebook</a>'\n",
              "            + ' to learn more about interactive tables.';\n",
              "          element.innerHTML = '';\n",
              "          dataTable['output_type'] = 'display_data';\n",
              "          await google.colab.output.renderOutput(dataTable, element);\n",
              "          const docLink = document.createElement('div');\n",
              "          docLink.innerHTML = docLinkHtml;\n",
              "          element.appendChild(docLink);\n",
              "        }\n",
              "      </script>\n",
              "    </div>\n",
              "  </div>\n",
              "  "
            ]
          },
          "metadata": {},
          "execution_count": 47
        }
      ],
      "source": [
        "df2"
      ]
    },
    {
      "cell_type": "code",
      "execution_count": 48,
      "metadata": {
        "id": "bp7bOU-r83A1",
        "colab": {
          "base_uri": "https://localhost:8080/"
        },
        "outputId": "8c7df03c-1929-43f0-97f9-a3a21e101f71"
      },
      "outputs": [
        {
          "output_type": "execute_result",
          "data": {
            "text/plain": [
              "0    7028\n",
              "3    1681\n",
              "1     787\n",
              "2       2\n",
              "dtype: int64"
            ]
          },
          "metadata": {},
          "execution_count": 48
        }
      ],
      "source": [
        "df2.value_counts()"
      ]
    },
    {
      "cell_type": "code",
      "execution_count": null,
      "metadata": {
        "id": "yO6kMu8wRaQz"
      },
      "outputs": [],
      "source": [
        "plt.plot(df2)"
      ]
    }
  ],
  "metadata": {
    "accelerator": "GPU",
    "colab": {
      "provenance": []
    },
    "gpuClass": "standard",
    "kernelspec": {
      "display_name": "Python 3",
      "name": "python3"
    },
    "language_info": {
      "name": "python"
    }
  },
  "nbformat": 4,
  "nbformat_minor": 0
}